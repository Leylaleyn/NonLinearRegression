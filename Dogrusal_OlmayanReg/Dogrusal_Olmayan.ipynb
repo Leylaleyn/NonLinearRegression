{
 "cells": [
  {
   "cell_type": "markdown",
   "id": "5b94d74b-49ac-4e34-9cfa-721efeb53c12",
   "metadata": {},
   "source": [
    "# Doğrusal Olmayan Regresyon Modelleri"
   ]
  },
  {
   "cell_type": "code",
   "execution_count": 181,
   "id": "abcf9ce2-e6e6-4ee6-8369-562d5fdfa731",
   "metadata": {},
   "outputs": [],
   "source": [
    "import numpy as np\n",
    "import pandas as pd \n",
    "from sklearn.model_selection import train_test_split, GridSearchCV\n",
    "from sklearn.metrics import mean_squared_error, r2_score\n",
    "import matplotlib.pyplot as plt\n",
    "from sklearn.preprocessing import scale \n",
    "from sklearn.preprocessing import StandardScaler\n",
    "from sklearn import model_selection\n",
    "from sklearn.linear_model import LinearRegression\n",
    "from sklearn.tree import DecisionTreeRegressor\n",
    "from sklearn.neighbors import KNeighborsRegressor\n",
    "from sklearn.neural_network import MLPRegressor\n",
    "from sklearn.ensemble import RandomForestRegressor\n",
    "from sklearn.ensemble import GradientBoostingRegressor\n",
    "from sklearn import neighbors\n",
    "from sklearn.svm import SVR"
   ]
  },
  {
   "cell_type": "code",
   "execution_count": 182,
   "id": "b2739256-694a-4e43-acd6-ae6527ad30ee",
   "metadata": {},
   "outputs": [],
   "source": [
    "from warnings import filterwarnings\n",
    "filterwarnings('ignore')"
   ]
  },
  {
   "cell_type": "markdown",
   "id": "3a78418e-b637-4286-bf2e-dffbc352adb9",
   "metadata": {},
   "source": [
    "# KNN"
   ]
  },
  {
   "cell_type": "code",
   "execution_count": 183,
   "id": "3f243de5-4f18-4170-95ed-f905db57ed04",
   "metadata": {},
   "outputs": [],
   "source": [
    "df = pd.read_csv(\"Hitters.csv\")\n",
    "df = df.dropna()\n",
    "dms = pd.get_dummies(df[['League', 'Division', 'NewLeague']])\n",
    "y = df[\"Salary\"]\n",
    "X_ = df.drop(['Salary', 'League', 'Division', 'NewLeague'], axis=1).astype('float64')\n",
    "X = pd.concat([X_, dms[['League_N', 'Division_W', 'NewLeague_N']]], axis=1)\n",
    "X_train, X_test, y_train, y_test = train_test_split(X, y, test_size=0.25, random_state=42)"
   ]
  },
  {
   "cell_type": "code",
   "execution_count": 184,
   "id": "d5de7899-3437-41b8-9adb-0b43e582f2bf",
   "metadata": {
    "tags": []
   },
   "outputs": [
    {
     "data": {
      "text/html": [
       "<div>\n",
       "<style scoped>\n",
       "    .dataframe tbody tr th:only-of-type {\n",
       "        vertical-align: middle;\n",
       "    }\n",
       "\n",
       "    .dataframe tbody tr th {\n",
       "        vertical-align: top;\n",
       "    }\n",
       "\n",
       "    .dataframe thead th {\n",
       "        text-align: right;\n",
       "    }\n",
       "</style>\n",
       "<table border=\"1\" class=\"dataframe\">\n",
       "  <thead>\n",
       "    <tr style=\"text-align: right;\">\n",
       "      <th></th>\n",
       "      <th>AtBat</th>\n",
       "      <th>Hits</th>\n",
       "      <th>HmRun</th>\n",
       "      <th>Runs</th>\n",
       "      <th>RBI</th>\n",
       "      <th>Walks</th>\n",
       "      <th>Years</th>\n",
       "      <th>CAtBat</th>\n",
       "      <th>CHits</th>\n",
       "      <th>CHmRun</th>\n",
       "      <th>CRuns</th>\n",
       "      <th>CRBI</th>\n",
       "      <th>CWalks</th>\n",
       "      <th>PutOuts</th>\n",
       "      <th>Assists</th>\n",
       "      <th>Errors</th>\n",
       "      <th>League_N</th>\n",
       "      <th>Division_W</th>\n",
       "      <th>NewLeague_N</th>\n",
       "    </tr>\n",
       "  </thead>\n",
       "  <tbody>\n",
       "    <tr>\n",
       "      <th>183</th>\n",
       "      <td>328.0</td>\n",
       "      <td>91.0</td>\n",
       "      <td>12.0</td>\n",
       "      <td>51.0</td>\n",
       "      <td>43.0</td>\n",
       "      <td>33.0</td>\n",
       "      <td>2.0</td>\n",
       "      <td>342.0</td>\n",
       "      <td>94.0</td>\n",
       "      <td>12.0</td>\n",
       "      <td>51.0</td>\n",
       "      <td>44.0</td>\n",
       "      <td>33.0</td>\n",
       "      <td>145.0</td>\n",
       "      <td>59.0</td>\n",
       "      <td>8.0</td>\n",
       "      <td>1</td>\n",
       "      <td>0</td>\n",
       "      <td>1</td>\n",
       "    </tr>\n",
       "    <tr>\n",
       "      <th>229</th>\n",
       "      <td>514.0</td>\n",
       "      <td>144.0</td>\n",
       "      <td>0.0</td>\n",
       "      <td>67.0</td>\n",
       "      <td>54.0</td>\n",
       "      <td>79.0</td>\n",
       "      <td>9.0</td>\n",
       "      <td>4739.0</td>\n",
       "      <td>1169.0</td>\n",
       "      <td>13.0</td>\n",
       "      <td>583.0</td>\n",
       "      <td>374.0</td>\n",
       "      <td>528.0</td>\n",
       "      <td>229.0</td>\n",
       "      <td>453.0</td>\n",
       "      <td>15.0</td>\n",
       "      <td>1</td>\n",
       "      <td>0</td>\n",
       "      <td>1</td>\n",
       "    </tr>\n",
       "    <tr>\n",
       "      <th>286</th>\n",
       "      <td>593.0</td>\n",
       "      <td>152.0</td>\n",
       "      <td>23.0</td>\n",
       "      <td>69.0</td>\n",
       "      <td>75.0</td>\n",
       "      <td>53.0</td>\n",
       "      <td>6.0</td>\n",
       "      <td>2765.0</td>\n",
       "      <td>686.0</td>\n",
       "      <td>133.0</td>\n",
       "      <td>369.0</td>\n",
       "      <td>384.0</td>\n",
       "      <td>321.0</td>\n",
       "      <td>315.0</td>\n",
       "      <td>10.0</td>\n",
       "      <td>6.0</td>\n",
       "      <td>0</td>\n",
       "      <td>1</td>\n",
       "      <td>0</td>\n",
       "    </tr>\n",
       "    <tr>\n",
       "      <th>102</th>\n",
       "      <td>233.0</td>\n",
       "      <td>49.0</td>\n",
       "      <td>2.0</td>\n",
       "      <td>41.0</td>\n",
       "      <td>23.0</td>\n",
       "      <td>18.0</td>\n",
       "      <td>8.0</td>\n",
       "      <td>1350.0</td>\n",
       "      <td>336.0</td>\n",
       "      <td>7.0</td>\n",
       "      <td>166.0</td>\n",
       "      <td>122.0</td>\n",
       "      <td>106.0</td>\n",
       "      <td>102.0</td>\n",
       "      <td>132.0</td>\n",
       "      <td>10.0</td>\n",
       "      <td>0</td>\n",
       "      <td>0</td>\n",
       "      <td>0</td>\n",
       "    </tr>\n",
       "    <tr>\n",
       "      <th>153</th>\n",
       "      <td>341.0</td>\n",
       "      <td>95.0</td>\n",
       "      <td>6.0</td>\n",
       "      <td>48.0</td>\n",
       "      <td>42.0</td>\n",
       "      <td>20.0</td>\n",
       "      <td>10.0</td>\n",
       "      <td>2964.0</td>\n",
       "      <td>808.0</td>\n",
       "      <td>81.0</td>\n",
       "      <td>379.0</td>\n",
       "      <td>428.0</td>\n",
       "      <td>221.0</td>\n",
       "      <td>158.0</td>\n",
       "      <td>4.0</td>\n",
       "      <td>5.0</td>\n",
       "      <td>1</td>\n",
       "      <td>1</td>\n",
       "      <td>1</td>\n",
       "    </tr>\n",
       "  </tbody>\n",
       "</table>\n",
       "</div>"
      ],
      "text/plain": [
       "     AtBat   Hits  HmRun  Runs   RBI  Walks  Years  CAtBat   CHits  CHmRun  \\\n",
       "183  328.0   91.0   12.0  51.0  43.0   33.0    2.0   342.0    94.0    12.0   \n",
       "229  514.0  144.0    0.0  67.0  54.0   79.0    9.0  4739.0  1169.0    13.0   \n",
       "286  593.0  152.0   23.0  69.0  75.0   53.0    6.0  2765.0   686.0   133.0   \n",
       "102  233.0   49.0    2.0  41.0  23.0   18.0    8.0  1350.0   336.0     7.0   \n",
       "153  341.0   95.0    6.0  48.0  42.0   20.0   10.0  2964.0   808.0    81.0   \n",
       "\n",
       "     CRuns   CRBI  CWalks  PutOuts  Assists  Errors  League_N  Division_W  \\\n",
       "183   51.0   44.0    33.0    145.0     59.0     8.0         1           0   \n",
       "229  583.0  374.0   528.0    229.0    453.0    15.0         1           0   \n",
       "286  369.0  384.0   321.0    315.0     10.0     6.0         0           1   \n",
       "102  166.0  122.0   106.0    102.0    132.0    10.0         0           0   \n",
       "153  379.0  428.0   221.0    158.0      4.0     5.0         1           1   \n",
       "\n",
       "     NewLeague_N  \n",
       "183            1  \n",
       "229            1  \n",
       "286            0  \n",
       "102            0  \n",
       "153            1  "
      ]
     },
     "execution_count": 184,
     "metadata": {},
     "output_type": "execute_result"
    }
   ],
   "source": [
    "X_train.head()"
   ]
  },
  {
   "cell_type": "markdown",
   "id": "f22421d5-f100-48a0-ae8c-77da2f282af8",
   "metadata": {},
   "source": [
    "## Model & Tahmin"
   ]
  },
  {
   "cell_type": "code",
   "execution_count": 185,
   "id": "bebbca1d-96b6-4f9f-9a67-8191fe02f0e6",
   "metadata": {},
   "outputs": [],
   "source": [
    "knn_model = KNeighborsRegressor().fit(X_train,y_train)"
   ]
  },
  {
   "cell_type": "code",
   "execution_count": 186,
   "id": "26441681-c060-4a81-81be-31fc046396c4",
   "metadata": {},
   "outputs": [
    {
     "data": {
      "text/plain": [
       "KNeighborsRegressor()"
      ]
     },
     "execution_count": 186,
     "metadata": {},
     "output_type": "execute_result"
    }
   ],
   "source": [
    "knn_model"
   ]
  },
  {
   "cell_type": "code",
   "execution_count": 187,
   "id": "d80ed53b-25ee-420c-b1ae-81cc8e8e9139",
   "metadata": {},
   "outputs": [
    {
     "data": {
      "text/plain": [
       "5"
      ]
     },
     "execution_count": 187,
     "metadata": {},
     "output_type": "execute_result"
    }
   ],
   "source": [
    "knn_model.n_neighbors # komşu sayısına ulaşabiliyoruz"
   ]
  },
  {
   "cell_type": "code",
   "execution_count": 188,
   "id": "0c2718aa-4d29-41f7-bea1-c338bf0d7c01",
   "metadata": {},
   "outputs": [
    {
     "data": {
      "text/plain": [
       "'minkowski'"
      ]
     },
     "execution_count": 188,
     "metadata": {},
     "output_type": "execute_result"
    }
   ],
   "source": [
    "knn_model.metric"
   ]
  },
  {
   "cell_type": "code",
   "execution_count": 189,
   "id": "c80fd7a1-a6d9-4197-81e3-8122ba0807ae",
   "metadata": {
    "tags": []
   },
   "outputs": [
    {
     "data": {
      "text/plain": [
       "['__abstractmethods__',\n",
       " '__class__',\n",
       " '__delattr__',\n",
       " '__dict__',\n",
       " '__dir__',\n",
       " '__doc__',\n",
       " '__eq__',\n",
       " '__format__',\n",
       " '__ge__',\n",
       " '__getattribute__',\n",
       " '__getstate__',\n",
       " '__gt__',\n",
       " '__hash__',\n",
       " '__init__',\n",
       " '__init_subclass__',\n",
       " '__le__',\n",
       " '__lt__',\n",
       " '__module__',\n",
       " '__ne__',\n",
       " '__new__',\n",
       " '__reduce__',\n",
       " '__reduce_ex__',\n",
       " '__repr__',\n",
       " '__setattr__',\n",
       " '__setstate__',\n",
       " '__sizeof__',\n",
       " '__str__',\n",
       " '__subclasshook__',\n",
       " '__weakref__',\n",
       " '_abc_impl',\n",
       " '_check_algorithm_metric',\n",
       " '_check_feature_names',\n",
       " '_check_n_features',\n",
       " '_estimator_type',\n",
       " '_fit',\n",
       " '_fit_X',\n",
       " '_fit_method',\n",
       " '_get_param_names',\n",
       " '_get_tags',\n",
       " '_kneighbors_reduce_func',\n",
       " '_more_tags',\n",
       " '_pairwise',\n",
       " '_repr_html_',\n",
       " '_repr_html_inner',\n",
       " '_repr_mimebundle_',\n",
       " '_tree',\n",
       " '_validate_data',\n",
       " '_y',\n",
       " 'algorithm',\n",
       " 'effective_metric_',\n",
       " 'effective_metric_params_',\n",
       " 'feature_names_in_',\n",
       " 'fit',\n",
       " 'get_params',\n",
       " 'kneighbors',\n",
       " 'kneighbors_graph',\n",
       " 'leaf_size',\n",
       " 'metric',\n",
       " 'metric_params',\n",
       " 'n_features_in_',\n",
       " 'n_jobs',\n",
       " 'n_neighbors',\n",
       " 'n_samples_fit_',\n",
       " 'p',\n",
       " 'predict',\n",
       " 'radius',\n",
       " 'score',\n",
       " 'set_params',\n",
       " 'weights']"
      ]
     },
     "execution_count": 189,
     "metadata": {},
     "output_type": "execute_result"
    }
   ],
   "source": [
    "dir(knn_model)"
   ]
  },
  {
   "cell_type": "markdown",
   "id": "605cd503-ea9f-4164-8c29-e700faad4b10",
   "metadata": {},
   "source": [
    "#### Tahmin"
   ]
  },
  {
   "cell_type": "code",
   "execution_count": 190,
   "id": "e63248f9-ca43-4bef-8d50-32116de8a456",
   "metadata": {},
   "outputs": [],
   "source": [
    "y_pred = knn_model.predict(X_test)"
   ]
  },
  {
   "cell_type": "code",
   "execution_count": 191,
   "id": "07ab6721-7c41-462b-8599-54b656f5e3ec",
   "metadata": {
    "tags": []
   },
   "outputs": [
    {
     "data": {
      "text/plain": [
       "426.6570764525201"
      ]
     },
     "execution_count": 191,
     "metadata": {},
     "output_type": "execute_result"
    }
   ],
   "source": [
    "np.sqrt(mean_squared_error(y_test,y_pred))"
   ]
  },
  {
   "cell_type": "markdown",
   "id": "ef343a84-c84b-4a3e-9656-2f9527e7419d",
   "metadata": {},
   "source": [
    "#### Model Tuning"
   ]
  },
  {
   "cell_type": "code",
   "execution_count": 192,
   "id": "1f0f877f-7b35-4f17-ae22-db6cca12d4ab",
   "metadata": {},
   "outputs": [
    {
     "data": {
      "text/plain": [
       "KNeighborsRegressor()"
      ]
     },
     "execution_count": 192,
     "metadata": {},
     "output_type": "execute_result"
    }
   ],
   "source": [
    "knn_model"
   ]
  },
  {
   "cell_type": "code",
   "execution_count": 193,
   "id": "22d89005-bd9e-4a54-85b5-5be9005391b7",
   "metadata": {},
   "outputs": [
    {
     "data": {
      "text/plain": [
       "range(0, 10)"
      ]
     },
     "execution_count": 193,
     "metadata": {},
     "output_type": "execute_result"
    }
   ],
   "source": [
    "range(10)   #0 dan 10 a kadar olan sayılar"
   ]
  },
  {
   "cell_type": "code",
   "execution_count": 194,
   "id": "5bab6ca2-8ad2-41d2-a2f5-c5b57c0ef410",
   "metadata": {},
   "outputs": [],
   "source": [
    "# komşu sayımızın farklı değerler aldığında ortaya nasıl durumlar çıkacağına bakmak istersek "
   ]
  },
  {
   "cell_type": "code",
   "execution_count": 195,
   "id": "7b447eba-a5f7-4c66-bcfe-2a447baad11a",
   "metadata": {
    "tags": []
   },
   "outputs": [
    {
     "name": "stdout",
     "output_type": "stream",
     "text": [
      "k= 1 için RMSE değer: 455.03925390751965\n",
      "k= 2 için RMSE değer: 415.99629571490965\n",
      "k= 3 için RMSE değer: 420.6765370082348\n",
      "k= 4 için RMSE değer: 428.8564674588792\n",
      "k= 5 için RMSE değer: 426.6570764525201\n",
      "k= 6 için RMSE değer: 423.5071669008732\n",
      "k= 7 için RMSE değer: 414.9361222421057\n",
      "k= 8 için RMSE değer: 413.7094731463598\n",
      "k= 9 için RMSE değer: 417.84419990871265\n",
      "k= 10 için RMSE değer: 421.6252180741266\n"
     ]
    }
   ],
   "source": [
    "RMSE = []\n",
    "\n",
    "for k in range(10):\n",
    "    k = k+1   #komşu sayısı arttıkça \n",
    "    knn_model = KNeighborsRegressor(n_neighbors = k).fit(X_train,y_train)\n",
    "    y_pred = knn_model.predict(X_test)\n",
    "    rmse = np.sqrt(mean_squared_error(y_test,y_pred))\n",
    "    RMSE.append(rmse)  \n",
    "    print(\"k=\",k,\"için RMSE değer:\",rmse)"
   ]
  },
  {
   "cell_type": "code",
   "execution_count": 196,
   "id": "3976d275-3698-4ecf-b9b2-d8f5f5b82b43",
   "metadata": {},
   "outputs": [],
   "source": [
    "# GridSearchCV  #üstteki yöntemin daha kısa hali"
   ]
  },
  {
   "cell_type": "code",
   "execution_count": 197,
   "id": "dc5fed64-0873-4001-9277-7acb5df49e98",
   "metadata": {},
   "outputs": [],
   "source": [
    "params = {\"n_neighbors\":np.arange(1,30,1)}"
   ]
  },
  {
   "cell_type": "code",
   "execution_count": 198,
   "id": "5bbabfab-5712-4ada-bd33-fae3beefc013",
   "metadata": {},
   "outputs": [],
   "source": [
    "knn_model = KNeighborsRegressor()"
   ]
  },
  {
   "cell_type": "code",
   "execution_count": 199,
   "id": "ee490a51-04d2-4d31-9f08-354d8254ab40",
   "metadata": {},
   "outputs": [],
   "source": [
    "knn_model_cv = GridSearchCV(knn_model,params,cv = 10).fit(X_train,y_train)"
   ]
  },
  {
   "cell_type": "code",
   "execution_count": 200,
   "id": "c8f106b1-723c-4dfb-bc4f-fcf637a510b3",
   "metadata": {},
   "outputs": [
    {
     "data": {
      "text/plain": [
       "{'n_neighbors': 8}"
      ]
     },
     "execution_count": 200,
     "metadata": {},
     "output_type": "execute_result"
    }
   ],
   "source": [
    "knn_model_cv.best_params_"
   ]
  },
  {
   "cell_type": "code",
   "execution_count": 201,
   "id": "54302b8a-07bd-4982-b379-8e405373606f",
   "metadata": {},
   "outputs": [],
   "source": [
    "# final model\n",
    "knn_tuned = KNeighborsRegressor(n_neighbors =knn_model_cv.best_params_[\"n_neighbors\"]).fit(X_train,y_train)"
   ]
  },
  {
   "cell_type": "code",
   "execution_count": 202,
   "id": "70773c8e-1921-4a4f-a9cc-abb731038239",
   "metadata": {},
   "outputs": [],
   "source": [
    "y_pred = knn_tuned.predict(X_test)"
   ]
  },
  {
   "cell_type": "code",
   "execution_count": 203,
   "id": "a5fbfb05-0667-4705-b7bc-27f54813ef90",
   "metadata": {
    "tags": []
   },
   "outputs": [
    {
     "data": {
      "text/plain": [
       "413.7094731463598"
      ]
     },
     "execution_count": 203,
     "metadata": {},
     "output_type": "execute_result"
    }
   ],
   "source": [
    "np.sqrt(mean_squared_error(y_test,y_pred))"
   ]
  },
  {
   "cell_type": "markdown",
   "id": "3868ac33-2ae9-429e-bb49-3692a0c0f8a4",
   "metadata": {},
   "source": [
    "# Destek Vektör Regresyonu (Support Vector Regression)"
   ]
  },
  {
   "cell_type": "code",
   "execution_count": 204,
   "id": "c2b3dd99-f154-4fb6-ae5a-c98a1dc8c1aa",
   "metadata": {},
   "outputs": [],
   "source": [
    "df = pd.read_csv(\"Hitters.csv\")\n",
    "df = df.dropna()\n",
    "dms = pd.get_dummies(df[['League', 'Division', 'NewLeague']])\n",
    "y = df[\"Salary\"]\n",
    "X_ = df.drop(['Salary', 'League', 'Division', 'NewLeague'], axis=1).astype('float64')\n",
    "X = pd.concat([X_, dms[['League_N', 'Division_W', 'NewLeague_N']]], axis=1)\n",
    "X_train, X_test, y_train, y_test = train_test_split(X, y, test_size=0.25, random_state=42)"
   ]
  },
  {
   "cell_type": "markdown",
   "id": "328588f9-a4f5-427c-b1b5-902e859b6526",
   "metadata": {},
   "source": [
    "## Model & Tahmin"
   ]
  },
  {
   "cell_type": "code",
   "execution_count": 205,
   "id": "07131714-d944-485d-8e49-41aa9c597465",
   "metadata": {},
   "outputs": [],
   "source": [
    "svr_model = SVR(kernel = \"linear\").fit(X_train,y_train) # modeli kurduk"
   ]
  },
  {
   "cell_type": "code",
   "execution_count": 206,
   "id": "e3020dc8-29ed-42df-b8a9-f6b8d5670cca",
   "metadata": {},
   "outputs": [
    {
     "data": {
      "text/plain": [
       "SVR(kernel='linear')"
      ]
     },
     "execution_count": 206,
     "metadata": {},
     "output_type": "execute_result"
    }
   ],
   "source": [
    "svr_model"
   ]
  },
  {
   "cell_type": "code",
   "execution_count": 207,
   "id": "21dd59a4-efe2-4715-b1e4-af0723240cb9",
   "metadata": {},
   "outputs": [
    {
     "data": {
      "text/plain": [
       "array([219.32622627, 702.43039317, 623.20559641, 153.77538484,\n",
       "       463.15191157])"
      ]
     },
     "execution_count": 207,
     "metadata": {},
     "output_type": "execute_result"
    }
   ],
   "source": [
    "svr_model.predict(X_train)[0:5]"
   ]
  },
  {
   "cell_type": "code",
   "execution_count": 208,
   "id": "8d5c736b-c98a-4742-a89b-5d228dcf4cda",
   "metadata": {},
   "outputs": [
    {
     "data": {
      "text/plain": [
       "array([679.14754919, 633.72883529, 925.68639938, 270.28464317,\n",
       "       530.26659421, 272.22606175, 549.4423224 , 446.55264396,\n",
       "       892.8309562 , 677.96856008])"
      ]
     },
     "execution_count": 208,
     "metadata": {},
     "output_type": "execute_result"
    }
   ],
   "source": [
    "svr_model.predict(X_test)[0:10]"
   ]
  },
  {
   "cell_type": "code",
   "execution_count": 209,
   "id": "600f3c8f-2b78-4c26-b466-da52f46a8910",
   "metadata": {},
   "outputs": [
    {
     "data": {
      "text/plain": [
       "array([-80.15196063])"
      ]
     },
     "execution_count": 209,
     "metadata": {},
     "output_type": "execute_result"
    }
   ],
   "source": [
    "svr_model.intercept_"
   ]
  },
  {
   "cell_type": "code",
   "execution_count": 210,
   "id": "c72ec1ce-acf7-4378-8204-30dc1840beb6",
   "metadata": {
    "tags": []
   },
   "outputs": [
    {
     "data": {
      "text/plain": [
       "array([[ -1.2183904 ,   6.09602978,  -3.67574533,   0.14217072,\n",
       "          0.51435925,   1.28388992,  12.55922527,  -0.08693754,\n",
       "          0.46597185,   2.98259931,   0.52944513,  -0.79820793,\n",
       "         -0.16015531,   0.30872795,   0.28842348,  -1.79560066,\n",
       "          6.41868986, -10.74313785,   1.33374319]])"
      ]
     },
     "execution_count": 210,
     "metadata": {},
     "output_type": "execute_result"
    }
   ],
   "source": [
    "svr_model.coef_"
   ]
  },
  {
   "cell_type": "code",
   "execution_count": 211,
   "id": "72be6873-9b92-4551-aaa5-bc2d59164285",
   "metadata": {},
   "outputs": [
    {
     "data": {
      "text/plain": [
       "370.0408415795005"
      ]
     },
     "execution_count": 211,
     "metadata": {},
     "output_type": "execute_result"
    }
   ],
   "source": [
    "# test\n",
    "\n",
    "y_pred = svr_model.predict(X_test)\n",
    "np.sqrt(mean_squared_error(y_test,y_pred))"
   ]
  },
  {
   "cell_type": "markdown",
   "id": "db6236a7-bdb4-4fb5-90c4-d287158cdb22",
   "metadata": {},
   "source": [
    "## Model Tuning"
   ]
  },
  {
   "cell_type": "code",
   "execution_count": 212,
   "id": "b65fabc1-dfb2-4854-abaf-9bc39f7ed7da",
   "metadata": {},
   "outputs": [],
   "source": [
    "svr_model = SVR()"
   ]
  },
  {
   "cell_type": "code",
   "execution_count": 213,
   "id": "78b95de5-72ba-4fbe-90ff-537f759eaed6",
   "metadata": {},
   "outputs": [],
   "source": [
    "svr_params = {\"C\" : [0.1,0.5,1,3]}"
   ]
  },
  {
   "cell_type": "code",
   "execution_count": 214,
   "id": "12a7b8c2-46ba-4e54-9a1c-abfa2319b51e",
   "metadata": {},
   "outputs": [],
   "source": [
    "svr_cv_model = GridSearchCV(svr_model,svr_params,cv = 5).fit(X_train,y_train)"
   ]
  },
  {
   "cell_type": "code",
   "execution_count": 215,
   "id": "9712a645-5f16-4a55-92e2-2db036aa6a8b",
   "metadata": {},
   "outputs": [
    {
     "data": {
      "text/plain": [
       "{'C': 3}"
      ]
     },
     "execution_count": 215,
     "metadata": {},
     "output_type": "execute_result"
    }
   ],
   "source": [
    "svr_cv_model.best_params_"
   ]
  },
  {
   "cell_type": "code",
   "execution_count": 216,
   "id": "9c6db0c7-9ed0-48ca-8b37-9ca6dde45a3d",
   "metadata": {},
   "outputs": [
    {
     "name": "stdout",
     "output_type": "stream",
     "text": [
      "Fitting 5 folds for each of 4 candidates, totalling 20 fits\n"
     ]
    }
   ],
   "source": [
    "svr_cv_model = GridSearchCV(svr_model,svr_params,cv = 5,verbose = 2,n_jobs = -1).fit(X_train,y_train)# verbose = çalışma esnasındaki durumu raporlar , njobs : bilgisayarda var olan işlemci gücünü max performans ile çalıştırır "
   ]
  },
  {
   "cell_type": "code",
   "execution_count": 217,
   "id": "05817350-4dbe-438a-a028-af3d226724fa",
   "metadata": {},
   "outputs": [],
   "source": [
    "svr_tuned = SVR(C = 3).fit(X_train,y_train)"
   ]
  },
  {
   "cell_type": "code",
   "execution_count": 218,
   "id": "4a3d8eaf-d240-4b84-b95d-c572f474abd6",
   "metadata": {},
   "outputs": [],
   "source": [
    "y_pred = svr_tuned.predict(X_test)"
   ]
  },
  {
   "cell_type": "code",
   "execution_count": 219,
   "id": "773f21da-dc23-4974-968a-0d336c08aa11",
   "metadata": {},
   "outputs": [
    {
     "data": {
      "text/plain": [
       "446.7237006897129"
      ]
     },
     "execution_count": 219,
     "metadata": {},
     "output_type": "execute_result"
    }
   ],
   "source": [
    "np.sqrt(mean_squared_error(y_test,y_pred))"
   ]
  },
  {
   "cell_type": "markdown",
   "id": "757c056e-b0cd-4e8c-95cb-9cbd7f82786c",
   "metadata": {},
   "source": [
    "# Yapay Sinir Ağları"
   ]
  },
  {
   "cell_type": "code",
   "execution_count": 220,
   "id": "63e05612-39f6-4ef9-b44e-52a81ce19a73",
   "metadata": {},
   "outputs": [],
   "source": [
    "df = pd.read_csv(\"Hitters.csv\")\n",
    "df = df.dropna()\n",
    "dms = pd.get_dummies(df[['League', 'Division', 'NewLeague']])\n",
    "y = df[\"Salary\"]\n",
    "X_ = df.drop(['Salary', 'League', 'Division', 'NewLeague'], axis=1).astype('float64')\n",
    "X = pd.concat([X_, dms[['League_N', 'Division_W', 'NewLeague_N']]], axis=1)\n",
    "X_train, X_test, y_train, y_test = train_test_split(X, y, test_size=0.25, random_state=42)"
   ]
  },
  {
   "cell_type": "markdown",
   "id": "0846a852-66ee-44c4-9a73-fc549cb1d51e",
   "metadata": {
    "tags": []
   },
   "source": [
    "## Model & Tahmin"
   ]
  },
  {
   "cell_type": "code",
   "execution_count": 221,
   "id": "189dbf48-0573-4b30-ba6a-f1ca6c848f1f",
   "metadata": {},
   "outputs": [],
   "source": [
    "# diğer bölümlerden farklı olarak standartlaştırma işlemleri gerçekleştireceğiz,bazı algoritmalar heterojen veri setlerinde iyi çalışırken bazı algoritmalar homojen veri setleri üzerinde daha iyi çalışır,yapay sinir ağları homojen veri setleri üzerinde daha iyi çalışır"
   ]
  },
  {
   "cell_type": "code",
   "execution_count": 222,
   "id": "ab2c1dd2-4abf-45ad-8bb7-c6d6a2d8910e",
   "metadata": {},
   "outputs": [],
   "source": [
    "scaler = StandardScaler()  #nesne oluşturduk"
   ]
  },
  {
   "cell_type": "code",
   "execution_count": 223,
   "id": "9a32a471-4c83-484a-9912-fc795c4c7c0c",
   "metadata": {},
   "outputs": [],
   "source": [
    "scaler.fit(X_train)# standartlaştırma işlemine tabi tutuyoruz  scaler = StandardScaler().fit(X_train)\n",
    "X_train_scaled = scaler.transform(X_train)"
   ]
  },
  {
   "cell_type": "code",
   "execution_count": 224,
   "id": "6c043958-c464-4a8b-b6b3-9f1d01447770",
   "metadata": {},
   "outputs": [],
   "source": [
    "X_test_scaled = scaler.transform(X_test)"
   ]
  },
  {
   "cell_type": "code",
   "execution_count": 225,
   "id": "cbb22cae-b896-49d7-b022-778ee2158c4a",
   "metadata": {},
   "outputs": [],
   "source": [
    "mlp_model = MLPRegressor().fit(X_train_scaled,y_train)"
   ]
  },
  {
   "cell_type": "code",
   "execution_count": 226,
   "id": "0150cbc4-974f-49af-8196-6b89696f7fde",
   "metadata": {},
   "outputs": [
    {
     "data": {
      "text/plain": [
       "MLPRegressor()"
      ]
     },
     "execution_count": 226,
     "metadata": {},
     "output_type": "execute_result"
    }
   ],
   "source": [
    "mlp_model"
   ]
  },
  {
   "cell_type": "code",
   "execution_count": 227,
   "id": "e911a2f5-a56d-4749-80f3-4ed19e181251",
   "metadata": {},
   "outputs": [
    {
     "data": {
      "text/plain": [
       "array([20.16922649, 39.7673236 , 68.71612828, 13.08723314, 33.75010793])"
      ]
     },
     "execution_count": 227,
     "metadata": {},
     "output_type": "execute_result"
    }
   ],
   "source": [
    "mlp_model.predict(X_test_scaled)[0:5]"
   ]
  },
  {
   "cell_type": "code",
   "execution_count": 228,
   "id": "421e8404-5dd4-4908-b4b4-46d9454fc2b2",
   "metadata": {},
   "outputs": [
    {
     "data": {
      "text/plain": [
       "446.7237006897129"
      ]
     },
     "execution_count": 228,
     "metadata": {},
     "output_type": "execute_result"
    }
   ],
   "source": [
    "np.sqrt(mean_squared_error(y_test,y_pred))"
   ]
  },
  {
   "cell_type": "markdown",
   "id": "0f68622a-14de-4b22-89b6-8a096c6abf12",
   "metadata": {
    "tags": []
   },
   "source": [
    "## Model Tuning"
   ]
  },
  {
   "cell_type": "code",
   "execution_count": 229,
   "id": "583793b3-eb7d-4e59-bc74-9eb3400a063f",
   "metadata": {},
   "outputs": [],
   "source": [
    "mlp_params = {\"alpha\" : [0.1,0.01,0.02,0.001,0.0001],   # alpha lar lamda değerleri yani ceza parametreleri\n",
    "              \"hidden_layer_sizes\" : [(10,20),(5,5),(100,100)]}      # girdiğimiz değer kadar katman girdiğimiz değerler kadar hücre oluşuyor (10,2) 2 katman var katmanların içindeki nöron sayısı 10 ve 2"
   ]
  },
  {
   "cell_type": "code",
   "execution_count": 230,
   "id": "65f6d495-8d76-4f97-857c-a931fd30a128",
   "metadata": {},
   "outputs": [
    {
     "name": "stdout",
     "output_type": "stream",
     "text": [
      "Fitting 10 folds for each of 15 candidates, totalling 150 fits\n"
     ]
    }
   ],
   "source": [
    "mlp_cv_model = GridSearchCV(mlp_model,mlp_params,cv = 10, verbose = 2,n_jobs = -1).fit(X_train_scaled,y_train)"
   ]
  },
  {
   "cell_type": "code",
   "execution_count": 231,
   "id": "62b692da-ea6e-4954-95ac-d2d507b8c216",
   "metadata": {},
   "outputs": [
    {
     "data": {
      "text/plain": [
       "{'alpha': 0.0001, 'hidden_layer_sizes': (100, 100)}"
      ]
     },
     "execution_count": 231,
     "metadata": {},
     "output_type": "execute_result"
    }
   ],
   "source": [
    "mlp_cv_model.best_params_"
   ]
  },
  {
   "cell_type": "code",
   "execution_count": 232,
   "id": "4cc44ab4-685c-40ce-a8e1-93c4a22952dc",
   "metadata": {},
   "outputs": [],
   "source": [
    "# final \n",
    "mlp_tuned = MLPRegressor(alpha = 0.001,hidden_layer_sizes =(100,100)).fit(X_train_scaled,y_train)"
   ]
  },
  {
   "cell_type": "code",
   "execution_count": 233,
   "id": "addb16ab-4406-423b-a313-5978fc77cb57",
   "metadata": {},
   "outputs": [],
   "source": [
    "y_pred = mlp_tuned.predict(X_test_scaled)"
   ]
  },
  {
   "cell_type": "code",
   "execution_count": 234,
   "id": "f4503afa-bb02-4607-b005-394b45c1400a",
   "metadata": {},
   "outputs": [
    {
     "data": {
      "text/plain": [
       "357.6130455517902"
      ]
     },
     "execution_count": 234,
     "metadata": {},
     "output_type": "execute_result"
    }
   ],
   "source": [
    "np.sqrt(mean_squared_error(y_test,y_pred))"
   ]
  },
  {
   "cell_type": "markdown",
   "id": "eb91afe8-4cea-41d1-a7c3-449e4b3ed2c5",
   "metadata": {
    "tags": []
   },
   "source": [
    "# CART (Classification and Regression Tree)"
   ]
  },
  {
   "cell_type": "code",
   "execution_count": 235,
   "id": "93b9aaa1-fa7a-4f65-adc6-2a402feb82c9",
   "metadata": {},
   "outputs": [],
   "source": [
    "df = pd.read_csv(\"Hitters.csv\")\n",
    "df = df.dropna()\n",
    "dms = pd.get_dummies(df[['League', 'Division', 'NewLeague']])\n",
    "y = df[\"Salary\"]\n",
    "X_ = df.drop(['Salary', 'League', 'Division', 'NewLeague'], axis=1).astype('float64')\n",
    "X = pd.concat([X_, dms[['League_N', 'Division_W', 'NewLeague_N']]], axis=1)\n",
    "X_train, X_test, y_train, y_test = train_test_split(X, \n",
    "                                                    y, \n",
    "                                                    test_size=0.25, \n",
    "                                                    random_state=42)"
   ]
  },
  {
   "cell_type": "code",
   "execution_count": 236,
   "id": "06c24857-4822-426f-90bf-959eab8bf366",
   "metadata": {},
   "outputs": [],
   "source": [
    "X_train = pd.DataFrame(X_train[\"Hits\"])  # hits isimli değişkenleri aldık\n",
    "X_test = pd.DataFrame(X_test[\"Hits\"])"
   ]
  },
  {
   "cell_type": "markdown",
   "id": "1b0b4969-86fd-42af-893c-b7319c22f465",
   "metadata": {},
   "source": [
    "## Model & Tahmin"
   ]
  },
  {
   "cell_type": "code",
   "execution_count": 237,
   "id": "5c29b46d-95e3-439f-a4be-c94d9b01165d",
   "metadata": {},
   "outputs": [],
   "source": [
    "cart_model = DecisionTreeRegressor(max_leaf_nodes = 3).fit(X_train,y_train)#max yaprak sayısını 3 olarak belirledik bu yüzden grafiğimizi etkiledi"
   ]
  },
  {
   "cell_type": "code",
   "execution_count": 238,
   "id": "2b05d711-3521-4e42-aa6e-14f44ffdd726",
   "metadata": {},
   "outputs": [],
   "source": [
    "# eksenlerde nasıl görselleştirebileceğimize bakmak istersek"
   ]
  },
  {
   "cell_type": "code",
   "execution_count": 239,
   "id": "d0bebfc6-f2b6-4f52-9553-aaf26d8252af",
   "metadata": {},
   "outputs": [
    {
     "data": {
      "image/png": "[encoded data removed]",
      "text/plain": [
       "<Figure size 432x288 with 1 Axes>"
      ]
     },
     "metadata": {
      "needs_background": "light"
     },
     "output_type": "display_data"
    }
   ],
   "source": [
    "X_grid = np.arange(min(np.array(X_train)),max(np.array(X_train)), 0.01) \n",
    "X_grid = X_grid.reshape((len(X_grid), 1))  \n",
    "  \n",
    "plt.scatter(X_train, y_train, color = 'red') \n",
    "  \n",
    "plt.plot(X_grid, cart_model.predict(X_grid), color = 'blue')  \n",
    "\n",
    "plt.title('CART REGRESYON AĞACI')  \n",
    "plt.xlabel('Atış Sayısı(Hits)') \n",
    "plt.ylabel('Maaş (Salary)') ;"
   ]
  },
  {
   "cell_type": "code",
   "execution_count": 240,
   "id": "f914ef74-953c-4e68-b796-c5d6ac61a834",
   "metadata": {},
   "outputs": [],
   "source": [
    "# tek degiskenli tahmin"
   ]
  },
  {
   "cell_type": "code",
   "execution_count": 241,
   "id": "39ee1fdb-3421-4c48-8ac0-2e0844147968",
   "metadata": {},
   "outputs": [
    {
     "data": {
      "text/plain": [
       "460.0663148428844"
      ]
     },
     "execution_count": 241,
     "metadata": {},
     "output_type": "execute_result"
    }
   ],
   "source": [
    "y_pred = cart_model.predict(X_test)\n",
    "np.sqrt(mean_squared_error(y_test,y_pred))"
   ]
  },
  {
   "cell_type": "code",
   "execution_count": 242,
   "id": "fb2b3caf-acf1-4bd2-ac69-f2315fa48e86",
   "metadata": {},
   "outputs": [],
   "source": [
    "# tum degiskenli tahmin"
   ]
  },
  {
   "cell_type": "code",
   "execution_count": 243,
   "id": "2aeae7bc-09d1-4163-a371-1f0e006bd4d9",
   "metadata": {},
   "outputs": [],
   "source": [
    "df = pd.read_csv(\"Hitters.csv\")\n",
    "df = df.dropna()\n",
    "dms = pd.get_dummies(df[['League', 'Division', 'NewLeague']])\n",
    "y = df[\"Salary\"]\n",
    "X_ = df.drop(['Salary', 'League', 'Division', 'NewLeague'], axis=1).astype('float64')\n",
    "X = pd.concat([X_, dms[['League_N', 'Division_W', 'NewLeague_N']]], axis=1)\n",
    "X_train, X_test, y_train, y_test = train_test_split(X, \n",
    "                                                    y, \n",
    "                                                    test_size=0.25, \n",
    "                                                    random_state=42)"
   ]
  },
  {
   "cell_type": "code",
   "execution_count": 244,
   "id": "3d46c79e-dee8-4c75-a309-ea4ccda7cc2f",
   "metadata": {},
   "outputs": [],
   "source": [
    "cart_model = DecisionTreeRegressor().fit(X_train,y_train)"
   ]
  },
  {
   "cell_type": "code",
   "execution_count": 245,
   "id": "99ebf8d2-5688-41c2-8c00-d67b206bf5a9",
   "metadata": {},
   "outputs": [
    {
     "data": {
      "text/plain": [
       "534.4417741255398"
      ]
     },
     "execution_count": 245,
     "metadata": {},
     "output_type": "execute_result"
    }
   ],
   "source": [
    "y_pred = cart_model.predict(X_test)\n",
    "np.sqrt(mean_squared_error(y_test,y_pred))"
   ]
  },
  {
   "cell_type": "code",
   "execution_count": 246,
   "id": "a2f05931-de09-40fd-b618-b1e74e63e258",
   "metadata": {},
   "outputs": [],
   "source": [
    "# burdan çıkarabileceğimiz sonuç : seçmiş oldugumuz tek değişkenin oldukça yüksek açıklanabilirlik sağladığı,diğer sonuç ise yeni değişkenler ekledikçe daha başarılı tahminler yapılabilmektedir."
   ]
  },
  {
   "cell_type": "code",
   "execution_count": 247,
   "id": "d7f675fd-b8dd-4b43-89ab-a7b69337e8cc",
   "metadata": {},
   "outputs": [
    {
     "data": {
      "text/plain": [
       "DecisionTreeRegressor()"
      ]
     },
     "execution_count": 247,
     "metadata": {},
     "output_type": "execute_result"
    }
   ],
   "source": [
    "cart_model"
   ]
  },
  {
   "cell_type": "code",
   "execution_count": 248,
   "id": "bc0b1ba2-31cc-4d6f-8f1a-576747036564",
   "metadata": {
    "collapsed": true,
    "jupyter": {
     "outputs_hidden": true
    },
    "tags": []
   },
   "outputs": [
    {
     "data": {
      "text/plain": [
       "\u001b[1;31mType:\u001b[0m        DecisionTreeRegressor\n",
       "\u001b[1;31mString form:\u001b[0m DecisionTreeRegressor()\n",
       "\u001b[1;31mFile:\u001b[0m        c:\\users\\aleyna\\anaconda3\\lib\\site-packages\\sklearn\\tree\\_classes.py\n",
       "\u001b[1;31mDocstring:\u001b[0m  \n",
       "A decision tree regressor.\n",
       "\n",
       "Read more in the :ref:`User Guide <tree>`.\n",
       "\n",
       "Parameters\n",
       "----------\n",
       "criterion : {\"squared_error\", \"friedman_mse\", \"absolute_error\",             \"poisson\"}, default=\"squared_error\"\n",
       "    The function to measure the quality of a split. Supported criteria\n",
       "    are \"squared_error\" for the mean squared error, which is equal to\n",
       "    variance reduction as feature selection criterion and minimizes the L2\n",
       "    loss using the mean of each terminal node, \"friedman_mse\", which uses\n",
       "    mean squared error with Friedman's improvement score for potential\n",
       "    splits, \"absolute_error\" for the mean absolute error, which minimizes\n",
       "    the L1 loss using the median of each terminal node, and \"poisson\" which\n",
       "    uses reduction in Poisson deviance to find splits.\n",
       "\n",
       "    .. versionadded:: 0.18\n",
       "       Mean Absolute Error (MAE) criterion.\n",
       "\n",
       "    .. versionadded:: 0.24\n",
       "        Poisson deviance criterion.\n",
       "\n",
       "    .. deprecated:: 1.0\n",
       "        Criterion \"mse\" was deprecated in v1.0 and will be removed in\n",
       "        version 1.2. Use `criterion=\"squared_error\"` which is equivalent.\n",
       "\n",
       "    .. deprecated:: 1.0\n",
       "        Criterion \"mae\" was deprecated in v1.0 and will be removed in\n",
       "        version 1.2. Use `criterion=\"absolute_error\"` which is equivalent.\n",
       "\n",
       "splitter : {\"best\", \"random\"}, default=\"best\"\n",
       "    The strategy used to choose the split at each node. Supported\n",
       "    strategies are \"best\" to choose the best split and \"random\" to choose\n",
       "    the best random split.\n",
       "\n",
       "max_depth : int, default=None\n",
       "    The maximum depth of the tree. If None, then nodes are expanded until\n",
       "    all leaves are pure or until all leaves contain less than\n",
       "    min_samples_split samples.\n",
       "\n",
       "min_samples_split : int or float, default=2\n",
       "    The minimum number of samples required to split an internal node:\n",
       "\n",
       "    - If int, then consider `min_samples_split` as the minimum number.\n",
       "    - If float, then `min_samples_split` is a fraction and\n",
       "      `ceil(min_samples_split * n_samples)` are the minimum\n",
       "      number of samples for each split.\n",
       "\n",
       "    .. versionchanged:: 0.18\n",
       "       Added float values for fractions.\n",
       "\n",
       "min_samples_leaf : int or float, default=1\n",
       "    The minimum number of samples required to be at a leaf node.\n",
       "    A split point at any depth will only be considered if it leaves at\n",
       "    least ``min_samples_leaf`` training samples in each of the left and\n",
       "    right branches.  This may have the effect of smoothing the model,\n",
       "    especially in regression.\n",
       "\n",
       "    - If int, then consider `min_samples_leaf` as the minimum number.\n",
       "    - If float, then `min_samples_leaf` is a fraction and\n",
       "      `ceil(min_samples_leaf * n_samples)` are the minimum\n",
       "      number of samples for each node.\n",
       "\n",
       "    .. versionchanged:: 0.18\n",
       "       Added float values for fractions.\n",
       "\n",
       "min_weight_fraction_leaf : float, default=0.0\n",
       "    The minimum weighted fraction of the sum total of weights (of all\n",
       "    the input samples) required to be at a leaf node. Samples have\n",
       "    equal weight when sample_weight is not provided.\n",
       "\n",
       "max_features : int, float or {\"auto\", \"sqrt\", \"log2\"}, default=None\n",
       "    The number of features to consider when looking for the best split:\n",
       "\n",
       "    - If int, then consider `max_features` features at each split.\n",
       "    - If float, then `max_features` is a fraction and\n",
       "      `int(max_features * n_features)` features are considered at each\n",
       "      split.\n",
       "    - If \"auto\", then `max_features=n_features`.\n",
       "    - If \"sqrt\", then `max_features=sqrt(n_features)`.\n",
       "    - If \"log2\", then `max_features=log2(n_features)`.\n",
       "    - If None, then `max_features=n_features`.\n",
       "\n",
       "    Note: the search for a split does not stop until at least one\n",
       "    valid partition of the node samples is found, even if it requires to\n",
       "    effectively inspect more than ``max_features`` features.\n",
       "\n",
       "random_state : int, RandomState instance or None, default=None\n",
       "    Controls the randomness of the estimator. The features are always\n",
       "    randomly permuted at each split, even if ``splitter`` is set to\n",
       "    ``\"best\"``. When ``max_features < n_features``, the algorithm will\n",
       "    select ``max_features`` at random at each split before finding the best\n",
       "    split among them. But the best found split may vary across different\n",
       "    runs, even if ``max_features=n_features``. That is the case, if the\n",
       "    improvement of the criterion is identical for several splits and one\n",
       "    split has to be selected at random. To obtain a deterministic behaviour\n",
       "    during fitting, ``random_state`` has to be fixed to an integer.\n",
       "    See :term:`Glossary <random_state>` for details.\n",
       "\n",
       "max_leaf_nodes : int, default=None\n",
       "    Grow a tree with ``max_leaf_nodes`` in best-first fashion.\n",
       "    Best nodes are defined as relative reduction in impurity.\n",
       "    If None then unlimited number of leaf nodes.\n",
       "\n",
       "min_impurity_decrease : float, default=0.0\n",
       "    A node will be split if this split induces a decrease of the impurity\n",
       "    greater than or equal to this value.\n",
       "\n",
       "    The weighted impurity decrease equation is the following::\n",
       "\n",
       "        N_t / N * (impurity - N_t_R / N_t * right_impurity\n",
       "                            - N_t_L / N_t * left_impurity)\n",
       "\n",
       "    where ``N`` is the total number of samples, ``N_t`` is the number of\n",
       "    samples at the current node, ``N_t_L`` is the number of samples in the\n",
       "    left child, and ``N_t_R`` is the number of samples in the right child.\n",
       "\n",
       "    ``N``, ``N_t``, ``N_t_R`` and ``N_t_L`` all refer to the weighted sum,\n",
       "    if ``sample_weight`` is passed.\n",
       "\n",
       "    .. versionadded:: 0.19\n",
       "\n",
       "ccp_alpha : non-negative float, default=0.0\n",
       "    Complexity parameter used for Minimal Cost-Complexity Pruning. The\n",
       "    subtree with the largest cost complexity that is smaller than\n",
       "    ``ccp_alpha`` will be chosen. By default, no pruning is performed. See\n",
       "    :ref:`minimal_cost_complexity_pruning` for details.\n",
       "\n",
       "    .. versionadded:: 0.22\n",
       "\n",
       "Attributes\n",
       "----------\n",
       "feature_importances_ : ndarray of shape (n_features,)\n",
       "    The feature importances.\n",
       "    The higher, the more important the feature.\n",
       "    The importance of a feature is computed as the\n",
       "    (normalized) total reduction of the criterion brought\n",
       "    by that feature. It is also known as the Gini importance [4]_.\n",
       "\n",
       "    Warning: impurity-based feature importances can be misleading for\n",
       "    high cardinality features (many unique values). See\n",
       "    :func:`sklearn.inspection.permutation_importance` as an alternative.\n",
       "\n",
       "max_features_ : int\n",
       "    The inferred value of max_features.\n",
       "\n",
       "n_features_ : int\n",
       "    The number of features when ``fit`` is performed.\n",
       "\n",
       "    .. deprecated:: 1.0\n",
       "       `n_features_` is deprecated in 1.0 and will be removed in\n",
       "       1.2. Use `n_features_in_` instead.\n",
       "\n",
       "n_features_in_ : int\n",
       "    Number of features seen during :term:`fit`.\n",
       "\n",
       "    .. versionadded:: 0.24\n",
       "\n",
       "feature_names_in_ : ndarray of shape (`n_features_in_`,)\n",
       "    Names of features seen during :term:`fit`. Defined only when `X`\n",
       "    has feature names that are all strings.\n",
       "\n",
       "    .. versionadded:: 1.0\n",
       "\n",
       "n_outputs_ : int\n",
       "    The number of outputs when ``fit`` is performed.\n",
       "\n",
       "tree_ : Tree instance\n",
       "    The underlying Tree object. Please refer to\n",
       "    ``help(sklearn.tree._tree.Tree)`` for attributes of Tree object and\n",
       "    :ref:`sphx_glr_auto_examples_tree_plot_unveil_tree_structure.py`\n",
       "    for basic usage of these attributes.\n",
       "\n",
       "See Also\n",
       "--------\n",
       "DecisionTreeClassifier : A decision tree classifier.\n",
       "\n",
       "Notes\n",
       "-----\n",
       "The default values for the parameters controlling the size of the trees\n",
       "(e.g. ``max_depth``, ``min_samples_leaf``, etc.) lead to fully grown and\n",
       "unpruned trees which can potentially be very large on some data sets. To\n",
       "reduce memory consumption, the complexity and size of the trees should be\n",
       "controlled by setting those parameter values.\n",
       "\n",
       "References\n",
       "----------\n",
       "\n",
       ".. [1] https://en.wikipedia.org/wiki/Decision_tree_learning\n",
       "\n",
       ".. [2] L. Breiman, J. Friedman, R. Olshen, and C. Stone, \"Classification\n",
       "       and Regression Trees\", Wadsworth, Belmont, CA, 1984.\n",
       "\n",
       ".. [3] T. Hastie, R. Tibshirani and J. Friedman. \"Elements of Statistical\n",
       "       Learning\", Springer, 2009.\n",
       "\n",
       ".. [4] L. Breiman, and A. Cutler, \"Random Forests\",\n",
       "       https://www.stat.berkeley.edu/~breiman/RandomForests/cc_home.htm\n",
       "\n",
       "Examples\n",
       "--------\n",
       ">>> from sklearn.datasets import load_diabetes\n",
       ">>> from sklearn.model_selection import cross_val_score\n",
       ">>> from sklearn.tree import DecisionTreeRegressor\n",
       ">>> X, y = load_diabetes(return_X_y=True)\n",
       ">>> regressor = DecisionTreeRegressor(random_state=0)\n",
       ">>> cross_val_score(regressor, X, y, cv=10)\n",
       "...                    # doctest: +SKIP\n",
       "...\n",
       "array([-0.39..., -0.46...,  0.02...,  0.06..., -0.50...,\n",
       "       0.16...,  0.11..., -0.73..., -0.30..., -0.00...])\n"
      ]
     },
     "metadata": {},
     "output_type": "display_data"
    }
   ],
   "source": [
    "?cart_model"
   ]
  },
  {
   "cell_type": "markdown",
   "id": "86108261-f80a-48bd-9320-7629aec4193d",
   "metadata": {},
   "source": [
    "## Model Tuning"
   ]
  },
  {
   "cell_type": "code",
   "execution_count": 249,
   "id": "103697e1-60c9-49c7-b8f6-52f1ecf7a5ba",
   "metadata": {},
   "outputs": [],
   "source": [
    "cart_model = DecisionTreeRegressor().fit(X_train, y_train)"
   ]
  },
  {
   "cell_type": "code",
   "execution_count": 250,
   "id": "dd299b80-e766-4ad3-af7d-8bb998953bbc",
   "metadata": {},
   "outputs": [],
   "source": [
    "cart_params = {\"max_depth\": [2,3,4,5,10,20],\n",
    "              \"min_samples_split\": [2,10,5,30,50,10]}"
   ]
  },
  {
   "cell_type": "code",
   "execution_count": 251,
   "id": "dc6659d6-feeb-4f39-8288-1e51b7cdc8ab",
   "metadata": {},
   "outputs": [],
   "source": [
    "cart_cv_model = GridSearchCV(cart_model,cart_params,cv = 10).fit(X_train,y_train)"
   ]
  },
  {
   "cell_type": "code",
   "execution_count": 252,
   "id": "187b5874-0bcf-4cf7-a951-027721fcf566",
   "metadata": {},
   "outputs": [
    {
     "data": {
      "text/plain": [
       "{'max_depth': 4, 'min_samples_split': 50}"
      ]
     },
     "execution_count": 252,
     "metadata": {},
     "output_type": "execute_result"
    }
   ],
   "source": [
    "cart_cv_model.best_params_"
   ]
  },
  {
   "cell_type": "code",
   "execution_count": 253,
   "id": "90010c76-a97c-41ef-8679-7563fd02dbd2",
   "metadata": {},
   "outputs": [],
   "source": [
    "#final model"
   ]
  },
  {
   "cell_type": "code",
   "execution_count": 254,
   "id": "aedc743a-05e7-4c08-be04-496c7161dea5",
   "metadata": {},
   "outputs": [],
   "source": [
    "cart_tuned =  DecisionTreeRegressor(max_depth = 4, min_samples_split = 50).fit(X_train, y_train)"
   ]
  },
  {
   "cell_type": "code",
   "execution_count": 255,
   "id": "337fa426-920a-45ac-ad45-64bf5d3bdb16",
   "metadata": {},
   "outputs": [],
   "source": [
    "y_pred = cart_tuned.predict(X_test)"
   ]
  },
  {
   "cell_type": "code",
   "execution_count": 256,
   "id": "de2a17a5-b412-452c-adfa-1eefa3d7b641",
   "metadata": {},
   "outputs": [
    {
     "data": {
      "text/plain": [
       "411.9886403043614"
      ]
     },
     "execution_count": 256,
     "metadata": {},
     "output_type": "execute_result"
    }
   ],
   "source": [
    "np.sqrt(mean_squared_error(y_test,y_pred))"
   ]
  },
  {
   "cell_type": "markdown",
   "id": "0c750320-ce52-409c-b536-afe71430bb16",
   "metadata": {
    "tags": []
   },
   "source": [
    "# Random Forests"
   ]
  },
  {
   "cell_type": "code",
   "execution_count": 257,
   "id": "112f56ea-d17d-47aa-ac1e-12df68faf485",
   "metadata": {},
   "outputs": [],
   "source": [
    "df = pd.read_csv(\"Hitters.csv\")\n",
    "df = df.dropna()\n",
    "dms = pd.get_dummies(df[['League', 'Division', 'NewLeague']])\n",
    "y = df[\"Salary\"]\n",
    "X_ = df.drop(['Salary', 'League', 'Division', 'NewLeague'], axis=1).astype('float64')\n",
    "X = pd.concat([X_, dms[['League_N', 'Division_W', 'NewLeague_N']]], axis=1)\n",
    "X_train, X_test, y_train, y_test = train_test_split(X, \n",
    "                                                    y, \n",
    "                                                    test_size=0.25, \n",
    "                                                    random_state=42)"
   ]
  },
  {
   "cell_type": "markdown",
   "id": "7267065c-46fa-4ada-8ce3-53df373fa824",
   "metadata": {},
   "source": [
    "## Model & Tahmin"
   ]
  },
  {
   "cell_type": "code",
   "execution_count": 258,
   "id": "05d53c41-f42b-4181-b65e-5f399989b957",
   "metadata": {},
   "outputs": [],
   "source": [
    "rf_model = RandomForestRegressor(random_state = 42).fit(X_train,y_train)"
   ]
  },
  {
   "cell_type": "code",
   "execution_count": 259,
   "id": "a16407bc-c5b8-426e-9147-8382ea16f75f",
   "metadata": {},
   "outputs": [
    {
     "data": {
      "text/plain": [
       "RandomForestRegressor(random_state=42)"
      ]
     },
     "execution_count": 259,
     "metadata": {},
     "output_type": "execute_result"
    }
   ],
   "source": [
    "rf_model"
   ]
  },
  {
   "cell_type": "code",
   "execution_count": 260,
   "id": "f7056528-c5e0-408a-8f69-9368862a9859",
   "metadata": {},
   "outputs": [
    {
     "data": {
      "text/plain": [
       "344.8191624908484"
      ]
     },
     "execution_count": 260,
     "metadata": {},
     "output_type": "execute_result"
    }
   ],
   "source": [
    "y_pred = rf_model.predict(X_test)\n",
    "np.sqrt(mean_squared_error(y_test,y_pred))"
   ]
  },
  {
   "cell_type": "markdown",
   "id": "62c5bc5e-925d-4520-a918-4d5c8d5ea4da",
   "metadata": {
    "tags": []
   },
   "source": [
    "## Model Tuning"
   ]
  },
  {
   "cell_type": "code",
   "execution_count": 261,
   "id": "34ed2682-3d78-4721-aa57-cacde481f2cc",
   "metadata": {},
   "outputs": [],
   "source": [
    "rf_model = RandomForestRegressor(random_state = 42).fit(X_train,y_train)"
   ]
  },
  {
   "cell_type": "code",
   "execution_count": 262,
   "id": "aa43da9c-f1e3-412c-983c-9f9fb928f94f",
   "metadata": {},
   "outputs": [],
   "source": [
    "rf_params = {\"max_depth\": [5,8,10],\n",
    "            \"max_features\": [2,5,10],\n",
    "            \"n_estimators\": [200, 500, 1000, 2000],\n",
    "            \"min_samples_split\": [2,10,80,100]}"
   ]
  },
  {
   "cell_type": "code",
   "execution_count": 263,
   "id": "3e9fb86e-3c86-4a15-a2a1-10d7116fdb08",
   "metadata": {},
   "outputs": [
    {
     "name": "stdout",
     "output_type": "stream",
     "text": [
      "Fitting 5 folds for each of 144 candidates, totalling 720 fits\n"
     ]
    }
   ],
   "source": [
    "rf_cv_model = GridSearchCV(rf_model,rf_params,cv = 5,n_jobs = -1,verbose = 2).fit(X_train,y_train)"
   ]
  },
  {
   "cell_type": "code",
   "execution_count": 264,
   "id": "17955b1f-5e24-46c5-b018-f3271665ac6b",
   "metadata": {},
   "outputs": [
    {
     "data": {
      "text/plain": [
       "{'max_depth': 10,\n",
       " 'max_features': 2,\n",
       " 'min_samples_split': 2,\n",
       " 'n_estimators': 2000}"
      ]
     },
     "execution_count": 264,
     "metadata": {},
     "output_type": "execute_result"
    }
   ],
   "source": [
    "rf_cv_model.best_params_"
   ]
  },
  {
   "cell_type": "code",
   "execution_count": 265,
   "id": "db6ec70e-9216-467a-8fbf-44f5cd68a458",
   "metadata": {},
   "outputs": [
    {
     "data": {
      "text/plain": [
       "346.2399166825381"
      ]
     },
     "execution_count": 265,
     "metadata": {},
     "output_type": "execute_result"
    }
   ],
   "source": [
    "rf_tuned = RandomForestRegressor(random_state = 42, \n",
    "                                 max_depth = 10,\n",
    "                                max_features = 2,\n",
    "                                min_samples_split = 2,\n",
    "                                 n_estimators = 2000).fit(X_train,y_train)\n",
    "\n",
    "y_pred = rf_tuned.predict(X_test)\n",
    "np.sqrt(mean_squared_error(y_test,y_pred))"
   ]
  },
  {
   "cell_type": "markdown",
   "id": "75680ffb-c8b3-442b-b51b-c1e94863a316",
   "metadata": {},
   "source": [
    "## Değişken Önem Düzeyi"
   ]
  },
  {
   "cell_type": "code",
   "execution_count": 266,
   "id": "6707ca04-bef6-40fd-a62e-675aa864a213",
   "metadata": {},
   "outputs": [],
   "source": [
    "# değişkenlerin hangisinin daha önemli olduğuna karar veriyoruz"
   ]
  },
  {
   "cell_type": "code",
   "execution_count": 267,
   "id": "8250794e-5db9-42bd-b41f-a8d715fc42de",
   "metadata": {},
   "outputs": [
    {
     "data": {
      "image/png": "[encoded data removed]",
      "text/plain": [
       "<Figure size 432x288 with 1 Axes>"
      ]
     },
     "metadata": {
      "needs_background": "light"
     },
     "output_type": "display_data"
    }
   ],
   "source": [
    "Importance = pd.DataFrame({'Importance' : rf_tuned.feature_importances_*100},\n",
    "                          index = X_train.columns)\n",
    "Importance.sort_values(by = 'Importance',\n",
    "                       axis = 0,\n",
    "                       ascending = True).plot(kind = 'barh',  # ascending -> artan sıraya göre\n",
    "                                             color = 'r',)\n",
    "plt.xlabel('Variable Importance')\n",
    "plt.gca().legend_ = None\n",
    "\n",
    "                       "
   ]
  },
  {
   "cell_type": "markdown",
   "id": "893b14e2-85c7-4dc5-b6c1-8a0fc483d95f",
   "metadata": {},
   "source": [
    "# Gradient Boosting Machines"
   ]
  },
  {
   "cell_type": "code",
   "execution_count": 268,
   "id": "1f900cb1-e4b2-426f-919b-2b7656def8df",
   "metadata": {},
   "outputs": [],
   "source": [
    "df = pd.read_csv(\"Hitters.csv\")\n",
    "df = df.dropna()\n",
    "dms = pd.get_dummies(df[['League', 'Division', 'NewLeague']])\n",
    "y = df[\"Salary\"]\n",
    "X_ = df.drop(['Salary', 'League', 'Division', 'NewLeague'], axis=1).astype('float64')\n",
    "X = pd.concat([X_, dms[['League_N', 'Division_W', 'NewLeague_N']]], axis=1)\n",
    "X_train, X_test, y_train, y_test = train_test_split(X, \n",
    "                                                    y, \n",
    "                                                   test_size=0.25, \n",
    "                                                    random_state=42)"
   ]
  },
  {
   "cell_type": "markdown",
   "id": "e9f06dbe-132c-40d0-b4a3-3920df5c4725",
   "metadata": {},
   "source": [
    "## Model & Tahmin"
   ]
  },
  {
   "cell_type": "code",
   "execution_count": 269,
   "id": "4d660eda-f426-488c-b857-136c52b57f67",
   "metadata": {},
   "outputs": [],
   "source": [
    "gbm_model = GradientBoostingRegressor().fit(X_train, y_train)"
   ]
  },
  {
   "cell_type": "code",
   "execution_count": 270,
   "id": "e94e5b57-7583-41a2-9d01-a2a38ac6745e",
   "metadata": {},
   "outputs": [
    {
     "data": {
      "text/plain": [
       "GradientBoostingRegressor()"
      ]
     },
     "execution_count": 270,
     "metadata": {},
     "output_type": "execute_result"
    }
   ],
   "source": [
    "gbm_model"
   ]
  },
  {
   "cell_type": "code",
   "execution_count": 271,
   "id": "77804c8b-afc5-460d-b22c-b183faa15ecd",
   "metadata": {},
   "outputs": [],
   "source": [
    "y_pred = gbm_model.predict(X_test)"
   ]
  },
  {
   "cell_type": "code",
   "execution_count": 272,
   "id": "2d779af9-ff13-4e80-b302-385ca866842e",
   "metadata": {},
   "outputs": [
    {
     "data": {
      "text/plain": [
       "346.27659480363906"
      ]
     },
     "execution_count": 272,
     "metadata": {},
     "output_type": "execute_result"
    }
   ],
   "source": [
    "np.sqrt(mean_squared_error(y_test, y_pred))"
   ]
  },
  {
   "cell_type": "markdown",
   "id": "1a0fd40b-fff3-44f9-9824-ea6b50b0cb62",
   "metadata": {
    "tags": []
   },
   "source": [
    "## Model Tuning"
   ]
  },
  {
   "cell_type": "code",
   "execution_count": 273,
   "id": "dec396c5-115c-4244-8471-d51b1c7c7d92",
   "metadata": {},
   "outputs": [
    {
     "data": {
      "text/plain": [
       "GradientBoostingRegressor()"
      ]
     },
     "execution_count": 273,
     "metadata": {},
     "output_type": "execute_result"
    }
   ],
   "source": [
    "gbm_model = GradientBoostingRegressor().fit(X_train, y_train)\n",
    "gbm_model"
   ]
  },
  {
   "cell_type": "code",
   "execution_count": 274,
   "id": "a646e373-8b02-4dd5-bbfe-b035358eb48a",
   "metadata": {
    "collapsed": true,
    "jupyter": {
     "outputs_hidden": true
    },
    "tags": []
   },
   "outputs": [
    {
     "data": {
      "text/plain": [
       "\u001b[1;31mType:\u001b[0m        GradientBoostingRegressor\n",
       "\u001b[1;31mString form:\u001b[0m GradientBoostingRegressor()\n",
       "\u001b[1;31mLength:\u001b[0m      100\n",
       "\u001b[1;31mFile:\u001b[0m        c:\\users\\aleyna\\anaconda3\\lib\\site-packages\\sklearn\\ensemble\\_gb.py\n",
       "\u001b[1;31mDocstring:\u001b[0m  \n",
       "Gradient Boosting for regression.\n",
       "\n",
       "GB builds an additive model in a forward stage-wise fashion;\n",
       "it allows for the optimization of arbitrary differentiable loss functions.\n",
       "In each stage a regression tree is fit on the negative gradient of the\n",
       "given loss function.\n",
       "\n",
       "Read more in the :ref:`User Guide <gradient_boosting>`.\n",
       "\n",
       "Parameters\n",
       "----------\n",
       "loss : {'squared_error', 'absolute_error', 'huber', 'quantile'},             default='squared_error'\n",
       "    Loss function to be optimized. 'squared_error' refers to the squared\n",
       "    error for regression. 'absolute_error' refers to the absolute error of\n",
       "    regression and is a robust loss function. 'huber' is a\n",
       "    combination of the two. 'quantile' allows quantile regression (use\n",
       "    `alpha` to specify the quantile).\n",
       "\n",
       "    .. deprecated:: 1.0\n",
       "        The loss 'ls' was deprecated in v1.0 and will be removed in\n",
       "        version 1.2. Use `loss='squared_error'` which is equivalent.\n",
       "\n",
       "    .. deprecated:: 1.0\n",
       "        The loss 'lad' was deprecated in v1.0 and will be removed in\n",
       "        version 1.2. Use `loss='absolute_error'` which is equivalent.\n",
       "\n",
       "learning_rate : float, default=0.1\n",
       "    Learning rate shrinks the contribution of each tree by `learning_rate`.\n",
       "    There is a trade-off between learning_rate and n_estimators.\n",
       "\n",
       "n_estimators : int, default=100\n",
       "    The number of boosting stages to perform. Gradient boosting\n",
       "    is fairly robust to over-fitting so a large number usually\n",
       "    results in better performance.\n",
       "\n",
       "subsample : float, default=1.0\n",
       "    The fraction of samples to be used for fitting the individual base\n",
       "    learners. If smaller than 1.0 this results in Stochastic Gradient\n",
       "    Boosting. `subsample` interacts with the parameter `n_estimators`.\n",
       "    Choosing `subsample < 1.0` leads to a reduction of variance\n",
       "    and an increase in bias.\n",
       "\n",
       "criterion : {'friedman_mse', 'squared_error', 'mse', 'mae'},             default='friedman_mse'\n",
       "    The function to measure the quality of a split. Supported criteria\n",
       "    are \"friedman_mse\" for the mean squared error with improvement\n",
       "    score by Friedman, \"squared_error\" for mean squared error, and \"mae\"\n",
       "    for the mean absolute error. The default value of \"friedman_mse\" is\n",
       "    generally the best as it can provide a better approximation in some\n",
       "    cases.\n",
       "\n",
       "    .. versionadded:: 0.18\n",
       "\n",
       "    .. deprecated:: 0.24\n",
       "        `criterion='mae'` is deprecated and will be removed in version\n",
       "        1.1 (renaming of 0.26). The correct way of minimizing the absolute\n",
       "        error is to use `loss='absolute_error'` instead.\n",
       "\n",
       "    .. deprecated:: 1.0\n",
       "        Criterion 'mse' was deprecated in v1.0 and will be removed in\n",
       "        version 1.2. Use `criterion='squared_error'` which is equivalent.\n",
       "\n",
       "min_samples_split : int or float, default=2\n",
       "    The minimum number of samples required to split an internal node:\n",
       "\n",
       "    - If int, then consider `min_samples_split` as the minimum number.\n",
       "    - If float, then `min_samples_split` is a fraction and\n",
       "      `ceil(min_samples_split * n_samples)` are the minimum\n",
       "      number of samples for each split.\n",
       "\n",
       "    .. versionchanged:: 0.18\n",
       "       Added float values for fractions.\n",
       "\n",
       "min_samples_leaf : int or float, default=1\n",
       "    The minimum number of samples required to be at a leaf node.\n",
       "    A split point at any depth will only be considered if it leaves at\n",
       "    least ``min_samples_leaf`` training samples in each of the left and\n",
       "    right branches.  This may have the effect of smoothing the model,\n",
       "    especially in regression.\n",
       "\n",
       "    - If int, then consider `min_samples_leaf` as the minimum number.\n",
       "    - If float, then `min_samples_leaf` is a fraction and\n",
       "      `ceil(min_samples_leaf * n_samples)` are the minimum\n",
       "      number of samples for each node.\n",
       "\n",
       "    .. versionchanged:: 0.18\n",
       "       Added float values for fractions.\n",
       "\n",
       "min_weight_fraction_leaf : float, default=0.0\n",
       "    The minimum weighted fraction of the sum total of weights (of all\n",
       "    the input samples) required to be at a leaf node. Samples have\n",
       "    equal weight when sample_weight is not provided.\n",
       "\n",
       "max_depth : int, default=3\n",
       "    Maximum depth of the individual regression estimators. The maximum\n",
       "    depth limits the number of nodes in the tree. Tune this parameter\n",
       "    for best performance; the best value depends on the interaction\n",
       "    of the input variables.\n",
       "\n",
       "min_impurity_decrease : float, default=0.0\n",
       "    A node will be split if this split induces a decrease of the impurity\n",
       "    greater than or equal to this value.\n",
       "\n",
       "    The weighted impurity decrease equation is the following::\n",
       "\n",
       "        N_t / N * (impurity - N_t_R / N_t * right_impurity\n",
       "                            - N_t_L / N_t * left_impurity)\n",
       "\n",
       "    where ``N`` is the total number of samples, ``N_t`` is the number of\n",
       "    samples at the current node, ``N_t_L`` is the number of samples in the\n",
       "    left child, and ``N_t_R`` is the number of samples in the right child.\n",
       "\n",
       "    ``N``, ``N_t``, ``N_t_R`` and ``N_t_L`` all refer to the weighted sum,\n",
       "    if ``sample_weight`` is passed.\n",
       "\n",
       "    .. versionadded:: 0.19\n",
       "\n",
       "init : estimator or 'zero', default=None\n",
       "    An estimator object that is used to compute the initial predictions.\n",
       "    ``init`` has to provide :term:`fit` and :term:`predict`. If 'zero', the\n",
       "    initial raw predictions are set to zero. By default a\n",
       "    ``DummyEstimator`` is used, predicting either the average target value\n",
       "    (for loss='squared_error'), or a quantile for the other losses.\n",
       "\n",
       "random_state : int, RandomState instance or None, default=None\n",
       "    Controls the random seed given to each Tree estimator at each\n",
       "    boosting iteration.\n",
       "    In addition, it controls the random permutation of the features at\n",
       "    each split (see Notes for more details).\n",
       "    It also controls the random splitting of the training data to obtain a\n",
       "    validation set if `n_iter_no_change` is not None.\n",
       "    Pass an int for reproducible output across multiple function calls.\n",
       "    See :term:`Glossary <random_state>`.\n",
       "\n",
       "max_features : {'auto', 'sqrt', 'log2'}, int or float, default=None\n",
       "    The number of features to consider when looking for the best split:\n",
       "\n",
       "    - If int, then consider `max_features` features at each split.\n",
       "    - If float, then `max_features` is a fraction and\n",
       "      `int(max_features * n_features)` features are considered at each\n",
       "      split.\n",
       "    - If \"auto\", then `max_features=n_features`.\n",
       "    - If \"sqrt\", then `max_features=sqrt(n_features)`.\n",
       "    - If \"log2\", then `max_features=log2(n_features)`.\n",
       "    - If None, then `max_features=n_features`.\n",
       "\n",
       "    Choosing `max_features < n_features` leads to a reduction of variance\n",
       "    and an increase in bias.\n",
       "\n",
       "    Note: the search for a split does not stop until at least one\n",
       "    valid partition of the node samples is found, even if it requires to\n",
       "    effectively inspect more than ``max_features`` features.\n",
       "\n",
       "alpha : float, default=0.9\n",
       "    The alpha-quantile of the huber loss function and the quantile\n",
       "    loss function. Only if ``loss='huber'`` or ``loss='quantile'``.\n",
       "\n",
       "verbose : int, default=0\n",
       "    Enable verbose output. If 1 then it prints progress and performance\n",
       "    once in a while (the more trees the lower the frequency). If greater\n",
       "    than 1 then it prints progress and performance for every tree.\n",
       "\n",
       "max_leaf_nodes : int, default=None\n",
       "    Grow trees with ``max_leaf_nodes`` in best-first fashion.\n",
       "    Best nodes are defined as relative reduction in impurity.\n",
       "    If None then unlimited number of leaf nodes.\n",
       "\n",
       "warm_start : bool, default=False\n",
       "    When set to ``True``, reuse the solution of the previous call to fit\n",
       "    and add more estimators to the ensemble, otherwise, just erase the\n",
       "    previous solution. See :term:`the Glossary <warm_start>`.\n",
       "\n",
       "validation_fraction : float, default=0.1\n",
       "    The proportion of training data to set aside as validation set for\n",
       "    early stopping. Must be between 0 and 1.\n",
       "    Only used if ``n_iter_no_change`` is set to an integer.\n",
       "\n",
       "    .. versionadded:: 0.20\n",
       "\n",
       "n_iter_no_change : int, default=None\n",
       "    ``n_iter_no_change`` is used to decide if early stopping will be used\n",
       "    to terminate training when validation score is not improving. By\n",
       "    default it is set to None to disable early stopping. If set to a\n",
       "    number, it will set aside ``validation_fraction`` size of the training\n",
       "    data as validation and terminate training when validation score is not\n",
       "    improving in all of the previous ``n_iter_no_change`` numbers of\n",
       "    iterations.\n",
       "\n",
       "    .. versionadded:: 0.20\n",
       "\n",
       "tol : float, default=1e-4\n",
       "    Tolerance for the early stopping. When the loss is not improving\n",
       "    by at least tol for ``n_iter_no_change`` iterations (if set to a\n",
       "    number), the training stops.\n",
       "\n",
       "    .. versionadded:: 0.20\n",
       "\n",
       "ccp_alpha : non-negative float, default=0.0\n",
       "    Complexity parameter used for Minimal Cost-Complexity Pruning. The\n",
       "    subtree with the largest cost complexity that is smaller than\n",
       "    ``ccp_alpha`` will be chosen. By default, no pruning is performed. See\n",
       "    :ref:`minimal_cost_complexity_pruning` for details.\n",
       "\n",
       "    .. versionadded:: 0.22\n",
       "\n",
       "Attributes\n",
       "----------\n",
       "feature_importances_ : ndarray of shape (n_features,)\n",
       "    The impurity-based feature importances.\n",
       "    The higher, the more important the feature.\n",
       "    The importance of a feature is computed as the (normalized)\n",
       "    total reduction of the criterion brought by that feature.  It is also\n",
       "    known as the Gini importance.\n",
       "\n",
       "    Warning: impurity-based feature importances can be misleading for\n",
       "    high cardinality features (many unique values). See\n",
       "    :func:`sklearn.inspection.permutation_importance` as an alternative.\n",
       "\n",
       "oob_improvement_ : ndarray of shape (n_estimators,)\n",
       "    The improvement in loss (= deviance) on the out-of-bag samples\n",
       "    relative to the previous iteration.\n",
       "    ``oob_improvement_[0]`` is the improvement in\n",
       "    loss of the first stage over the ``init`` estimator.\n",
       "    Only available if ``subsample < 1.0``\n",
       "\n",
       "train_score_ : ndarray of shape (n_estimators,)\n",
       "    The i-th score ``train_score_[i]`` is the deviance (= loss) of the\n",
       "    model at iteration ``i`` on the in-bag sample.\n",
       "    If ``subsample == 1`` this is the deviance on the training data.\n",
       "\n",
       "loss_ : LossFunction\n",
       "    The concrete ``LossFunction`` object.\n",
       "\n",
       "init_ : estimator\n",
       "    The estimator that provides the initial predictions.\n",
       "    Set via the ``init`` argument or ``loss.init_estimator``.\n",
       "\n",
       "estimators_ : ndarray of DecisionTreeRegressor of shape (n_estimators, 1)\n",
       "    The collection of fitted sub-estimators.\n",
       "\n",
       "n_classes_ : int\n",
       "    The number of classes, set to 1 for regressors.\n",
       "\n",
       "    .. deprecated:: 0.24\n",
       "        Attribute ``n_classes_`` was deprecated in version 0.24 and\n",
       "        will be removed in 1.1 (renaming of 0.26).\n",
       "\n",
       "n_estimators_ : int\n",
       "    The number of estimators as selected by early stopping (if\n",
       "    ``n_iter_no_change`` is specified). Otherwise it is set to\n",
       "    ``n_estimators``.\n",
       "\n",
       "n_features_ : int\n",
       "    The number of data features.\n",
       "\n",
       "    .. deprecated:: 1.0\n",
       "        Attribute `n_features_` was deprecated in version 1.0 and will be\n",
       "        removed in 1.2. Use `n_features_in_` instead.\n",
       "\n",
       "n_features_in_ : int\n",
       "    Number of features seen during :term:`fit`.\n",
       "\n",
       "    .. versionadded:: 0.24\n",
       "\n",
       "feature_names_in_ : ndarray of shape (`n_features_in_`,)\n",
       "    Names of features seen during :term:`fit`. Defined only when `X`\n",
       "    has feature names that are all strings.\n",
       "\n",
       "    .. versionadded:: 1.0\n",
       "\n",
       "max_features_ : int\n",
       "    The inferred value of max_features.\n",
       "\n",
       "See Also\n",
       "--------\n",
       "HistGradientBoostingRegressor : Histogram-based Gradient Boosting\n",
       "    Classification Tree.\n",
       "sklearn.tree.DecisionTreeRegressor : A decision tree regressor.\n",
       "sklearn.ensemble.RandomForestRegressor : A random forest regressor.\n",
       "\n",
       "Notes\n",
       "-----\n",
       "The features are always randomly permuted at each split. Therefore,\n",
       "the best found split may vary, even with the same training data and\n",
       "``max_features=n_features``, if the improvement of the criterion is\n",
       "identical for several splits enumerated during the search of the best\n",
       "split. To obtain a deterministic behaviour during fitting,\n",
       "``random_state`` has to be fixed.\n",
       "\n",
       "References\n",
       "----------\n",
       "J. Friedman, Greedy Function Approximation: A Gradient Boosting\n",
       "Machine, The Annals of Statistics, Vol. 29, No. 5, 2001.\n",
       "\n",
       "J. Friedman, Stochastic Gradient Boosting, 1999\n",
       "\n",
       "T. Hastie, R. Tibshirani and J. Friedman.\n",
       "Elements of Statistical Learning Ed. 2, Springer, 2009.\n",
       "\n",
       "Examples\n",
       "--------\n",
       ">>> from sklearn.datasets import make_regression\n",
       ">>> from sklearn.ensemble import GradientBoostingRegressor\n",
       ">>> from sklearn.model_selection import train_test_split\n",
       ">>> X, y = make_regression(random_state=0)\n",
       ">>> X_train, X_test, y_train, y_test = train_test_split(\n",
       "...     X, y, random_state=0)\n",
       ">>> reg = GradientBoostingRegressor(random_state=0)\n",
       ">>> reg.fit(X_train, y_train)\n",
       "GradientBoostingRegressor(random_state=0)\n",
       ">>> reg.predict(X_test[1:2])\n",
       "array([-61...])\n",
       ">>> reg.score(X_test, y_test)\n",
       "0.4...\n"
      ]
     },
     "metadata": {},
     "output_type": "display_data"
    }
   ],
   "source": [
    "?gbm_model"
   ]
  },
  {
   "cell_type": "code",
   "execution_count": 275,
   "id": "cab80404-db45-40f1-bf8f-9eb919f2bf20",
   "metadata": {},
   "outputs": [],
   "source": [
    "gbm_params = {\"learning_rate\": [0.001,0.1,0.01],\n",
    "             \"max_depth\": [3,5,8],\n",
    "             \"n_estimators\": [100,200,500],\n",
    "             \"subsample\": [1,0.5,0.8],\n",
    "             \"loss\": [\"ls\",\"lad\",\"quantile\"]}"
   ]
  },
  {
   "cell_type": "code",
   "execution_count": 276,
   "id": "b6af31ec-642b-4b0d-aa52-2ea9984179a9",
   "metadata": {},
   "outputs": [
    {
     "name": "stdout",
     "output_type": "stream",
     "text": [
      "Fitting 10 folds for each of 243 candidates, totalling 2430 fits\n"
     ]
    }
   ],
   "source": [
    "gbm_cv_model = GridSearchCV(gbm_model, \n",
    "                            gbm_params, \n",
    "                            cv = 10, \n",
    "                            n_jobs=-1, \n",
    "                            verbose = 2).fit(X_train, y_train)"
   ]
  },
  {
   "cell_type": "code",
   "execution_count": 277,
   "id": "bb28e78c-bb06-4538-8c27-b283e1d799df",
   "metadata": {},
   "outputs": [
    {
     "data": {
      "text/plain": [
       "{'learning_rate': 0.01,\n",
       " 'loss': 'lad',\n",
       " 'max_depth': 3,\n",
       " 'n_estimators': 500,\n",
       " 'subsample': 0.5}"
      ]
     },
     "execution_count": 277,
     "metadata": {},
     "output_type": "execute_result"
    }
   ],
   "source": [
    "gbm_cv_model.best_params_"
   ]
  },
  {
   "cell_type": "code",
   "execution_count": 326,
   "id": "513fbdca-d6ba-4755-8fa4-3058dd0a64ba",
   "metadata": {},
   "outputs": [],
   "source": [
    "gbm_tuned = GradientBoostingRegressor(learning_rate = 0.01,\n",
    "                                     loss = \"lad\",\n",
    "                                     max_depth = 3,\n",
    "                                     n_estimators = 500,\n",
    "                                     subsample = 0.5).fit(X_train, y_train)"
   ]
  },
  {
   "cell_type": "code",
   "execution_count": 327,
   "id": "19a4448c-4b0f-4e73-9c40-29d76a5e30fc",
   "metadata": {},
   "outputs": [],
   "source": [
    "y_pred = gbm_tuned.predict(X_test)"
   ]
  },
  {
   "cell_type": "code",
   "execution_count": 328,
   "id": "eb6f28d6-508f-4d41-a045-78772b7929c4",
   "metadata": {},
   "outputs": [
    {
     "data": {
      "text/plain": [
       "324.1521456200402"
      ]
     },
     "execution_count": 328,
     "metadata": {},
     "output_type": "execute_result"
    }
   ],
   "source": [
    "np.sqrt(mean_squared_error(y_test, y_pred))"
   ]
  },
  {
   "cell_type": "code",
   "execution_count": 281,
   "id": "7f6cf328-1951-47f9-b0d6-9f86ca1227eb",
   "metadata": {},
   "outputs": [],
   "source": [
    "#degisken onem duzeyleri"
   ]
  },
  {
   "cell_type": "code",
   "execution_count": 282,
   "id": "1701ffda-5246-4875-a37a-5ec3e6f519ad",
   "metadata": {},
   "outputs": [
    {
     "data": {
      "image/png": "[encoded data removed]",
      "text/plain": [
       "<Figure size 432x288 with 1 Axes>"
      ]
     },
     "metadata": {
      "needs_background": "light"
     },
     "output_type": "display_data"
    }
   ],
   "source": [
    "Importance = pd.DataFrame({'Importance':gbm_tuned.feature_importances_*100}, \n",
    "                          index = X_train.columns)\n",
    "\n",
    "\n",
    "Importance.sort_values(by = 'Importance', \n",
    "                       axis = 0, \n",
    "                       ascending = True).plot(kind = 'barh', \n",
    "                                              color = 'r', )\n",
    "\n",
    "plt.xlabel('Variable Importance')\n",
    "plt.gca().legend_ = None"
   ]
  },
  {
   "cell_type": "markdown",
   "id": "48637664-d4bb-43ce-823f-47dcfc281f4a",
   "metadata": {},
   "source": [
    "# XGBoost"
   ]
  },
  {
   "cell_type": "code",
   "execution_count": 283,
   "id": "e44e1407-88dd-4bb3-b5ac-0bf3f7e7879c",
   "metadata": {},
   "outputs": [],
   "source": [
    "df = pd.read_csv(\"Hitters.csv\")\n",
    "df = df.dropna()\n",
    "dms = pd.get_dummies(df[['League', 'Division', 'NewLeague']])\n",
    "y = df[\"Salary\"]\n",
    "X_ = df.drop(['Salary', 'League', 'Division', 'NewLeague'], axis=1).astype('float64')\n",
    "X = pd.concat([X_, dms[['League_N', 'Division_W', 'NewLeague_N']]], axis=1)\n",
    "X_train, X_test, y_train, y_test = train_test_split(X, \n",
    "                                                    y, \n",
    "                                                    test_size=0.25, \n",
    "                                                    random_state=42)"
   ]
  },
  {
   "cell_type": "markdown",
   "id": "b8614ef6-52c9-40da-be29-90d538580a3e",
   "metadata": {},
   "source": [
    "## Model & Tahmin"
   ]
  },
  {
   "cell_type": "code",
   "execution_count": 284,
   "id": "bc8d3733-7f23-4c1d-bf85-8927ac59c90e",
   "metadata": {
    "tags": []
   },
   "outputs": [
    {
     "name": "stdout",
     "output_type": "stream",
     "text": [
      "Requirement already satisfied: xgboost in c:\\users\\aleyna\\anaconda3\\lib\\site-packages (1.6.2)\n",
      "Requirement already satisfied: numpy in c:\\users\\aleyna\\anaconda3\\lib\\site-packages (from xgboost) (1.21.5)\n",
      "Requirement already satisfied: scipy in c:\\users\\aleyna\\anaconda3\\lib\\site-packages (from xgboost) (1.7.3)\n"
     ]
    }
   ],
   "source": [
    "!pip install xgboost"
   ]
  },
  {
   "cell_type": "code",
   "execution_count": 285,
   "id": "0395e227-e8f1-4cc4-a3d8-b6bfef89ac82",
   "metadata": {},
   "outputs": [],
   "source": [
    "import xgboost"
   ]
  },
  {
   "cell_type": "code",
   "execution_count": 286,
   "id": "b6fa0563-4abb-48dc-a530-aa919e478194",
   "metadata": {},
   "outputs": [],
   "source": [
    "from xgboost import XGBRegressor"
   ]
  },
  {
   "cell_type": "code",
   "execution_count": 287,
   "id": "a18ae72c-8e86-4818-9582-1deebed4145a",
   "metadata": {},
   "outputs": [],
   "source": [
    "xgb = XGBRegressor().fit(X_train, y_train)"
   ]
  },
  {
   "cell_type": "code",
   "execution_count": 288,
   "id": "4e836f5b-9466-4baf-a2b8-a2a69f1ea330",
   "metadata": {},
   "outputs": [],
   "source": [
    "y_pred = xgb.predict(X_test)"
   ]
  },
  {
   "cell_type": "code",
   "execution_count": 289,
   "id": "f4d071f6-50f2-4881-8bc6-19474aef949d",
   "metadata": {},
   "outputs": [
    {
     "data": {
      "text/plain": [
       "355.46515176059927"
      ]
     },
     "execution_count": 289,
     "metadata": {},
     "output_type": "execute_result"
    }
   ],
   "source": [
    "np.sqrt(mean_squared_error(y_test, y_pred))"
   ]
  },
  {
   "cell_type": "markdown",
   "id": "aabf9494-4225-47d8-8c5b-190781e48bcc",
   "metadata": {
    "tags": []
   },
   "source": [
    "## Model Tuning"
   ]
  },
  {
   "cell_type": "code",
   "execution_count": 290,
   "id": "8645dbb0-8561-4e0b-91b9-30b1a05d84a7",
   "metadata": {},
   "outputs": [],
   "source": [
    "xgb_model = XGBRegressor()\n"
   ]
  },
  {
   "cell_type": "code",
   "execution_count": 291,
   "id": "a31032f4-8497-4979-ba8f-8fda00c19265",
   "metadata": {},
   "outputs": [],
   "source": [
    "xgb_params = {\"learning_rate\": [0.1,0.01,0.5],\n",
    "             \"max_depth\": [2,3,4,5,8],\n",
    "             \"n_estimators\": [100,200,500,1000],\n",
    "             \"colsample_bytree\": [0.4,0.7,1]}"
   ]
  },
  {
   "cell_type": "code",
   "execution_count": 292,
   "id": "9f3a8e3c-64a1-4d10-a9e6-3f5c4abd9706",
   "metadata": {},
   "outputs": [
    {
     "name": "stdout",
     "output_type": "stream",
     "text": [
      "Fitting 10 folds for each of 180 candidates, totalling 1800 fits\n"
     ]
    }
   ],
   "source": [
    "xgb_cv_model  = GridSearchCV(xgb_model,xgb_params, cv = 10, n_jobs = -1, verbose = 2).fit(X_train, y_train)"
   ]
  },
  {
   "cell_type": "code",
   "execution_count": 293,
   "id": "b14fd3a4-c783-4bc3-9a3a-fadd520289f6",
   "metadata": {},
   "outputs": [
    {
     "data": {
      "text/plain": [
       "{'colsample_bytree': 0.4,\n",
       " 'learning_rate': 0.1,\n",
       " 'max_depth': 2,\n",
       " 'n_estimators': 1000}"
      ]
     },
     "execution_count": 293,
     "metadata": {},
     "output_type": "execute_result"
    }
   ],
   "source": [
    "xgb_cv_model.best_params_"
   ]
  },
  {
   "cell_type": "code",
   "execution_count": 294,
   "id": "19d4444b-43d8-45a1-a9f6-3be02e85cf0d",
   "metadata": {},
   "outputs": [],
   "source": [
    "xgb_tuned = XGBRegressor(colsample_bytree = 0.4, \n",
    "                         learning_rate = 0.1, \n",
    "                         max_depth = 2, \n",
    "                         n_estimators = 1000).fit(X_train, y_train)\n"
   ]
  },
  {
   "cell_type": "code",
   "execution_count": 295,
   "id": "6d04fd5c-81eb-4441-be76-7d9fb95a88db",
   "metadata": {},
   "outputs": [],
   "source": [
    "y_pred = xgb_tuned.predict(X_test)"
   ]
  },
  {
   "cell_type": "code",
   "execution_count": 296,
   "id": "8f8d247d-c674-4c69-b842-8d471be8837b",
   "metadata": {},
   "outputs": [
    {
     "data": {
      "text/plain": [
       "367.8515299923177"
      ]
     },
     "execution_count": 296,
     "metadata": {},
     "output_type": "execute_result"
    }
   ],
   "source": [
    "np.sqrt(mean_squared_error(y_test, y_pred))"
   ]
  },
  {
   "cell_type": "code",
   "execution_count": 297,
   "id": "de54db9c-a70e-4e1f-b423-b2704a417841",
   "metadata": {},
   "outputs": [
    {
     "data": {
      "image/png": "[encoded data removed]",
      "text/plain": [
       "<Figure size 432x288 with 1 Axes>"
      ]
     },
     "metadata": {
      "needs_background": "light"
     },
     "output_type": "display_data"
    }
   ],
   "source": [
    "Importance = pd.DataFrame({'Importance':xgb_tuned.feature_importances_*100}, \n",
    "                          index = X_train.columns)\n",
    "\n",
    "\n",
    "Importance.sort_values(by = 'Importance', \n",
    "                       axis = 0, \n",
    "                       ascending = True).plot(kind = 'barh', \n",
    "                                              color = 'b', )\n",
    "\n",
    "plt.xlabel('Variable Importance')\n",
    "plt.gca().legend_ = None"
   ]
  },
  {
   "cell_type": "markdown",
   "id": "1a27d1c8-06ae-4733-88a9-ae8812598dbd",
   "metadata": {
    "tags": []
   },
   "source": [
    "# LightGBM"
   ]
  },
  {
   "cell_type": "code",
   "execution_count": 298,
   "id": "cda887d6-854d-42b3-a451-2759690f365b",
   "metadata": {},
   "outputs": [],
   "source": [
    "df = pd.read_csv(\"Hitters.csv\")\n",
    "df = df.dropna()\n",
    "dms = pd.get_dummies(df[['League', 'Division', 'NewLeague']])\n",
    "y = df[\"Salary\"]\n",
    "X_ = df.drop(['Salary', 'League', 'Division', 'NewLeague'], axis=1).astype('float64')\n",
    "X = pd.concat([X_, dms[['League_N', 'Division_W', 'NewLeague_N']]], axis=1)\n",
    "X_train, X_test, y_train, y_test = train_test_split(X, \n",
    "                                                    y, \n",
    "                                                    test_size=0.25, \n",
    "                                                    random_state=42)"
   ]
  },
  {
   "cell_type": "code",
   "execution_count": 299,
   "id": "d57f4268-27af-42e4-adb7-3a8ef5daf961",
   "metadata": {
    "collapsed": true,
    "jupyter": {
     "outputs_hidden": true
    },
    "tags": []
   },
   "outputs": [
    {
     "name": "stdout",
     "output_type": "stream",
     "text": [
      "Requirement already satisfied: lightgbm in c:\\users\\aleyna\\anaconda3\\lib\\site-packages (3.3.2)\n",
      "Requirement already satisfied: wheel in c:\\users\\aleyna\\anaconda3\\lib\\site-packages (from lightgbm) (0.37.1)\n",
      "Requirement already satisfied: scipy in c:\\users\\aleyna\\anaconda3\\lib\\site-packages (from lightgbm) (1.7.3)\n",
      "Requirement already satisfied: scikit-learn!=0.22.0 in c:\\users\\aleyna\\anaconda3\\lib\\site-packages (from lightgbm) (1.0.2)\n",
      "Requirement already satisfied: numpy in c:\\users\\aleyna\\anaconda3\\lib\\site-packages (from lightgbm) (1.21.5)\n",
      "Requirement already satisfied: threadpoolctl>=2.0.0 in c:\\users\\aleyna\\anaconda3\\lib\\site-packages (from scikit-learn!=0.22.0->lightgbm) (2.2.0)\n",
      "Requirement already satisfied: joblib>=0.11 in c:\\users\\aleyna\\anaconda3\\lib\\site-packages (from scikit-learn!=0.22.0->lightgbm) (1.1.0)\n"
     ]
    }
   ],
   "source": [
    "!pip install lightgbm"
   ]
  },
  {
   "cell_type": "code",
   "execution_count": 300,
   "id": "aba3b2c9-6f2c-4548-b64c-bef7681fe2c6",
   "metadata": {
    "collapsed": true,
    "jupyter": {
     "outputs_hidden": true
    },
    "tags": []
   },
   "outputs": [
    {
     "name": "stdout",
     "output_type": "stream",
     "text": [
      "Collecting package metadata (current_repodata.json): ...working... done\n",
      "Solving environment: ...working... done\n",
      "\n",
      "# All requested packages already installed.\n",
      "\n",
      "Retrieving notices: ...working... done\n",
      "\n",
      "Note: you may need to restart the kernel to use updated packages.\n"
     ]
    }
   ],
   "source": [
    "conda install -c conda-forge lightgbm"
   ]
  },
  {
   "cell_type": "code",
   "execution_count": 301,
   "id": "2ecef6d7-8af1-49a6-b897-71fd1d9555e6",
   "metadata": {},
   "outputs": [],
   "source": [
    "from lightgbm import LGBMRegressor"
   ]
  },
  {
   "cell_type": "markdown",
   "id": "5e2db8f5-1ebd-400c-876d-08d4b9123a3d",
   "metadata": {},
   "source": [
    "## Model & Tahmin"
   ]
  },
  {
   "cell_type": "code",
   "execution_count": 302,
   "id": "e38bfc27-744b-4555-8b36-9d52ad073631",
   "metadata": {},
   "outputs": [],
   "source": [
    "lgb_model = LGBMRegressor().fit(X_train, y_train)"
   ]
  },
  {
   "cell_type": "code",
   "execution_count": 303,
   "id": "b8aade74-fbde-4f38-a481-e58c8f3897e9",
   "metadata": {},
   "outputs": [],
   "source": [
    "y_pred = lgb_model.predict(X_test)"
   ]
  },
  {
   "cell_type": "code",
   "execution_count": 304,
   "id": "6a1ce136-0ce6-43fd-8e98-747bf7ecc929",
   "metadata": {},
   "outputs": [
    {
     "data": {
      "text/plain": [
       "363.8712087611089"
      ]
     },
     "execution_count": 304,
     "metadata": {},
     "output_type": "execute_result"
    }
   ],
   "source": [
    "np.sqrt(mean_squared_error(y_test, y_pred))"
   ]
  },
  {
   "cell_type": "markdown",
   "id": "a8abe1e7-a36c-49da-99c1-d217571e8341",
   "metadata": {},
   "source": [
    "## Model Tuning"
   ]
  },
  {
   "cell_type": "code",
   "execution_count": 305,
   "id": "5cd407d9-d579-4308-aba9-555e0bb783ee",
   "metadata": {},
   "outputs": [
    {
     "data": {
      "text/plain": [
       "LGBMRegressor()"
      ]
     },
     "execution_count": 305,
     "metadata": {},
     "output_type": "execute_result"
    }
   ],
   "source": [
    "lgb_model = LGBMRegressor()\n",
    "lgb_model"
   ]
  },
  {
   "cell_type": "code",
   "execution_count": 306,
   "id": "92b3fee9-dc2a-4f73-8fbc-94a307be8117",
   "metadata": {},
   "outputs": [],
   "source": [
    "lgbm_params = {\"learning_rate\": [0.01, 0.1, 0.5, 1],\n",
    "              \"n_estimators\": [20,40,100,200,500,1000],\n",
    "              \"max_depth\": [1,2,3,4,5,6,7,8,9,10]}"
   ]
  },
  {
   "cell_type": "code",
   "execution_count": 307,
   "id": "e862dd0e-be2d-4d42-b929-e69d411923a2",
   "metadata": {},
   "outputs": [
    {
     "name": "stdout",
     "output_type": "stream",
     "text": [
      "Fitting 10 folds for each of 240 candidates, totalling 2400 fits\n"
     ]
    }
   ],
   "source": [
    "lgbm_cv_model = GridSearchCV(lgb_model, \n",
    "                             lgbm_params, \n",
    "                             cv = 10, \n",
    "                             n_jobs = -1, \n",
    "                             verbose =2).fit(X_train, y_train)"
   ]
  },
  {
   "cell_type": "code",
   "execution_count": 308,
   "id": "c157e344-0840-4339-98fe-d1c5e22ab113",
   "metadata": {},
   "outputs": [
    {
     "data": {
      "text/plain": [
       "{'learning_rate': 0.1, 'max_depth': 6, 'n_estimators': 20}"
      ]
     },
     "execution_count": 308,
     "metadata": {},
     "output_type": "execute_result"
    }
   ],
   "source": [
    "lgbm_cv_model.best_params_"
   ]
  },
  {
   "cell_type": "code",
   "execution_count": 309,
   "id": "757b63e6-dfe7-4334-a632-ace1f6c56190",
   "metadata": {},
   "outputs": [],
   "source": [
    "lgbm_tuned = LGBMRegressor(learning_rate = 0.1, \n",
    "                          max_depth = 6, \n",
    "                          n_estimators = 20).fit(X_train, y_train)"
   ]
  },
  {
   "cell_type": "code",
   "execution_count": 310,
   "id": "bf83ca6d-c374-4b0f-adef-01635c3c1d6d",
   "metadata": {},
   "outputs": [],
   "source": [
    "y_pred = lgbm_tuned.predict(X_test)"
   ]
  },
  {
   "cell_type": "code",
   "execution_count": 311,
   "id": "4c2d3512-0dfb-4228-b3c3-20e765e56ba0",
   "metadata": {},
   "outputs": [
    {
     "data": {
      "text/plain": [
       "371.5044868943621"
      ]
     },
     "execution_count": 311,
     "metadata": {},
     "output_type": "execute_result"
    }
   ],
   "source": [
    "np.sqrt(mean_squared_error(y_test, y_pred))"
   ]
  },
  {
   "cell_type": "markdown",
   "id": "633385d1-cc42-4420-b17a-30603044a74c",
   "metadata": {},
   "source": [
    "# CatBoost"
   ]
  },
  {
   "cell_type": "code",
   "execution_count": 312,
   "id": "4796b4e5-4a8c-4dfb-868f-9a6d52e9d0c5",
   "metadata": {},
   "outputs": [],
   "source": [
    "df = pd.read_csv(\"Hitters.csv\")\n",
    "df = df.dropna()\n",
    "dms = pd.get_dummies(df[['League', 'Division', 'NewLeague']])\n",
    "\n",
    "y = df[\"Salary\"]\n",
    "X_ = df.drop(['Salary', 'League', 'Division', 'NewLeague'], axis=1).astype('float64')\n",
    "X = pd.concat([X_, dms[['League_N', 'Division_W', 'NewLeague_N']]], axis=1)\n",
    "X_train, X_test, y_train, y_test = train_test_split(X, \n",
    "                                                    y, \n",
    "                                                    test_size=0.25, \n",
    "                                                    random_state=42)"
   ]
  },
  {
   "cell_type": "code",
   "execution_count": 313,
   "id": "c3a714d6-ac37-49f7-9143-8bc80d4119d4",
   "metadata": {
    "collapsed": true,
    "jupyter": {
     "outputs_hidden": true
    },
    "tags": []
   },
   "outputs": [
    {
     "name": "stdout",
     "output_type": "stream",
     "text": [
      "Requirement already satisfied: catboost in c:\\users\\aleyna\\anaconda3\\lib\\site-packages (1.0.6)\n",
      "Requirement already satisfied: numpy>=1.16.0 in c:\\users\\aleyna\\anaconda3\\lib\\site-packages (from catboost) (1.21.5)\n",
      "Requirement already satisfied: plotly in c:\\users\\aleyna\\anaconda3\\lib\\site-packages (from catboost) (5.6.0)\n",
      "Requirement already satisfied: six in c:\\users\\aleyna\\anaconda3\\lib\\site-packages (from catboost) (1.16.0)\n",
      "Requirement already satisfied: graphviz in c:\\users\\aleyna\\anaconda3\\lib\\site-packages (from catboost) (0.20.1)\n",
      "Requirement already satisfied: scipy in c:\\users\\aleyna\\anaconda3\\lib\\site-packages (from catboost) (1.7.3)\n",
      "Requirement already satisfied: pandas>=0.24.0 in c:\\users\\aleyna\\anaconda3\\lib\\site-packages (from catboost) (1.4.2)\n",
      "Requirement already satisfied: matplotlib in c:\\users\\aleyna\\anaconda3\\lib\\site-packages (from catboost) (3.5.1)\n",
      "Requirement already satisfied: python-dateutil>=2.8.1 in c:\\users\\aleyna\\anaconda3\\lib\\site-packages (from pandas>=0.24.0->catboost) (2.8.2)\n",
      "Requirement already satisfied: pytz>=2020.1 in c:\\users\\aleyna\\anaconda3\\lib\\site-packages (from pandas>=0.24.0->catboost) (2021.3)\n",
      "Requirement already satisfied: cycler>=0.10 in c:\\users\\aleyna\\anaconda3\\lib\\site-packages (from matplotlib->catboost) (0.11.0)\n",
      "Requirement already satisfied: fonttools>=4.22.0 in c:\\users\\aleyna\\anaconda3\\lib\\site-packages (from matplotlib->catboost) (4.25.0)\n",
      "Requirement already satisfied: pillow>=6.2.0 in c:\\users\\aleyna\\anaconda3\\lib\\site-packages (from matplotlib->catboost) (9.0.1)\n",
      "Requirement already satisfied: packaging>=20.0 in c:\\users\\aleyna\\anaconda3\\lib\\site-packages (from matplotlib->catboost) (21.3)\n",
      "Requirement already satisfied: kiwisolver>=1.0.1 in c:\\users\\aleyna\\anaconda3\\lib\\site-packages (from matplotlib->catboost) (1.3.2)\n",
      "Requirement already satisfied: pyparsing>=2.2.1 in c:\\users\\aleyna\\anaconda3\\lib\\site-packages (from matplotlib->catboost) (3.0.4)\n",
      "Requirement already satisfied: tenacity>=6.2.0 in c:\\users\\aleyna\\anaconda3\\lib\\site-packages (from plotly->catboost) (8.0.1)\n"
     ]
    }
   ],
   "source": [
    "!pip install catboost"
   ]
  },
  {
   "cell_type": "markdown",
   "id": "f290087e-e1f1-4eaa-89e3-e7724c2db5c7",
   "metadata": {},
   "source": [
    "## Model & Tahmin"
   ]
  },
  {
   "cell_type": "code",
   "execution_count": 314,
   "id": "96d03f31-7f1c-49e4-b1a4-d5da68434ab7",
   "metadata": {},
   "outputs": [],
   "source": [
    "from catboost import CatBoostRegressor"
   ]
  },
  {
   "cell_type": "code",
   "execution_count": 315,
   "id": "4cad690f-3344-48f6-a19a-dbe936ba2d15",
   "metadata": {
    "collapsed": true,
    "jupyter": {
     "outputs_hidden": true
    },
    "tags": []
   },
   "outputs": [
    {
     "name": "stdout",
     "output_type": "stream",
     "text": [
      "Learning rate set to 0.031674\n",
      "0:\tlearn: 437.6430699\ttotal: 16.8ms\tremaining: 16.7s\n",
      "1:\tlearn: 431.3923642\ttotal: 17.7ms\tremaining: 8.81s\n",
      "2:\tlearn: 424.8820360\ttotal: 18.5ms\tremaining: 6.14s\n",
      "3:\tlearn: 418.2514904\ttotal: 19.4ms\tremaining: 4.82s\n",
      "4:\tlearn: 412.6394021\ttotal: 20.2ms\tremaining: 4.01s\n",
      "5:\tlearn: 406.6247020\ttotal: 21ms\tremaining: 3.48s\n",
      "6:\tlearn: 400.5321206\ttotal: 21.8ms\tremaining: 3.09s\n",
      "7:\tlearn: 394.6683437\ttotal: 22.6ms\tremaining: 2.8s\n",
      "8:\tlearn: 388.2496484\ttotal: 23.4ms\tremaining: 2.57s\n",
      "9:\tlearn: 382.9448842\ttotal: 24.1ms\tremaining: 2.39s\n",
      "10:\tlearn: 377.2600080\ttotal: 24.8ms\tremaining: 2.23s\n",
      "11:\tlearn: 372.4829606\ttotal: 25.5ms\tremaining: 2.1s\n",
      "12:\tlearn: 366.6823437\ttotal: 26.2ms\tremaining: 1.99s\n",
      "13:\tlearn: 362.6076230\ttotal: 26.9ms\tremaining: 1.9s\n",
      "14:\tlearn: 358.0107745\ttotal: 27.6ms\tremaining: 1.81s\n",
      "15:\tlearn: 353.2802665\ttotal: 28.4ms\tremaining: 1.74s\n",
      "16:\tlearn: 348.5646265\ttotal: 29.1ms\tremaining: 1.68s\n",
      "17:\tlearn: 343.6407912\ttotal: 29.8ms\tremaining: 1.63s\n",
      "18:\tlearn: 339.2363847\ttotal: 30.5ms\tremaining: 1.58s\n",
      "19:\tlearn: 334.3431252\ttotal: 31.3ms\tremaining: 1.53s\n",
      "20:\tlearn: 330.3247028\ttotal: 32ms\tremaining: 1.49s\n",
      "21:\tlearn: 326.6118334\ttotal: 32.9ms\tremaining: 1.46s\n",
      "22:\tlearn: 322.7759981\ttotal: 33.6ms\tremaining: 1.43s\n",
      "23:\tlearn: 318.9511822\ttotal: 34.3ms\tremaining: 1.4s\n",
      "24:\tlearn: 315.4216253\ttotal: 35ms\tremaining: 1.37s\n",
      "25:\tlearn: 311.3551377\ttotal: 35.7ms\tremaining: 1.34s\n",
      "26:\tlearn: 308.1492371\ttotal: 36.5ms\tremaining: 1.31s\n",
      "27:\tlearn: 304.7284729\ttotal: 37.2ms\tremaining: 1.29s\n",
      "28:\tlearn: 301.3893204\ttotal: 37.9ms\tremaining: 1.27s\n",
      "29:\tlearn: 298.2080758\ttotal: 38.6ms\tremaining: 1.25s\n",
      "30:\tlearn: 295.6878398\ttotal: 39.3ms\tremaining: 1.23s\n",
      "31:\tlearn: 292.3912243\ttotal: 40ms\tremaining: 1.21s\n",
      "32:\tlearn: 289.6345744\ttotal: 40.8ms\tremaining: 1.19s\n",
      "33:\tlearn: 287.2158711\ttotal: 41.5ms\tremaining: 1.18s\n",
      "34:\tlearn: 284.3879081\ttotal: 42.2ms\tremaining: 1.16s\n",
      "35:\tlearn: 281.7994818\ttotal: 42.9ms\tremaining: 1.15s\n",
      "36:\tlearn: 279.2028261\ttotal: 43.7ms\tremaining: 1.14s\n",
      "37:\tlearn: 276.5821160\ttotal: 44.4ms\tremaining: 1.12s\n",
      "38:\tlearn: 273.8890894\ttotal: 45.2ms\tremaining: 1.11s\n",
      "39:\tlearn: 271.1681677\ttotal: 46ms\tremaining: 1.1s\n",
      "40:\tlearn: 269.0159531\ttotal: 46.7ms\tremaining: 1.09s\n",
      "41:\tlearn: 266.3601804\ttotal: 47.4ms\tremaining: 1.08s\n",
      "42:\tlearn: 263.8608958\ttotal: 48.1ms\tremaining: 1.07s\n",
      "43:\tlearn: 261.1405566\ttotal: 48.9ms\tremaining: 1.06s\n",
      "44:\tlearn: 258.9314736\ttotal: 49.7ms\tremaining: 1.05s\n",
      "45:\tlearn: 256.3885577\ttotal: 50.4ms\tremaining: 1.04s\n",
      "46:\tlearn: 254.2857349\ttotal: 51.1ms\tremaining: 1.04s\n",
      "47:\tlearn: 252.2347121\ttotal: 51.8ms\tremaining: 1.03s\n",
      "48:\tlearn: 250.1779367\ttotal: 52.5ms\tremaining: 1.02s\n",
      "49:\tlearn: 248.2687430\ttotal: 53.2ms\tremaining: 1.01s\n",
      "50:\tlearn: 246.3685582\ttotal: 54ms\tremaining: 1s\n",
      "51:\tlearn: 244.8719988\ttotal: 54.7ms\tremaining: 997ms\n",
      "52:\tlearn: 242.7348892\ttotal: 55.4ms\tremaining: 990ms\n",
      "53:\tlearn: 241.1611112\ttotal: 56.1ms\tremaining: 983ms\n",
      "54:\tlearn: 239.4819462\ttotal: 56.9ms\tremaining: 977ms\n",
      "55:\tlearn: 237.3877895\ttotal: 57.6ms\tremaining: 971ms\n",
      "56:\tlearn: 235.7619262\ttotal: 58.4ms\tremaining: 966ms\n",
      "57:\tlearn: 233.9604804\ttotal: 59.1ms\tremaining: 961ms\n",
      "58:\tlearn: 232.4948011\ttotal: 59.8ms\tremaining: 954ms\n",
      "59:\tlearn: 230.6283304\ttotal: 60.6ms\tremaining: 949ms\n",
      "60:\tlearn: 228.9920307\ttotal: 61.3ms\tremaining: 943ms\n",
      "61:\tlearn: 227.5197637\ttotal: 62ms\tremaining: 939ms\n",
      "62:\tlearn: 226.0561213\ttotal: 62.8ms\tremaining: 933ms\n",
      "63:\tlearn: 224.3484762\ttotal: 63.5ms\tremaining: 928ms\n",
      "64:\tlearn: 223.0652023\ttotal: 64.2ms\tremaining: 923ms\n",
      "65:\tlearn: 221.6608069\ttotal: 64.9ms\tremaining: 919ms\n",
      "66:\tlearn: 220.2445284\ttotal: 65.7ms\tremaining: 914ms\n",
      "67:\tlearn: 219.0044262\ttotal: 66.4ms\tremaining: 910ms\n",
      "68:\tlearn: 217.4624313\ttotal: 67.2ms\tremaining: 907ms\n",
      "69:\tlearn: 216.0502248\ttotal: 67.9ms\tremaining: 902ms\n",
      "70:\tlearn: 214.5361705\ttotal: 68.6ms\tremaining: 898ms\n",
      "71:\tlearn: 213.1812509\ttotal: 69.3ms\tremaining: 893ms\n",
      "72:\tlearn: 211.7399390\ttotal: 70ms\tremaining: 889ms\n",
      "73:\tlearn: 210.5557639\ttotal: 70.8ms\tremaining: 886ms\n",
      "74:\tlearn: 209.4242283\ttotal: 71.6ms\tremaining: 882ms\n",
      "75:\tlearn: 208.4366109\ttotal: 72.3ms\tremaining: 879ms\n",
      "76:\tlearn: 207.4514860\ttotal: 73ms\tremaining: 875ms\n",
      "77:\tlearn: 206.1912213\ttotal: 73.7ms\tremaining: 871ms\n",
      "78:\tlearn: 205.2585316\ttotal: 74.5ms\tremaining: 868ms\n",
      "79:\tlearn: 203.8747879\ttotal: 75.2ms\tremaining: 865ms\n",
      "80:\tlearn: 202.5993031\ttotal: 75.9ms\tremaining: 862ms\n",
      "81:\tlearn: 201.4719061\ttotal: 76.7ms\tremaining: 858ms\n",
      "82:\tlearn: 200.2871874\ttotal: 77.4ms\tremaining: 855ms\n",
      "83:\tlearn: 199.1074683\ttotal: 78.1ms\tremaining: 852ms\n",
      "84:\tlearn: 197.8511342\ttotal: 78.8ms\tremaining: 848ms\n",
      "85:\tlearn: 196.8788042\ttotal: 79.4ms\tremaining: 844ms\n",
      "86:\tlearn: 195.9815130\ttotal: 80.2ms\tremaining: 841ms\n",
      "87:\tlearn: 195.0807956\ttotal: 80.9ms\tremaining: 838ms\n",
      "88:\tlearn: 193.9775466\ttotal: 81.6ms\tremaining: 835ms\n",
      "89:\tlearn: 192.8810426\ttotal: 82.4ms\tremaining: 833ms\n",
      "90:\tlearn: 192.5363626\ttotal: 83.1ms\tremaining: 830ms\n",
      "91:\tlearn: 191.3259849\ttotal: 83.8ms\tremaining: 827ms\n",
      "92:\tlearn: 190.3650025\ttotal: 84.5ms\tremaining: 825ms\n",
      "93:\tlearn: 189.3255643\ttotal: 85.3ms\tremaining: 822ms\n",
      "94:\tlearn: 188.2433480\ttotal: 86ms\tremaining: 819ms\n",
      "95:\tlearn: 187.2786096\ttotal: 86.7ms\tremaining: 817ms\n",
      "96:\tlearn: 186.1284681\ttotal: 87.4ms\tremaining: 814ms\n",
      "97:\tlearn: 185.0190872\ttotal: 88.1ms\tremaining: 811ms\n",
      "98:\tlearn: 184.2888024\ttotal: 88.8ms\tremaining: 808ms\n",
      "99:\tlearn: 183.3111217\ttotal: 89.5ms\tremaining: 806ms\n",
      "100:\tlearn: 182.2519940\ttotal: 90.2ms\tremaining: 803ms\n",
      "101:\tlearn: 181.0186200\ttotal: 90.9ms\tremaining: 800ms\n",
      "102:\tlearn: 179.9672344\ttotal: 91.6ms\tremaining: 798ms\n",
      "103:\tlearn: 178.9776753\ttotal: 92.3ms\tremaining: 795ms\n",
      "104:\tlearn: 178.2445101\ttotal: 93.1ms\tremaining: 793ms\n",
      "105:\tlearn: 177.4055906\ttotal: 93.8ms\tremaining: 791ms\n",
      "106:\tlearn: 176.2405445\ttotal: 94.5ms\tremaining: 789ms\n",
      "107:\tlearn: 175.1813091\ttotal: 95.2ms\tremaining: 786ms\n",
      "108:\tlearn: 174.5537682\ttotal: 95.9ms\tremaining: 784ms\n",
      "109:\tlearn: 173.8231890\ttotal: 96.6ms\tremaining: 781ms\n",
      "110:\tlearn: 172.9324461\ttotal: 97.3ms\tremaining: 779ms\n",
      "111:\tlearn: 172.0019421\ttotal: 98ms\tremaining: 777ms\n",
      "112:\tlearn: 171.2945678\ttotal: 98.6ms\tremaining: 774ms\n",
      "113:\tlearn: 170.4815313\ttotal: 99.3ms\tremaining: 772ms\n",
      "114:\tlearn: 169.9491294\ttotal: 100ms\tremaining: 770ms\n",
      "115:\tlearn: 169.2483859\ttotal: 101ms\tremaining: 768ms\n",
      "116:\tlearn: 168.7342383\ttotal: 101ms\tremaining: 765ms\n",
      "117:\tlearn: 168.1837140\ttotal: 102ms\tremaining: 763ms\n",
      "118:\tlearn: 167.1222358\ttotal: 103ms\tremaining: 761ms\n",
      "119:\tlearn: 166.3472734\ttotal: 104ms\tremaining: 759ms\n",
      "120:\tlearn: 165.5330342\ttotal: 104ms\tremaining: 757ms\n",
      "121:\tlearn: 164.8476246\ttotal: 105ms\tremaining: 755ms\n",
      "122:\tlearn: 164.2399797\ttotal: 106ms\tremaining: 753ms\n",
      "123:\tlearn: 164.0121571\ttotal: 107ms\tremaining: 754ms\n",
      "124:\tlearn: 162.9794212\ttotal: 108ms\tremaining: 753ms\n",
      "125:\tlearn: 162.2095741\ttotal: 108ms\tremaining: 752ms\n",
      "126:\tlearn: 161.1695920\ttotal: 109ms\tremaining: 751ms\n",
      "127:\tlearn: 160.3516612\ttotal: 110ms\tremaining: 749ms\n",
      "128:\tlearn: 159.1596356\ttotal: 111ms\tremaining: 748ms\n",
      "129:\tlearn: 158.5354394\ttotal: 112ms\tremaining: 747ms\n",
      "130:\tlearn: 157.5922383\ttotal: 112ms\tremaining: 746ms\n",
      "131:\tlearn: 156.9689796\ttotal: 113ms\tremaining: 744ms\n",
      "132:\tlearn: 156.4170623\ttotal: 114ms\tremaining: 742ms\n",
      "133:\tlearn: 156.1222595\ttotal: 115ms\tremaining: 741ms\n",
      "134:\tlearn: 155.5996569\ttotal: 115ms\tremaining: 739ms\n",
      "135:\tlearn: 154.8990155\ttotal: 116ms\tremaining: 738ms\n",
      "136:\tlearn: 154.3704896\ttotal: 117ms\tremaining: 737ms\n",
      "137:\tlearn: 153.8560012\ttotal: 118ms\tremaining: 737ms\n",
      "138:\tlearn: 153.2399938\ttotal: 119ms\tremaining: 735ms\n",
      "139:\tlearn: 152.2142414\ttotal: 119ms\tremaining: 734ms\n",
      "140:\tlearn: 151.5976950\ttotal: 120ms\tremaining: 732ms\n",
      "141:\tlearn: 151.4426506\ttotal: 121ms\tremaining: 731ms\n",
      "142:\tlearn: 150.8467135\ttotal: 122ms\tremaining: 729ms\n",
      "143:\tlearn: 150.0175883\ttotal: 122ms\tremaining: 728ms\n",
      "144:\tlearn: 149.6327647\ttotal: 123ms\tremaining: 727ms\n",
      "145:\tlearn: 148.9265718\ttotal: 124ms\tremaining: 725ms\n",
      "146:\tlearn: 148.4460764\ttotal: 125ms\tremaining: 723ms\n",
      "147:\tlearn: 147.8108318\ttotal: 125ms\tremaining: 722ms\n",
      "148:\tlearn: 147.2766525\ttotal: 126ms\tremaining: 721ms\n",
      "149:\tlearn: 146.8537279\ttotal: 127ms\tremaining: 719ms\n",
      "150:\tlearn: 146.0227438\ttotal: 128ms\tremaining: 718ms\n",
      "151:\tlearn: 145.5603059\ttotal: 128ms\tremaining: 716ms\n",
      "152:\tlearn: 145.0318400\ttotal: 129ms\tremaining: 715ms\n",
      "153:\tlearn: 144.6082188\ttotal: 130ms\tremaining: 714ms\n",
      "154:\tlearn: 144.2070501\ttotal: 131ms\tremaining: 712ms\n",
      "155:\tlearn: 143.8060676\ttotal: 131ms\tremaining: 711ms\n",
      "156:\tlearn: 143.3819707\ttotal: 132ms\tremaining: 710ms\n",
      "157:\tlearn: 143.0764402\ttotal: 133ms\tremaining: 709ms\n",
      "158:\tlearn: 142.4609449\ttotal: 134ms\tremaining: 707ms\n",
      "159:\tlearn: 142.3321970\ttotal: 134ms\tremaining: 706ms\n",
      "160:\tlearn: 141.9044208\ttotal: 135ms\tremaining: 704ms\n",
      "161:\tlearn: 141.4544471\ttotal: 136ms\tremaining: 703ms\n",
      "162:\tlearn: 140.9391569\ttotal: 137ms\tremaining: 701ms\n",
      "163:\tlearn: 140.3413557\ttotal: 137ms\tremaining: 700ms\n",
      "164:\tlearn: 139.7992277\ttotal: 138ms\tremaining: 698ms\n",
      "165:\tlearn: 139.3139418\ttotal: 139ms\tremaining: 697ms\n",
      "166:\tlearn: 139.1617594\ttotal: 139ms\tremaining: 696ms\n",
      "167:\tlearn: 138.8837397\ttotal: 140ms\tremaining: 694ms\n",
      "168:\tlearn: 138.6951410\ttotal: 141ms\tremaining: 693ms\n",
      "169:\tlearn: 138.0167618\ttotal: 142ms\tremaining: 692ms\n",
      "170:\tlearn: 137.7020324\ttotal: 142ms\tremaining: 690ms\n",
      "171:\tlearn: 137.1976478\ttotal: 143ms\tremaining: 689ms\n",
      "172:\tlearn: 136.6670434\ttotal: 144ms\tremaining: 687ms\n",
      "173:\tlearn: 136.4670074\ttotal: 144ms\tremaining: 686ms\n",
      "174:\tlearn: 136.0663779\ttotal: 145ms\tremaining: 684ms\n",
      "175:\tlearn: 135.9542221\ttotal: 146ms\tremaining: 683ms\n",
      "176:\tlearn: 135.6178437\ttotal: 146ms\tremaining: 681ms\n",
      "177:\tlearn: 134.6062854\ttotal: 147ms\tremaining: 680ms\n",
      "178:\tlearn: 134.5063344\ttotal: 148ms\tremaining: 677ms\n",
      "179:\tlearn: 133.9371247\ttotal: 148ms\tremaining: 676ms\n",
      "180:\tlearn: 133.8431589\ttotal: 149ms\tremaining: 673ms\n",
      "181:\tlearn: 133.4293648\ttotal: 149ms\tremaining: 671ms\n",
      "182:\tlearn: 133.2065999\ttotal: 150ms\tremaining: 670ms\n",
      "183:\tlearn: 132.9235113\ttotal: 151ms\tremaining: 669ms\n",
      "184:\tlearn: 132.6695944\ttotal: 152ms\tremaining: 668ms\n",
      "185:\tlearn: 132.3135234\ttotal: 152ms\tremaining: 666ms\n",
      "186:\tlearn: 132.2233433\ttotal: 153ms\tremaining: 664ms\n",
      "187:\tlearn: 132.0628764\ttotal: 154ms\tremaining: 663ms\n",
      "188:\tlearn: 131.8624217\ttotal: 154ms\tremaining: 662ms\n",
      "189:\tlearn: 131.3846390\ttotal: 155ms\tremaining: 661ms\n",
      "190:\tlearn: 131.0638781\ttotal: 156ms\tremaining: 660ms\n",
      "191:\tlearn: 130.4721276\ttotal: 157ms\tremaining: 659ms\n",
      "192:\tlearn: 129.9910319\ttotal: 157ms\tremaining: 658ms\n",
      "193:\tlearn: 129.7074214\ttotal: 158ms\tremaining: 657ms\n",
      "194:\tlearn: 129.0491404\ttotal: 159ms\tremaining: 656ms\n",
      "195:\tlearn: 128.6928621\ttotal: 160ms\tremaining: 654ms\n",
      "196:\tlearn: 128.5117514\ttotal: 160ms\tremaining: 653ms\n",
      "197:\tlearn: 128.4035709\ttotal: 161ms\tremaining: 653ms\n",
      "198:\tlearn: 127.9924182\ttotal: 162ms\tremaining: 652ms\n",
      "199:\tlearn: 127.7690317\ttotal: 163ms\tremaining: 651ms\n",
      "200:\tlearn: 127.6252249\ttotal: 164ms\tremaining: 650ms\n",
      "201:\tlearn: 127.4951417\ttotal: 164ms\tremaining: 649ms\n",
      "202:\tlearn: 127.0315349\ttotal: 165ms\tremaining: 648ms\n",
      "203:\tlearn: 126.7791475\ttotal: 166ms\tremaining: 647ms\n",
      "204:\tlearn: 126.4903107\ttotal: 167ms\tremaining: 646ms\n",
      "205:\tlearn: 126.0664803\ttotal: 167ms\tremaining: 645ms\n",
      "206:\tlearn: 125.3934071\ttotal: 168ms\tremaining: 644ms\n",
      "207:\tlearn: 125.0899622\ttotal: 169ms\tremaining: 643ms\n",
      "208:\tlearn: 124.7757310\ttotal: 169ms\tremaining: 641ms\n",
      "209:\tlearn: 124.5475960\ttotal: 170ms\tremaining: 640ms\n",
      "210:\tlearn: 124.1962887\ttotal: 171ms\tremaining: 639ms\n",
      "211:\tlearn: 123.9686937\ttotal: 172ms\tremaining: 638ms\n",
      "212:\tlearn: 123.0280048\ttotal: 172ms\tremaining: 637ms\n",
      "213:\tlearn: 122.5447141\ttotal: 173ms\tremaining: 636ms\n",
      "214:\tlearn: 122.1785305\ttotal: 174ms\tremaining: 635ms\n",
      "215:\tlearn: 121.4403560\ttotal: 175ms\tremaining: 634ms\n",
      "216:\tlearn: 120.8269584\ttotal: 175ms\tremaining: 632ms\n",
      "217:\tlearn: 120.2399329\ttotal: 176ms\tremaining: 631ms\n",
      "218:\tlearn: 119.4852557\ttotal: 177ms\tremaining: 630ms\n",
      "219:\tlearn: 119.2094151\ttotal: 178ms\tremaining: 630ms\n",
      "220:\tlearn: 119.0417229\ttotal: 178ms\tremaining: 628ms\n",
      "221:\tlearn: 118.9557915\ttotal: 179ms\tremaining: 627ms\n",
      "222:\tlearn: 118.3082421\ttotal: 180ms\tremaining: 626ms\n",
      "223:\tlearn: 117.7364211\ttotal: 180ms\tremaining: 625ms\n",
      "224:\tlearn: 117.6324235\ttotal: 181ms\tremaining: 624ms\n",
      "225:\tlearn: 117.2879743\ttotal: 182ms\tremaining: 623ms\n",
      "226:\tlearn: 117.0422612\ttotal: 183ms\tremaining: 622ms\n",
      "227:\tlearn: 116.8001379\ttotal: 183ms\tremaining: 621ms\n",
      "228:\tlearn: 116.4854978\ttotal: 184ms\tremaining: 620ms\n",
      "229:\tlearn: 115.7559740\ttotal: 185ms\tremaining: 619ms\n",
      "230:\tlearn: 115.1896271\ttotal: 186ms\tremaining: 618ms\n",
      "231:\tlearn: 114.9666291\ttotal: 186ms\tremaining: 617ms\n",
      "232:\tlearn: 114.1239318\ttotal: 187ms\tremaining: 616ms\n",
      "233:\tlearn: 113.9964466\ttotal: 188ms\tremaining: 615ms\n",
      "234:\tlearn: 113.8912592\ttotal: 189ms\tremaining: 614ms\n",
      "235:\tlearn: 113.4606970\ttotal: 190ms\tremaining: 613ms\n",
      "236:\tlearn: 113.0958922\ttotal: 190ms\tremaining: 612ms\n",
      "237:\tlearn: 113.0091361\ttotal: 191ms\tremaining: 611ms\n",
      "238:\tlearn: 112.7657197\ttotal: 192ms\tremaining: 610ms\n",
      "239:\tlearn: 112.2315070\ttotal: 192ms\tremaining: 609ms\n",
      "240:\tlearn: 111.9507125\ttotal: 193ms\tremaining: 608ms\n",
      "241:\tlearn: 111.7384492\ttotal: 194ms\tremaining: 607ms\n",
      "242:\tlearn: 111.0693763\ttotal: 194ms\tremaining: 606ms\n",
      "243:\tlearn: 110.3499926\ttotal: 195ms\tremaining: 605ms\n",
      "244:\tlearn: 110.2316231\ttotal: 196ms\tremaining: 604ms\n",
      "245:\tlearn: 109.6985998\ttotal: 197ms\tremaining: 603ms\n",
      "246:\tlearn: 109.4279824\ttotal: 197ms\tremaining: 602ms\n",
      "247:\tlearn: 109.1466762\ttotal: 198ms\tremaining: 601ms\n",
      "248:\tlearn: 108.9628542\ttotal: 199ms\tremaining: 600ms\n",
      "249:\tlearn: 108.7268676\ttotal: 200ms\tremaining: 599ms\n",
      "250:\tlearn: 108.0921190\ttotal: 200ms\tremaining: 597ms\n",
      "251:\tlearn: 107.6167844\ttotal: 201ms\tremaining: 596ms\n",
      "252:\tlearn: 106.9716563\ttotal: 202ms\tremaining: 595ms\n",
      "253:\tlearn: 106.4272485\ttotal: 202ms\tremaining: 594ms\n",
      "254:\tlearn: 106.2032614\ttotal: 203ms\tremaining: 593ms\n",
      "255:\tlearn: 105.5756794\ttotal: 204ms\tremaining: 592ms\n",
      "256:\tlearn: 105.4918649\ttotal: 204ms\tremaining: 591ms\n",
      "257:\tlearn: 105.2466976\ttotal: 205ms\tremaining: 590ms\n",
      "258:\tlearn: 105.0461428\ttotal: 206ms\tremaining: 589ms\n",
      "259:\tlearn: 104.5887628\ttotal: 207ms\tremaining: 588ms\n",
      "260:\tlearn: 104.1305873\ttotal: 207ms\tremaining: 587ms\n",
      "261:\tlearn: 103.5527158\ttotal: 208ms\tremaining: 586ms\n",
      "262:\tlearn: 103.0334823\ttotal: 209ms\tremaining: 585ms\n",
      "263:\tlearn: 102.6732388\ttotal: 209ms\tremaining: 584ms\n",
      "264:\tlearn: 102.4678728\ttotal: 210ms\tremaining: 583ms\n",
      "265:\tlearn: 101.9608852\ttotal: 211ms\tremaining: 582ms\n",
      "266:\tlearn: 101.4449668\ttotal: 212ms\tremaining: 581ms\n",
      "267:\tlearn: 100.9647899\ttotal: 212ms\tremaining: 580ms\n",
      "268:\tlearn: 100.4376357\ttotal: 213ms\tremaining: 579ms\n",
      "269:\tlearn: 100.1038322\ttotal: 214ms\tremaining: 578ms\n",
      "270:\tlearn: 99.8991183\ttotal: 214ms\tremaining: 577ms\n",
      "271:\tlearn: 99.4016031\ttotal: 215ms\tremaining: 576ms\n",
      "272:\tlearn: 98.9231252\ttotal: 216ms\tremaining: 575ms\n",
      "273:\tlearn: 98.5734863\ttotal: 217ms\tremaining: 574ms\n",
      "274:\tlearn: 98.3333355\ttotal: 217ms\tremaining: 573ms\n",
      "275:\tlearn: 97.9164082\ttotal: 218ms\tremaining: 572ms\n",
      "276:\tlearn: 97.3911203\ttotal: 219ms\tremaining: 571ms\n",
      "277:\tlearn: 96.9317789\ttotal: 219ms\tremaining: 570ms\n",
      "278:\tlearn: 96.6243997\ttotal: 220ms\tremaining: 569ms\n",
      "279:\tlearn: 96.3288821\ttotal: 221ms\tremaining: 568ms\n",
      "280:\tlearn: 95.8579534\ttotal: 222ms\tremaining: 567ms\n",
      "281:\tlearn: 95.4136026\ttotal: 222ms\tremaining: 566ms\n",
      "282:\tlearn: 95.3442077\ttotal: 223ms\tremaining: 565ms\n",
      "283:\tlearn: 95.1166584\ttotal: 224ms\tremaining: 564ms\n",
      "284:\tlearn: 94.8017360\ttotal: 224ms\tremaining: 563ms\n",
      "285:\tlearn: 94.5863908\ttotal: 225ms\tremaining: 562ms\n",
      "286:\tlearn: 94.4111694\ttotal: 226ms\tremaining: 561ms\n",
      "287:\tlearn: 94.2678024\ttotal: 226ms\tremaining: 560ms\n",
      "288:\tlearn: 93.7753419\ttotal: 227ms\tremaining: 559ms\n",
      "289:\tlearn: 93.3772710\ttotal: 228ms\tremaining: 558ms\n",
      "290:\tlearn: 92.8750904\ttotal: 229ms\tremaining: 557ms\n",
      "291:\tlearn: 92.6654794\ttotal: 229ms\tremaining: 556ms\n",
      "292:\tlearn: 92.2659876\ttotal: 230ms\tremaining: 555ms\n",
      "293:\tlearn: 92.0282495\ttotal: 231ms\tremaining: 554ms\n",
      "294:\tlearn: 91.8288855\ttotal: 232ms\tremaining: 553ms\n",
      "295:\tlearn: 91.6752612\ttotal: 232ms\tremaining: 552ms\n",
      "296:\tlearn: 91.2561883\ttotal: 233ms\tremaining: 551ms\n",
      "297:\tlearn: 91.0227123\ttotal: 234ms\tremaining: 550ms\n",
      "298:\tlearn: 90.8392142\ttotal: 234ms\tremaining: 549ms\n",
      "299:\tlearn: 90.6853014\ttotal: 235ms\tremaining: 548ms\n",
      "300:\tlearn: 90.5986761\ttotal: 236ms\tremaining: 547ms\n",
      "301:\tlearn: 90.2180036\ttotal: 236ms\tremaining: 547ms\n",
      "302:\tlearn: 89.8313622\ttotal: 237ms\tremaining: 546ms\n",
      "303:\tlearn: 89.6872837\ttotal: 238ms\tremaining: 545ms\n",
      "304:\tlearn: 89.3853276\ttotal: 239ms\tremaining: 544ms\n",
      "305:\tlearn: 88.9459206\ttotal: 239ms\tremaining: 543ms\n",
      "306:\tlearn: 88.7258770\ttotal: 240ms\tremaining: 542ms\n",
      "307:\tlearn: 88.5374358\ttotal: 241ms\tremaining: 541ms\n",
      "308:\tlearn: 88.0624447\ttotal: 241ms\tremaining: 540ms\n",
      "309:\tlearn: 87.7942692\ttotal: 242ms\tremaining: 539ms\n",
      "310:\tlearn: 87.6354184\ttotal: 243ms\tremaining: 538ms\n",
      "311:\tlearn: 87.4879486\ttotal: 244ms\tremaining: 537ms\n",
      "312:\tlearn: 87.0294739\ttotal: 244ms\tremaining: 536ms\n",
      "313:\tlearn: 86.6746221\ttotal: 245ms\tremaining: 535ms\n",
      "314:\tlearn: 86.2792146\ttotal: 246ms\tremaining: 534ms\n",
      "315:\tlearn: 86.2127070\ttotal: 246ms\tremaining: 534ms\n",
      "316:\tlearn: 86.1507368\ttotal: 247ms\tremaining: 533ms\n",
      "317:\tlearn: 85.7089141\ttotal: 248ms\tremaining: 532ms\n",
      "318:\tlearn: 85.6035137\ttotal: 249ms\tremaining: 531ms\n",
      "319:\tlearn: 85.3587988\ttotal: 249ms\tremaining: 530ms\n",
      "320:\tlearn: 84.9660906\ttotal: 250ms\tremaining: 529ms\n",
      "321:\tlearn: 84.5474713\ttotal: 251ms\tremaining: 528ms\n",
      "322:\tlearn: 84.1996852\ttotal: 251ms\tremaining: 527ms\n",
      "323:\tlearn: 84.0654282\ttotal: 252ms\tremaining: 526ms\n",
      "324:\tlearn: 83.7937327\ttotal: 253ms\tremaining: 525ms\n",
      "325:\tlearn: 83.5064288\ttotal: 253ms\tremaining: 524ms\n",
      "326:\tlearn: 83.3997655\ttotal: 254ms\tremaining: 523ms\n",
      "327:\tlearn: 83.2958622\ttotal: 255ms\tremaining: 522ms\n",
      "328:\tlearn: 82.9877578\ttotal: 256ms\tremaining: 521ms\n",
      "329:\tlearn: 82.6286638\ttotal: 256ms\tremaining: 520ms\n",
      "330:\tlearn: 82.2827132\ttotal: 257ms\tremaining: 519ms\n",
      "331:\tlearn: 82.0895251\ttotal: 258ms\tremaining: 518ms\n",
      "332:\tlearn: 82.0130649\ttotal: 258ms\tremaining: 518ms\n",
      "333:\tlearn: 81.6771734\ttotal: 259ms\tremaining: 517ms\n",
      "334:\tlearn: 81.3519124\ttotal: 260ms\tremaining: 516ms\n",
      "335:\tlearn: 81.0170326\ttotal: 261ms\tremaining: 515ms\n",
      "336:\tlearn: 80.6917886\ttotal: 261ms\tremaining: 514ms\n",
      "337:\tlearn: 80.3455177\ttotal: 262ms\tremaining: 513ms\n",
      "338:\tlearn: 80.0260727\ttotal: 263ms\tremaining: 512ms\n",
      "339:\tlearn: 79.9154748\ttotal: 263ms\tremaining: 511ms\n",
      "340:\tlearn: 79.7813079\ttotal: 264ms\tremaining: 510ms\n",
      "341:\tlearn: 79.3513293\ttotal: 265ms\tremaining: 509ms\n",
      "342:\tlearn: 78.8666019\ttotal: 266ms\tremaining: 509ms\n",
      "343:\tlearn: 78.7959013\ttotal: 266ms\tremaining: 508ms\n",
      "344:\tlearn: 78.7081334\ttotal: 267ms\tremaining: 507ms\n",
      "345:\tlearn: 78.3354931\ttotal: 268ms\tremaining: 506ms\n",
      "346:\tlearn: 77.9475067\ttotal: 268ms\tremaining: 505ms\n",
      "347:\tlearn: 77.8910420\ttotal: 269ms\tremaining: 504ms\n",
      "348:\tlearn: 77.5461672\ttotal: 270ms\tremaining: 503ms\n",
      "349:\tlearn: 77.3717101\ttotal: 271ms\tremaining: 502ms\n",
      "350:\tlearn: 77.0729657\ttotal: 271ms\tremaining: 502ms\n",
      "351:\tlearn: 76.7699287\ttotal: 272ms\tremaining: 501ms\n",
      "352:\tlearn: 76.6029759\ttotal: 273ms\tremaining: 501ms\n",
      "353:\tlearn: 76.1642615\ttotal: 274ms\tremaining: 500ms\n",
      "354:\tlearn: 76.1202523\ttotal: 275ms\tremaining: 499ms\n",
      "355:\tlearn: 75.9487132\ttotal: 276ms\tremaining: 499ms\n",
      "356:\tlearn: 75.6748479\ttotal: 276ms\tremaining: 498ms\n",
      "357:\tlearn: 75.4290864\ttotal: 277ms\tremaining: 497ms\n",
      "358:\tlearn: 75.0463849\ttotal: 278ms\tremaining: 496ms\n",
      "359:\tlearn: 74.9902381\ttotal: 278ms\tremaining: 495ms\n",
      "360:\tlearn: 74.5243875\ttotal: 279ms\tremaining: 494ms\n",
      "361:\tlearn: 74.1913065\ttotal: 280ms\tremaining: 493ms\n",
      "362:\tlearn: 73.8413359\ttotal: 281ms\tremaining: 492ms\n",
      "363:\tlearn: 73.7602119\ttotal: 281ms\tremaining: 492ms\n",
      "364:\tlearn: 73.3278135\ttotal: 282ms\tremaining: 491ms\n",
      "365:\tlearn: 72.9524336\ttotal: 283ms\tremaining: 490ms\n",
      "366:\tlearn: 72.6791856\ttotal: 284ms\tremaining: 489ms\n",
      "367:\tlearn: 72.4333577\ttotal: 284ms\tremaining: 488ms\n",
      "368:\tlearn: 72.1672937\ttotal: 285ms\tremaining: 487ms\n",
      "369:\tlearn: 71.9070276\ttotal: 286ms\tremaining: 486ms\n",
      "370:\tlearn: 71.5496196\ttotal: 286ms\tremaining: 486ms\n",
      "371:\tlearn: 71.3161902\ttotal: 287ms\tremaining: 485ms\n",
      "372:\tlearn: 71.1259191\ttotal: 288ms\tremaining: 484ms\n",
      "373:\tlearn: 70.9889962\ttotal: 289ms\tremaining: 484ms\n",
      "374:\tlearn: 70.7417966\ttotal: 290ms\tremaining: 483ms\n",
      "375:\tlearn: 70.4931174\ttotal: 290ms\tremaining: 482ms\n",
      "376:\tlearn: 70.3300576\ttotal: 291ms\tremaining: 481ms\n",
      "377:\tlearn: 69.9233248\ttotal: 292ms\tremaining: 480ms\n",
      "378:\tlearn: 69.6261005\ttotal: 293ms\tremaining: 480ms\n",
      "379:\tlearn: 69.3989708\ttotal: 293ms\tremaining: 479ms\n",
      "380:\tlearn: 69.0085387\ttotal: 294ms\tremaining: 478ms\n",
      "381:\tlearn: 68.7604153\ttotal: 295ms\tremaining: 477ms\n",
      "382:\tlearn: 68.4602767\ttotal: 296ms\tremaining: 476ms\n",
      "383:\tlearn: 68.1005452\ttotal: 297ms\tremaining: 476ms\n",
      "384:\tlearn: 68.0540467\ttotal: 297ms\tremaining: 475ms\n",
      "385:\tlearn: 67.8972753\ttotal: 298ms\tremaining: 474ms\n",
      "386:\tlearn: 67.5389629\ttotal: 299ms\tremaining: 473ms\n",
      "387:\tlearn: 67.2390178\ttotal: 300ms\tremaining: 473ms\n",
      "388:\tlearn: 67.0279888\ttotal: 300ms\tremaining: 472ms\n",
      "389:\tlearn: 66.8375919\ttotal: 301ms\tremaining: 471ms\n",
      "390:\tlearn: 66.4118315\ttotal: 302ms\tremaining: 470ms\n",
      "391:\tlearn: 66.3642690\ttotal: 303ms\tremaining: 469ms\n",
      "392:\tlearn: 66.1673138\ttotal: 303ms\tremaining: 468ms\n",
      "393:\tlearn: 66.0177482\ttotal: 304ms\tremaining: 468ms\n",
      "394:\tlearn: 65.8018038\ttotal: 305ms\tremaining: 467ms\n",
      "395:\tlearn: 65.6886505\ttotal: 305ms\tremaining: 466ms\n",
      "396:\tlearn: 65.6120185\ttotal: 306ms\tremaining: 465ms\n",
      "397:\tlearn: 65.5746662\ttotal: 307ms\tremaining: 464ms\n",
      "398:\tlearn: 65.2974851\ttotal: 308ms\tremaining: 463ms\n",
      "399:\tlearn: 65.2464764\ttotal: 308ms\tremaining: 462ms\n",
      "400:\tlearn: 65.1241314\ttotal: 309ms\tremaining: 462ms\n",
      "401:\tlearn: 65.0515740\ttotal: 310ms\tremaining: 461ms\n",
      "402:\tlearn: 64.8089636\ttotal: 310ms\tremaining: 460ms\n",
      "403:\tlearn: 64.5992230\ttotal: 311ms\tremaining: 459ms\n",
      "404:\tlearn: 64.2907010\ttotal: 312ms\tremaining: 458ms\n",
      "405:\tlearn: 64.1568642\ttotal: 313ms\tremaining: 457ms\n",
      "406:\tlearn: 63.8279106\ttotal: 313ms\tremaining: 456ms\n",
      "407:\tlearn: 63.5558565\ttotal: 314ms\tremaining: 456ms\n",
      "408:\tlearn: 63.3865445\ttotal: 315ms\tremaining: 455ms\n",
      "409:\tlearn: 63.2752408\ttotal: 315ms\tremaining: 454ms\n",
      "410:\tlearn: 63.1070190\ttotal: 316ms\tremaining: 453ms\n",
      "411:\tlearn: 62.7868376\ttotal: 317ms\tremaining: 452ms\n",
      "412:\tlearn: 62.5345803\ttotal: 318ms\tremaining: 451ms\n",
      "413:\tlearn: 62.2729058\ttotal: 318ms\tremaining: 451ms\n",
      "414:\tlearn: 61.9850985\ttotal: 319ms\tremaining: 450ms\n",
      "415:\tlearn: 61.7784164\ttotal: 320ms\tremaining: 449ms\n",
      "416:\tlearn: 61.7431976\ttotal: 320ms\tremaining: 448ms\n",
      "417:\tlearn: 61.4309964\ttotal: 321ms\tremaining: 447ms\n",
      "418:\tlearn: 61.3513660\ttotal: 322ms\tremaining: 446ms\n",
      "419:\tlearn: 61.1253739\ttotal: 323ms\tremaining: 445ms\n",
      "420:\tlearn: 61.0742571\ttotal: 323ms\tremaining: 445ms\n",
      "421:\tlearn: 61.0390980\ttotal: 324ms\tremaining: 444ms\n",
      "422:\tlearn: 61.0095757\ttotal: 325ms\tremaining: 443ms\n",
      "423:\tlearn: 60.6843255\ttotal: 325ms\tremaining: 442ms\n",
      "424:\tlearn: 60.4045551\ttotal: 326ms\tremaining: 441ms\n",
      "425:\tlearn: 60.3649587\ttotal: 327ms\tremaining: 440ms\n",
      "426:\tlearn: 60.3315828\ttotal: 328ms\tremaining: 440ms\n",
      "427:\tlearn: 60.1047027\ttotal: 329ms\tremaining: 439ms\n",
      "428:\tlearn: 59.9170736\ttotal: 329ms\tremaining: 438ms\n",
      "429:\tlearn: 59.6875648\ttotal: 330ms\tremaining: 438ms\n",
      "430:\tlearn: 59.6662150\ttotal: 331ms\tremaining: 437ms\n",
      "431:\tlearn: 59.4208112\ttotal: 332ms\tremaining: 436ms\n",
      "432:\tlearn: 59.2358034\ttotal: 332ms\tremaining: 435ms\n",
      "433:\tlearn: 58.9818868\ttotal: 333ms\tremaining: 434ms\n",
      "434:\tlearn: 58.7089433\ttotal: 334ms\tremaining: 434ms\n",
      "435:\tlearn: 58.5898817\ttotal: 335ms\tremaining: 433ms\n",
      "436:\tlearn: 58.5425342\ttotal: 335ms\tremaining: 432ms\n",
      "437:\tlearn: 58.2884605\ttotal: 336ms\tremaining: 431ms\n",
      "438:\tlearn: 58.2643873\ttotal: 337ms\tremaining: 431ms\n",
      "439:\tlearn: 58.2330868\ttotal: 338ms\tremaining: 430ms\n",
      "440:\tlearn: 57.9676592\ttotal: 338ms\tremaining: 429ms\n",
      "441:\tlearn: 57.7670212\ttotal: 339ms\tremaining: 428ms\n",
      "442:\tlearn: 57.5322464\ttotal: 340ms\tremaining: 427ms\n",
      "443:\tlearn: 57.2771620\ttotal: 341ms\tremaining: 427ms\n",
      "444:\tlearn: 57.0227885\ttotal: 341ms\tremaining: 426ms\n",
      "445:\tlearn: 56.7616770\ttotal: 342ms\tremaining: 425ms\n",
      "446:\tlearn: 56.7367450\ttotal: 343ms\tremaining: 424ms\n",
      "447:\tlearn: 56.6715001\ttotal: 344ms\tremaining: 424ms\n",
      "448:\tlearn: 56.4881346\ttotal: 344ms\tremaining: 423ms\n",
      "449:\tlearn: 56.3749776\ttotal: 345ms\tremaining: 422ms\n",
      "450:\tlearn: 56.2172319\ttotal: 346ms\tremaining: 421ms\n",
      "451:\tlearn: 55.9461925\ttotal: 347ms\tremaining: 420ms\n",
      "452:\tlearn: 55.8884270\ttotal: 347ms\tremaining: 420ms\n",
      "453:\tlearn: 55.7987432\ttotal: 348ms\tremaining: 419ms\n",
      "454:\tlearn: 55.7376337\ttotal: 349ms\tremaining: 418ms\n",
      "455:\tlearn: 55.5150595\ttotal: 350ms\tremaining: 417ms\n",
      "456:\tlearn: 55.4819680\ttotal: 351ms\tremaining: 417ms\n",
      "457:\tlearn: 55.1719919\ttotal: 351ms\tremaining: 416ms\n",
      "458:\tlearn: 55.1295759\ttotal: 352ms\tremaining: 415ms\n",
      "459:\tlearn: 55.0856302\ttotal: 353ms\tremaining: 414ms\n",
      "460:\tlearn: 54.8056235\ttotal: 354ms\tremaining: 413ms\n",
      "461:\tlearn: 54.4030407\ttotal: 354ms\tremaining: 413ms\n",
      "462:\tlearn: 54.3308204\ttotal: 355ms\tremaining: 412ms\n",
      "463:\tlearn: 54.0283724\ttotal: 356ms\tremaining: 411ms\n",
      "464:\tlearn: 53.9962714\ttotal: 357ms\tremaining: 411ms\n",
      "465:\tlearn: 53.8149476\ttotal: 358ms\tremaining: 410ms\n",
      "466:\tlearn: 53.7806209\ttotal: 358ms\tremaining: 409ms\n",
      "467:\tlearn: 53.7585727\ttotal: 359ms\tremaining: 408ms\n",
      "468:\tlearn: 53.5042777\ttotal: 360ms\tremaining: 407ms\n",
      "469:\tlearn: 53.3257034\ttotal: 360ms\tremaining: 407ms\n",
      "470:\tlearn: 53.0801119\ttotal: 361ms\tremaining: 406ms\n",
      "471:\tlearn: 53.0136550\ttotal: 362ms\tremaining: 405ms\n",
      "472:\tlearn: 52.9408930\ttotal: 363ms\tremaining: 404ms\n",
      "473:\tlearn: 52.7089062\ttotal: 363ms\tremaining: 403ms\n",
      "474:\tlearn: 52.6819781\ttotal: 364ms\tremaining: 402ms\n",
      "475:\tlearn: 52.5065568\ttotal: 365ms\tremaining: 402ms\n",
      "476:\tlearn: 52.3688770\ttotal: 366ms\tremaining: 401ms\n",
      "477:\tlearn: 52.2402473\ttotal: 366ms\tremaining: 400ms\n",
      "478:\tlearn: 52.1406517\ttotal: 367ms\tremaining: 399ms\n",
      "479:\tlearn: 52.1107144\ttotal: 368ms\tremaining: 398ms\n",
      "480:\tlearn: 51.9239449\ttotal: 368ms\tremaining: 397ms\n",
      "481:\tlearn: 51.7096820\ttotal: 369ms\tremaining: 397ms\n",
      "482:\tlearn: 51.6266918\ttotal: 370ms\tremaining: 396ms\n",
      "483:\tlearn: 51.5969797\ttotal: 370ms\tremaining: 395ms\n",
      "484:\tlearn: 51.4480162\ttotal: 371ms\tremaining: 394ms\n",
      "485:\tlearn: 51.2269261\ttotal: 372ms\tremaining: 393ms\n",
      "486:\tlearn: 50.9904632\ttotal: 373ms\tremaining: 393ms\n",
      "487:\tlearn: 50.9342043\ttotal: 373ms\tremaining: 392ms\n",
      "488:\tlearn: 50.8423680\ttotal: 374ms\tremaining: 391ms\n",
      "489:\tlearn: 50.7269788\ttotal: 375ms\tremaining: 390ms\n",
      "490:\tlearn: 50.5384699\ttotal: 375ms\tremaining: 389ms\n",
      "491:\tlearn: 50.5047793\ttotal: 376ms\tremaining: 388ms\n",
      "492:\tlearn: 50.3234448\ttotal: 377ms\tremaining: 388ms\n",
      "493:\tlearn: 50.1653421\ttotal: 378ms\tremaining: 387ms\n",
      "494:\tlearn: 49.9835558\ttotal: 378ms\tremaining: 386ms\n",
      "495:\tlearn: 49.8884283\ttotal: 379ms\tremaining: 385ms\n",
      "496:\tlearn: 49.6217364\ttotal: 380ms\tremaining: 384ms\n",
      "497:\tlearn: 49.5268562\ttotal: 380ms\tremaining: 384ms\n",
      "498:\tlearn: 49.3078402\ttotal: 381ms\tremaining: 383ms\n",
      "499:\tlearn: 49.2571676\ttotal: 382ms\tremaining: 382ms\n",
      "500:\tlearn: 49.2173141\ttotal: 383ms\tremaining: 381ms\n",
      "501:\tlearn: 48.9813103\ttotal: 383ms\tremaining: 380ms\n",
      "502:\tlearn: 48.8304542\ttotal: 384ms\tremaining: 380ms\n",
      "503:\tlearn: 48.7430936\ttotal: 385ms\tremaining: 379ms\n",
      "504:\tlearn: 48.5493989\ttotal: 386ms\tremaining: 378ms\n",
      "505:\tlearn: 48.5134839\ttotal: 386ms\tremaining: 377ms\n",
      "506:\tlearn: 48.3516141\ttotal: 387ms\tremaining: 376ms\n",
      "507:\tlearn: 48.0631542\ttotal: 388ms\tremaining: 375ms\n",
      "508:\tlearn: 47.8591880\ttotal: 388ms\tremaining: 375ms\n",
      "509:\tlearn: 47.7182444\ttotal: 389ms\tremaining: 374ms\n",
      "510:\tlearn: 47.6301870\ttotal: 390ms\tremaining: 373ms\n",
      "511:\tlearn: 47.4767324\ttotal: 391ms\tremaining: 372ms\n",
      "512:\tlearn: 47.2822625\ttotal: 391ms\tremaining: 372ms\n",
      "513:\tlearn: 47.1022658\ttotal: 392ms\tremaining: 371ms\n",
      "514:\tlearn: 47.0536181\ttotal: 393ms\tremaining: 370ms\n",
      "515:\tlearn: 47.0249559\ttotal: 394ms\tremaining: 369ms\n",
      "516:\tlearn: 46.8789720\ttotal: 394ms\tremaining: 368ms\n",
      "517:\tlearn: 46.7133769\ttotal: 395ms\tremaining: 368ms\n",
      "518:\tlearn: 46.5157986\ttotal: 396ms\tremaining: 367ms\n",
      "519:\tlearn: 46.3630405\ttotal: 396ms\tremaining: 366ms\n",
      "520:\tlearn: 46.1730188\ttotal: 397ms\tremaining: 365ms\n",
      "521:\tlearn: 46.1360908\ttotal: 398ms\tremaining: 364ms\n",
      "522:\tlearn: 45.9652487\ttotal: 399ms\tremaining: 364ms\n",
      "523:\tlearn: 45.8122703\ttotal: 399ms\tremaining: 363ms\n",
      "524:\tlearn: 45.4984451\ttotal: 400ms\tremaining: 362ms\n",
      "525:\tlearn: 45.3161076\ttotal: 401ms\tremaining: 361ms\n",
      "526:\tlearn: 45.2802854\ttotal: 402ms\tremaining: 360ms\n",
      "527:\tlearn: 45.2448275\ttotal: 402ms\tremaining: 360ms\n",
      "528:\tlearn: 45.0816321\ttotal: 403ms\tremaining: 359ms\n",
      "529:\tlearn: 44.9794319\ttotal: 404ms\tremaining: 358ms\n",
      "530:\tlearn: 44.6832140\ttotal: 404ms\tremaining: 357ms\n",
      "531:\tlearn: 44.4460046\ttotal: 405ms\tremaining: 356ms\n",
      "532:\tlearn: 44.2118287\ttotal: 406ms\tremaining: 356ms\n",
      "533:\tlearn: 44.0693524\ttotal: 407ms\tremaining: 355ms\n",
      "534:\tlearn: 43.7781614\ttotal: 407ms\tremaining: 354ms\n",
      "535:\tlearn: 43.5541731\ttotal: 408ms\tremaining: 353ms\n",
      "536:\tlearn: 43.5134866\ttotal: 409ms\tremaining: 352ms\n",
      "537:\tlearn: 43.3609810\ttotal: 409ms\tremaining: 352ms\n",
      "538:\tlearn: 43.1828364\ttotal: 410ms\tremaining: 351ms\n",
      "539:\tlearn: 43.1681810\ttotal: 410ms\tremaining: 350ms\n",
      "540:\tlearn: 43.0597548\ttotal: 411ms\tremaining: 349ms\n",
      "541:\tlearn: 43.0399237\ttotal: 412ms\tremaining: 348ms\n",
      "542:\tlearn: 42.7955247\ttotal: 413ms\tremaining: 347ms\n",
      "543:\tlearn: 42.5339065\ttotal: 413ms\tremaining: 347ms\n",
      "544:\tlearn: 42.4295635\ttotal: 414ms\tremaining: 346ms\n",
      "545:\tlearn: 42.2338376\ttotal: 415ms\tremaining: 345ms\n",
      "546:\tlearn: 42.0124060\ttotal: 416ms\tremaining: 344ms\n",
      "547:\tlearn: 41.8255183\ttotal: 416ms\tremaining: 343ms\n",
      "548:\tlearn: 41.6388681\ttotal: 417ms\tremaining: 343ms\n",
      "549:\tlearn: 41.4001270\ttotal: 418ms\tremaining: 342ms\n",
      "550:\tlearn: 41.1013528\ttotal: 419ms\tremaining: 341ms\n",
      "551:\tlearn: 41.0100295\ttotal: 419ms\tremaining: 340ms\n",
      "552:\tlearn: 40.9906076\ttotal: 420ms\tremaining: 339ms\n",
      "553:\tlearn: 40.8809109\ttotal: 421ms\tremaining: 339ms\n",
      "554:\tlearn: 40.7831302\ttotal: 421ms\tremaining: 338ms\n",
      "555:\tlearn: 40.7317763\ttotal: 422ms\tremaining: 337ms\n",
      "556:\tlearn: 40.6321710\ttotal: 423ms\tremaining: 336ms\n",
      "557:\tlearn: 40.4475073\ttotal: 423ms\tremaining: 335ms\n",
      "558:\tlearn: 40.2859957\ttotal: 424ms\tremaining: 335ms\n",
      "559:\tlearn: 40.0262057\ttotal: 425ms\tremaining: 334ms\n",
      "560:\tlearn: 39.9326350\ttotal: 426ms\tremaining: 333ms\n",
      "561:\tlearn: 39.8735956\ttotal: 426ms\tremaining: 332ms\n",
      "562:\tlearn: 39.7083019\ttotal: 427ms\tremaining: 332ms\n",
      "563:\tlearn: 39.5379855\ttotal: 428ms\tremaining: 331ms\n",
      "564:\tlearn: 39.3451301\ttotal: 429ms\tremaining: 330ms\n",
      "565:\tlearn: 39.2041273\ttotal: 429ms\tremaining: 329ms\n",
      "566:\tlearn: 38.9870162\ttotal: 430ms\tremaining: 328ms\n",
      "567:\tlearn: 38.8638040\ttotal: 431ms\tremaining: 328ms\n",
      "568:\tlearn: 38.7752116\ttotal: 432ms\tremaining: 327ms\n",
      "569:\tlearn: 38.6530297\ttotal: 432ms\tremaining: 326ms\n",
      "570:\tlearn: 38.5505372\ttotal: 433ms\tremaining: 325ms\n",
      "571:\tlearn: 38.5134486\ttotal: 434ms\tremaining: 325ms\n",
      "572:\tlearn: 38.3680902\ttotal: 434ms\tremaining: 324ms\n",
      "573:\tlearn: 38.1897295\ttotal: 435ms\tremaining: 323ms\n",
      "574:\tlearn: 38.1083536\ttotal: 436ms\tremaining: 322ms\n",
      "575:\tlearn: 37.9229216\ttotal: 437ms\tremaining: 321ms\n",
      "576:\tlearn: 37.8377087\ttotal: 437ms\tremaining: 321ms\n",
      "577:\tlearn: 37.7966900\ttotal: 438ms\tremaining: 320ms\n",
      "578:\tlearn: 37.6700761\ttotal: 439ms\tremaining: 319ms\n",
      "579:\tlearn: 37.6355177\ttotal: 440ms\tremaining: 318ms\n",
      "580:\tlearn: 37.4648199\ttotal: 441ms\tremaining: 318ms\n",
      "581:\tlearn: 37.2959505\ttotal: 442ms\tremaining: 317ms\n",
      "582:\tlearn: 37.1423961\ttotal: 442ms\tremaining: 316ms\n",
      "583:\tlearn: 36.9297315\ttotal: 443ms\tremaining: 316ms\n",
      "584:\tlearn: 36.8850382\ttotal: 444ms\tremaining: 315ms\n",
      "585:\tlearn: 36.7546519\ttotal: 444ms\tremaining: 314ms\n",
      "586:\tlearn: 36.7377554\ttotal: 445ms\tremaining: 313ms\n",
      "587:\tlearn: 36.6899102\ttotal: 446ms\tremaining: 312ms\n",
      "588:\tlearn: 36.5617094\ttotal: 447ms\tremaining: 312ms\n",
      "589:\tlearn: 36.4272921\ttotal: 447ms\tremaining: 311ms\n",
      "590:\tlearn: 36.2657889\ttotal: 448ms\tremaining: 310ms\n",
      "591:\tlearn: 36.2539345\ttotal: 449ms\tremaining: 309ms\n",
      "592:\tlearn: 36.2314399\ttotal: 449ms\tremaining: 308ms\n",
      "593:\tlearn: 36.0683824\ttotal: 450ms\tremaining: 308ms\n",
      "594:\tlearn: 35.9283095\ttotal: 451ms\tremaining: 307ms\n",
      "595:\tlearn: 35.7968288\ttotal: 451ms\tremaining: 306ms\n",
      "596:\tlearn: 35.7223423\ttotal: 452ms\tremaining: 305ms\n",
      "597:\tlearn: 35.5848854\ttotal: 453ms\tremaining: 305ms\n",
      "598:\tlearn: 35.4754344\ttotal: 454ms\tremaining: 304ms\n",
      "599:\tlearn: 35.3533890\ttotal: 455ms\tremaining: 303ms\n",
      "600:\tlearn: 35.2201505\ttotal: 455ms\tremaining: 302ms\n",
      "601:\tlearn: 35.0873272\ttotal: 456ms\tremaining: 302ms\n",
      "602:\tlearn: 35.0461873\ttotal: 457ms\tremaining: 301ms\n",
      "603:\tlearn: 34.9273071\ttotal: 458ms\tremaining: 300ms\n",
      "604:\tlearn: 34.8162855\ttotal: 458ms\tremaining: 299ms\n",
      "605:\tlearn: 34.7130059\ttotal: 459ms\tremaining: 299ms\n",
      "606:\tlearn: 34.5585617\ttotal: 460ms\tremaining: 298ms\n",
      "607:\tlearn: 34.4611907\ttotal: 461ms\tremaining: 297ms\n",
      "608:\tlearn: 34.4326546\ttotal: 462ms\tremaining: 296ms\n",
      "609:\tlearn: 34.2846979\ttotal: 462ms\tremaining: 296ms\n",
      "610:\tlearn: 34.1734501\ttotal: 463ms\tremaining: 295ms\n",
      "611:\tlearn: 34.0230965\ttotal: 464ms\tremaining: 294ms\n",
      "612:\tlearn: 33.8282501\ttotal: 465ms\tremaining: 293ms\n",
      "613:\tlearn: 33.7746747\ttotal: 465ms\tremaining: 293ms\n",
      "614:\tlearn: 33.7068386\ttotal: 466ms\tremaining: 292ms\n",
      "615:\tlearn: 33.5780800\ttotal: 467ms\tremaining: 291ms\n",
      "616:\tlearn: 33.4695325\ttotal: 468ms\tremaining: 290ms\n",
      "617:\tlearn: 33.3463443\ttotal: 469ms\tremaining: 290ms\n",
      "618:\tlearn: 33.2877395\ttotal: 469ms\tremaining: 289ms\n",
      "619:\tlearn: 33.2418826\ttotal: 470ms\tremaining: 288ms\n",
      "620:\tlearn: 33.1045465\ttotal: 471ms\tremaining: 287ms\n",
      "621:\tlearn: 32.9400639\ttotal: 472ms\tremaining: 287ms\n",
      "622:\tlearn: 32.8996970\ttotal: 472ms\tremaining: 286ms\n",
      "623:\tlearn: 32.7429487\ttotal: 473ms\tremaining: 285ms\n",
      "624:\tlearn: 32.6132355\ttotal: 474ms\tremaining: 284ms\n",
      "625:\tlearn: 32.4714976\ttotal: 475ms\tremaining: 284ms\n",
      "626:\tlearn: 32.4320448\ttotal: 476ms\tremaining: 283ms\n",
      "627:\tlearn: 32.2628258\ttotal: 476ms\tremaining: 282ms\n",
      "628:\tlearn: 32.2038569\ttotal: 477ms\tremaining: 281ms\n",
      "629:\tlearn: 32.0940738\ttotal: 478ms\tremaining: 281ms\n",
      "630:\tlearn: 32.0068495\ttotal: 479ms\tremaining: 280ms\n",
      "631:\tlearn: 31.9053748\ttotal: 480ms\tremaining: 279ms\n",
      "632:\tlearn: 31.7715772\ttotal: 480ms\tremaining: 278ms\n",
      "633:\tlearn: 31.6687835\ttotal: 481ms\tremaining: 278ms\n",
      "634:\tlearn: 31.6368050\ttotal: 482ms\tremaining: 277ms\n",
      "635:\tlearn: 31.5709628\ttotal: 483ms\tremaining: 276ms\n",
      "636:\tlearn: 31.4052213\ttotal: 484ms\tremaining: 276ms\n",
      "637:\tlearn: 31.2452229\ttotal: 484ms\tremaining: 275ms\n",
      "638:\tlearn: 31.1221828\ttotal: 485ms\tremaining: 274ms\n",
      "639:\tlearn: 31.0853500\ttotal: 486ms\tremaining: 273ms\n",
      "640:\tlearn: 30.9167355\ttotal: 487ms\tremaining: 273ms\n",
      "641:\tlearn: 30.8667253\ttotal: 488ms\tremaining: 272ms\n",
      "642:\tlearn: 30.7427129\ttotal: 488ms\tremaining: 271ms\n",
      "643:\tlearn: 30.5748228\ttotal: 489ms\tremaining: 270ms\n",
      "644:\tlearn: 30.5080592\ttotal: 490ms\tremaining: 270ms\n",
      "645:\tlearn: 30.3444228\ttotal: 491ms\tremaining: 269ms\n",
      "646:\tlearn: 30.1858385\ttotal: 492ms\tremaining: 268ms\n",
      "647:\tlearn: 30.1481951\ttotal: 492ms\tremaining: 267ms\n",
      "648:\tlearn: 30.1139150\ttotal: 493ms\tremaining: 267ms\n",
      "649:\tlearn: 30.0147177\ttotal: 494ms\tremaining: 266ms\n",
      "650:\tlearn: 29.8610501\ttotal: 495ms\tremaining: 265ms\n",
      "651:\tlearn: 29.7793561\ttotal: 496ms\tremaining: 265ms\n",
      "652:\tlearn: 29.6870188\ttotal: 497ms\tremaining: 264ms\n",
      "653:\tlearn: 29.6229921\ttotal: 498ms\tremaining: 263ms\n",
      "654:\tlearn: 29.5806823\ttotal: 499ms\tremaining: 263ms\n",
      "655:\tlearn: 29.4903496\ttotal: 499ms\tremaining: 262ms\n",
      "656:\tlearn: 29.4011642\ttotal: 500ms\tremaining: 261ms\n",
      "657:\tlearn: 29.3880977\ttotal: 501ms\tremaining: 260ms\n",
      "658:\tlearn: 29.2615919\ttotal: 502ms\tremaining: 260ms\n",
      "659:\tlearn: 29.1004727\ttotal: 503ms\tremaining: 259ms\n",
      "660:\tlearn: 29.0530692\ttotal: 503ms\tremaining: 258ms\n",
      "661:\tlearn: 28.9863628\ttotal: 504ms\tremaining: 257ms\n",
      "662:\tlearn: 28.8714304\ttotal: 505ms\tremaining: 257ms\n",
      "663:\tlearn: 28.7331979\ttotal: 506ms\tremaining: 256ms\n",
      "664:\tlearn: 28.6366801\ttotal: 507ms\tremaining: 255ms\n",
      "665:\tlearn: 28.5716341\ttotal: 508ms\tremaining: 255ms\n",
      "666:\tlearn: 28.4974876\ttotal: 508ms\tremaining: 254ms\n",
      "667:\tlearn: 28.4112710\ttotal: 509ms\tremaining: 253ms\n",
      "668:\tlearn: 28.2984651\ttotal: 510ms\tremaining: 252ms\n",
      "669:\tlearn: 28.1339510\ttotal: 511ms\tremaining: 252ms\n",
      "670:\tlearn: 28.1075789\ttotal: 511ms\tremaining: 251ms\n",
      "671:\tlearn: 28.0922293\ttotal: 512ms\tremaining: 250ms\n",
      "672:\tlearn: 27.9723760\ttotal: 513ms\tremaining: 249ms\n",
      "673:\tlearn: 27.9055283\ttotal: 514ms\tremaining: 249ms\n",
      "674:\tlearn: 27.8205243\ttotal: 515ms\tremaining: 248ms\n",
      "675:\tlearn: 27.8084834\ttotal: 515ms\tremaining: 247ms\n",
      "676:\tlearn: 27.7891840\ttotal: 516ms\tremaining: 246ms\n",
      "677:\tlearn: 27.6730952\ttotal: 517ms\tremaining: 246ms\n",
      "678:\tlearn: 27.6094279\ttotal: 518ms\tremaining: 245ms\n",
      "679:\tlearn: 27.5709406\ttotal: 519ms\tremaining: 244ms\n",
      "680:\tlearn: 27.5062932\ttotal: 519ms\tremaining: 243ms\n",
      "681:\tlearn: 27.4149358\ttotal: 520ms\tremaining: 243ms\n",
      "682:\tlearn: 27.3480578\ttotal: 521ms\tremaining: 242ms\n",
      "683:\tlearn: 27.2546632\ttotal: 522ms\tremaining: 241ms\n",
      "684:\tlearn: 27.1581242\ttotal: 523ms\tremaining: 240ms\n",
      "685:\tlearn: 27.1291330\ttotal: 523ms\tremaining: 240ms\n",
      "686:\tlearn: 27.0589760\ttotal: 524ms\tremaining: 239ms\n",
      "687:\tlearn: 26.9207571\ttotal: 525ms\tremaining: 238ms\n",
      "688:\tlearn: 26.8046340\ttotal: 526ms\tremaining: 237ms\n",
      "689:\tlearn: 26.7346039\ttotal: 527ms\tremaining: 237ms\n",
      "690:\tlearn: 26.6359238\ttotal: 527ms\tremaining: 236ms\n",
      "691:\tlearn: 26.5458163\ttotal: 528ms\tremaining: 235ms\n",
      "692:\tlearn: 26.5287024\ttotal: 529ms\tremaining: 234ms\n",
      "693:\tlearn: 26.4436127\ttotal: 530ms\tremaining: 234ms\n",
      "694:\tlearn: 26.3860996\ttotal: 531ms\tremaining: 233ms\n",
      "695:\tlearn: 26.3271824\ttotal: 532ms\tremaining: 232ms\n",
      "696:\tlearn: 26.1929180\ttotal: 532ms\tremaining: 231ms\n",
      "697:\tlearn: 26.0989501\ttotal: 533ms\tremaining: 231ms\n",
      "698:\tlearn: 26.0348052\ttotal: 534ms\tremaining: 230ms\n",
      "699:\tlearn: 25.9715846\ttotal: 535ms\tremaining: 229ms\n",
      "700:\tlearn: 25.8624783\ttotal: 536ms\tremaining: 229ms\n",
      "701:\tlearn: 25.8020332\ttotal: 537ms\tremaining: 228ms\n",
      "702:\tlearn: 25.7940141\ttotal: 537ms\tremaining: 227ms\n",
      "703:\tlearn: 25.6937173\ttotal: 538ms\tremaining: 226ms\n",
      "704:\tlearn: 25.6133995\ttotal: 539ms\tremaining: 225ms\n",
      "705:\tlearn: 25.5272559\ttotal: 540ms\tremaining: 225ms\n",
      "706:\tlearn: 25.5087600\ttotal: 540ms\tremaining: 224ms\n",
      "707:\tlearn: 25.3506858\ttotal: 541ms\tremaining: 223ms\n",
      "708:\tlearn: 25.3314352\ttotal: 542ms\tremaining: 223ms\n",
      "709:\tlearn: 25.3263712\ttotal: 543ms\tremaining: 222ms\n",
      "710:\tlearn: 25.2377772\ttotal: 543ms\tremaining: 221ms\n",
      "711:\tlearn: 25.1296003\ttotal: 544ms\tremaining: 220ms\n",
      "712:\tlearn: 25.1138661\ttotal: 545ms\tremaining: 219ms\n",
      "713:\tlearn: 25.0606164\ttotal: 546ms\tremaining: 219ms\n",
      "714:\tlearn: 24.9701122\ttotal: 547ms\tremaining: 218ms\n",
      "715:\tlearn: 24.9266980\ttotal: 547ms\tremaining: 217ms\n",
      "716:\tlearn: 24.8355245\ttotal: 548ms\tremaining: 216ms\n",
      "717:\tlearn: 24.7892595\ttotal: 549ms\tremaining: 216ms\n",
      "718:\tlearn: 24.7784156\ttotal: 550ms\tremaining: 215ms\n",
      "719:\tlearn: 24.7204068\ttotal: 551ms\tremaining: 214ms\n",
      "720:\tlearn: 24.6868946\ttotal: 551ms\tremaining: 213ms\n",
      "721:\tlearn: 24.5835248\ttotal: 552ms\tremaining: 213ms\n",
      "722:\tlearn: 24.4605667\ttotal: 553ms\tremaining: 212ms\n",
      "723:\tlearn: 24.3780491\ttotal: 554ms\tremaining: 211ms\n",
      "724:\tlearn: 24.3695387\ttotal: 555ms\tremaining: 210ms\n",
      "725:\tlearn: 24.2713928\ttotal: 555ms\tremaining: 210ms\n",
      "726:\tlearn: 24.2564573\ttotal: 556ms\tremaining: 209ms\n",
      "727:\tlearn: 24.1259045\ttotal: 557ms\tremaining: 208ms\n",
      "728:\tlearn: 24.0410925\ttotal: 558ms\tremaining: 207ms\n",
      "729:\tlearn: 23.9454740\ttotal: 559ms\tremaining: 207ms\n",
      "730:\tlearn: 23.9293944\ttotal: 559ms\tremaining: 206ms\n",
      "731:\tlearn: 23.8408373\ttotal: 560ms\tremaining: 205ms\n",
      "732:\tlearn: 23.7301307\ttotal: 561ms\tremaining: 204ms\n",
      "733:\tlearn: 23.6751178\ttotal: 562ms\tremaining: 204ms\n",
      "734:\tlearn: 23.5518474\ttotal: 563ms\tremaining: 203ms\n",
      "735:\tlearn: 23.5054838\ttotal: 563ms\tremaining: 202ms\n",
      "736:\tlearn: 23.4781040\ttotal: 564ms\tremaining: 201ms\n",
      "737:\tlearn: 23.3774725\ttotal: 565ms\tremaining: 201ms\n",
      "738:\tlearn: 23.3081022\ttotal: 566ms\tremaining: 200ms\n",
      "739:\tlearn: 23.2915892\ttotal: 566ms\tremaining: 199ms\n",
      "740:\tlearn: 23.2095735\ttotal: 567ms\tremaining: 198ms\n",
      "741:\tlearn: 23.1588315\ttotal: 568ms\tremaining: 198ms\n",
      "742:\tlearn: 23.1197993\ttotal: 569ms\tremaining: 197ms\n",
      "743:\tlearn: 23.0327780\ttotal: 570ms\tremaining: 196ms\n",
      "744:\tlearn: 22.9759480\ttotal: 570ms\tremaining: 195ms\n",
      "745:\tlearn: 22.8751423\ttotal: 571ms\tremaining: 194ms\n",
      "746:\tlearn: 22.7768127\ttotal: 572ms\tremaining: 194ms\n",
      "747:\tlearn: 22.6474970\ttotal: 573ms\tremaining: 193ms\n",
      "748:\tlearn: 22.5780525\ttotal: 574ms\tremaining: 192ms\n",
      "749:\tlearn: 22.5338308\ttotal: 574ms\tremaining: 191ms\n",
      "750:\tlearn: 22.4330276\ttotal: 575ms\tremaining: 191ms\n",
      "751:\tlearn: 22.4193891\ttotal: 576ms\tremaining: 190ms\n",
      "752:\tlearn: 22.4093040\ttotal: 577ms\tremaining: 189ms\n",
      "753:\tlearn: 22.3758979\ttotal: 577ms\tremaining: 188ms\n",
      "754:\tlearn: 22.3560173\ttotal: 578ms\tremaining: 188ms\n",
      "755:\tlearn: 22.3264261\ttotal: 579ms\tremaining: 187ms\n",
      "756:\tlearn: 22.2796605\ttotal: 580ms\tremaining: 186ms\n",
      "757:\tlearn: 22.2253439\ttotal: 581ms\tremaining: 185ms\n",
      "758:\tlearn: 22.1636409\ttotal: 582ms\tremaining: 185ms\n",
      "759:\tlearn: 22.1078491\ttotal: 582ms\tremaining: 184ms\n",
      "760:\tlearn: 22.0275756\ttotal: 583ms\tremaining: 183ms\n",
      "761:\tlearn: 22.0174143\ttotal: 584ms\tremaining: 182ms\n",
      "762:\tlearn: 21.9887391\ttotal: 585ms\tremaining: 182ms\n",
      "763:\tlearn: 21.9746733\ttotal: 586ms\tremaining: 181ms\n",
      "764:\tlearn: 21.9529216\ttotal: 586ms\tremaining: 180ms\n",
      "765:\tlearn: 21.8767644\ttotal: 587ms\tremaining: 179ms\n",
      "766:\tlearn: 21.8668039\ttotal: 588ms\tremaining: 179ms\n",
      "767:\tlearn: 21.8008688\ttotal: 589ms\tremaining: 178ms\n",
      "768:\tlearn: 21.7612208\ttotal: 589ms\tremaining: 177ms\n",
      "769:\tlearn: 21.6977978\ttotal: 590ms\tremaining: 176ms\n",
      "770:\tlearn: 21.6870461\ttotal: 591ms\tremaining: 176ms\n",
      "771:\tlearn: 21.6599780\ttotal: 592ms\tremaining: 175ms\n",
      "772:\tlearn: 21.5522064\ttotal: 593ms\tremaining: 174ms\n",
      "773:\tlearn: 21.5426327\ttotal: 593ms\tremaining: 173ms\n",
      "774:\tlearn: 21.4391089\ttotal: 594ms\tremaining: 173ms\n",
      "775:\tlearn: 21.4042993\ttotal: 595ms\tremaining: 172ms\n",
      "776:\tlearn: 21.3284836\ttotal: 596ms\tremaining: 171ms\n",
      "777:\tlearn: 21.3163774\ttotal: 597ms\tremaining: 170ms\n",
      "778:\tlearn: 21.2708416\ttotal: 598ms\tremaining: 170ms\n",
      "779:\tlearn: 21.2056943\ttotal: 598ms\tremaining: 169ms\n",
      "780:\tlearn: 21.1434774\ttotal: 599ms\tremaining: 168ms\n",
      "781:\tlearn: 21.0672473\ttotal: 600ms\tremaining: 167ms\n",
      "782:\tlearn: 20.9629645\ttotal: 601ms\tremaining: 166ms\n",
      "783:\tlearn: 20.9522537\ttotal: 601ms\tremaining: 166ms\n",
      "784:\tlearn: 20.9252425\ttotal: 602ms\tremaining: 165ms\n",
      "785:\tlearn: 20.8576799\ttotal: 603ms\tremaining: 164ms\n",
      "786:\tlearn: 20.7922970\ttotal: 604ms\tremaining: 163ms\n",
      "787:\tlearn: 20.7802134\ttotal: 605ms\tremaining: 163ms\n",
      "788:\tlearn: 20.7125213\ttotal: 605ms\tremaining: 162ms\n",
      "789:\tlearn: 20.7000005\ttotal: 606ms\tremaining: 161ms\n",
      "790:\tlearn: 20.6366378\ttotal: 607ms\tremaining: 160ms\n",
      "791:\tlearn: 20.6170923\ttotal: 608ms\tremaining: 160ms\n",
      "792:\tlearn: 20.5485950\ttotal: 609ms\tremaining: 159ms\n",
      "793:\tlearn: 20.5212323\ttotal: 610ms\tremaining: 158ms\n",
      "794:\tlearn: 20.5004347\ttotal: 611ms\tremaining: 157ms\n",
      "795:\tlearn: 20.4884649\ttotal: 612ms\tremaining: 157ms\n",
      "796:\tlearn: 20.3727007\ttotal: 612ms\tremaining: 156ms\n",
      "797:\tlearn: 20.2776166\ttotal: 613ms\tremaining: 155ms\n",
      "798:\tlearn: 20.2690965\ttotal: 614ms\tremaining: 154ms\n",
      "799:\tlearn: 20.2166634\ttotal: 615ms\tremaining: 154ms\n",
      "800:\tlearn: 20.1160179\ttotal: 615ms\tremaining: 153ms\n",
      "801:\tlearn: 20.0642268\ttotal: 616ms\tremaining: 152ms\n",
      "802:\tlearn: 20.0323601\ttotal: 617ms\tremaining: 151ms\n",
      "803:\tlearn: 19.9485334\ttotal: 618ms\tremaining: 151ms\n",
      "804:\tlearn: 19.9071725\ttotal: 619ms\tremaining: 150ms\n",
      "805:\tlearn: 19.8943564\ttotal: 619ms\tremaining: 149ms\n",
      "806:\tlearn: 19.7804687\ttotal: 620ms\tremaining: 148ms\n",
      "807:\tlearn: 19.7343406\ttotal: 621ms\tremaining: 148ms\n",
      "808:\tlearn: 19.6963930\ttotal: 622ms\tremaining: 147ms\n",
      "809:\tlearn: 19.6705675\ttotal: 623ms\tremaining: 146ms\n",
      "810:\tlearn: 19.6382933\ttotal: 623ms\tremaining: 145ms\n",
      "811:\tlearn: 19.5889191\ttotal: 624ms\tremaining: 144ms\n",
      "812:\tlearn: 19.5638487\ttotal: 625ms\tremaining: 144ms\n",
      "813:\tlearn: 19.4926424\ttotal: 626ms\tremaining: 143ms\n",
      "814:\tlearn: 19.3961396\ttotal: 626ms\tremaining: 142ms\n",
      "815:\tlearn: 19.3880242\ttotal: 627ms\tremaining: 141ms\n",
      "816:\tlearn: 19.2808372\ttotal: 628ms\tremaining: 141ms\n",
      "817:\tlearn: 19.1712815\ttotal: 629ms\tremaining: 140ms\n",
      "818:\tlearn: 19.0909823\ttotal: 630ms\tremaining: 139ms\n",
      "819:\tlearn: 18.9993504\ttotal: 630ms\tremaining: 138ms\n",
      "820:\tlearn: 18.9773399\ttotal: 631ms\tremaining: 138ms\n",
      "821:\tlearn: 18.8989735\ttotal: 632ms\tremaining: 137ms\n",
      "822:\tlearn: 18.8275176\ttotal: 633ms\tremaining: 136ms\n",
      "823:\tlearn: 18.8092278\ttotal: 634ms\tremaining: 135ms\n",
      "824:\tlearn: 18.7938447\ttotal: 635ms\tremaining: 135ms\n",
      "825:\tlearn: 18.7871267\ttotal: 635ms\tremaining: 134ms\n",
      "826:\tlearn: 18.7299674\ttotal: 636ms\tremaining: 133ms\n",
      "827:\tlearn: 18.6808264\ttotal: 637ms\tremaining: 132ms\n",
      "828:\tlearn: 18.5984875\ttotal: 638ms\tremaining: 132ms\n",
      "829:\tlearn: 18.5170088\ttotal: 638ms\tremaining: 131ms\n",
      "830:\tlearn: 18.4707382\ttotal: 639ms\tremaining: 130ms\n",
      "831:\tlearn: 18.4368619\ttotal: 640ms\tremaining: 129ms\n",
      "832:\tlearn: 18.3683191\ttotal: 641ms\tremaining: 128ms\n",
      "833:\tlearn: 18.3295058\ttotal: 642ms\tremaining: 128ms\n",
      "834:\tlearn: 18.2587263\ttotal: 642ms\tremaining: 127ms\n",
      "835:\tlearn: 18.2103679\ttotal: 643ms\tremaining: 126ms\n",
      "836:\tlearn: 18.1781032\ttotal: 644ms\tremaining: 125ms\n",
      "837:\tlearn: 18.0746921\ttotal: 645ms\tremaining: 125ms\n",
      "838:\tlearn: 18.0131984\ttotal: 645ms\tremaining: 124ms\n",
      "839:\tlearn: 17.9510877\ttotal: 646ms\tremaining: 123ms\n",
      "840:\tlearn: 17.8893536\ttotal: 647ms\tremaining: 122ms\n",
      "841:\tlearn: 17.8813583\ttotal: 648ms\tremaining: 122ms\n",
      "842:\tlearn: 17.8129857\ttotal: 648ms\tremaining: 121ms\n",
      "843:\tlearn: 17.7981202\ttotal: 649ms\tremaining: 120ms\n",
      "844:\tlearn: 17.7414627\ttotal: 650ms\tremaining: 119ms\n",
      "845:\tlearn: 17.7255534\ttotal: 651ms\tremaining: 118ms\n",
      "846:\tlearn: 17.6965545\ttotal: 652ms\tremaining: 118ms\n",
      "847:\tlearn: 17.6499397\ttotal: 653ms\tremaining: 117ms\n",
      "848:\tlearn: 17.6133852\ttotal: 653ms\tremaining: 116ms\n",
      "849:\tlearn: 17.5621620\ttotal: 654ms\tremaining: 115ms\n",
      "850:\tlearn: 17.5064049\ttotal: 655ms\tremaining: 115ms\n",
      "851:\tlearn: 17.4643467\ttotal: 655ms\tremaining: 114ms\n",
      "852:\tlearn: 17.4569544\ttotal: 656ms\tremaining: 113ms\n",
      "853:\tlearn: 17.3731897\ttotal: 657ms\tremaining: 112ms\n",
      "854:\tlearn: 17.3313609\ttotal: 658ms\tremaining: 112ms\n",
      "855:\tlearn: 17.2781582\ttotal: 659ms\tremaining: 111ms\n",
      "856:\tlearn: 17.2283433\ttotal: 660ms\tremaining: 110ms\n",
      "857:\tlearn: 17.1944614\ttotal: 660ms\tremaining: 109ms\n",
      "858:\tlearn: 17.1573393\ttotal: 661ms\tremaining: 109ms\n",
      "859:\tlearn: 17.0975067\ttotal: 662ms\tremaining: 108ms\n",
      "860:\tlearn: 17.0462043\ttotal: 663ms\tremaining: 107ms\n",
      "861:\tlearn: 17.0118805\ttotal: 664ms\tremaining: 106ms\n",
      "862:\tlearn: 17.0045195\ttotal: 665ms\tremaining: 106ms\n",
      "863:\tlearn: 16.9528999\ttotal: 666ms\tremaining: 105ms\n",
      "864:\tlearn: 16.9270632\ttotal: 666ms\tremaining: 104ms\n",
      "865:\tlearn: 16.8915252\ttotal: 667ms\tremaining: 103ms\n",
      "866:\tlearn: 16.7946576\ttotal: 668ms\tremaining: 102ms\n",
      "867:\tlearn: 16.7737222\ttotal: 669ms\tremaining: 102ms\n",
      "868:\tlearn: 16.7192509\ttotal: 669ms\tremaining: 101ms\n",
      "869:\tlearn: 16.7138388\ttotal: 670ms\tremaining: 100ms\n",
      "870:\tlearn: 16.6877768\ttotal: 671ms\tremaining: 99.3ms\n",
      "871:\tlearn: 16.6265748\ttotal: 672ms\tremaining: 98.6ms\n",
      "872:\tlearn: 16.5641199\ttotal: 672ms\tremaining: 97.8ms\n",
      "873:\tlearn: 16.4935111\ttotal: 673ms\tremaining: 97ms\n",
      "874:\tlearn: 16.4250863\ttotal: 674ms\tremaining: 96.3ms\n",
      "875:\tlearn: 16.3566947\ttotal: 675ms\tremaining: 95.5ms\n",
      "876:\tlearn: 16.2731185\ttotal: 675ms\tremaining: 94.7ms\n",
      "877:\tlearn: 16.2207923\ttotal: 676ms\tremaining: 93.9ms\n",
      "878:\tlearn: 16.2073108\ttotal: 677ms\tremaining: 93.2ms\n",
      "879:\tlearn: 16.1336576\ttotal: 678ms\tremaining: 92.4ms\n",
      "880:\tlearn: 16.0994139\ttotal: 678ms\tremaining: 91.6ms\n",
      "881:\tlearn: 16.0720217\ttotal: 679ms\tremaining: 90.8ms\n",
      "882:\tlearn: 16.0192163\ttotal: 680ms\tremaining: 90.1ms\n",
      "883:\tlearn: 16.0021989\ttotal: 680ms\tremaining: 89.3ms\n",
      "884:\tlearn: 15.9003005\ttotal: 681ms\tremaining: 88.5ms\n",
      "885:\tlearn: 15.8685768\ttotal: 682ms\tremaining: 87.7ms\n",
      "886:\tlearn: 15.7757199\ttotal: 683ms\tremaining: 87ms\n",
      "887:\tlearn: 15.7280015\ttotal: 683ms\tremaining: 86.2ms\n",
      "888:\tlearn: 15.7037867\ttotal: 684ms\tremaining: 85.4ms\n",
      "889:\tlearn: 15.6876254\ttotal: 685ms\tremaining: 84.6ms\n",
      "890:\tlearn: 15.6002589\ttotal: 686ms\tremaining: 83.9ms\n",
      "891:\tlearn: 15.5663914\ttotal: 686ms\tremaining: 83.1ms\n",
      "892:\tlearn: 15.4827503\ttotal: 687ms\tremaining: 82.3ms\n",
      "893:\tlearn: 15.4422647\ttotal: 688ms\tremaining: 81.6ms\n",
      "894:\tlearn: 15.4230904\ttotal: 689ms\tremaining: 80.8ms\n",
      "895:\tlearn: 15.3907978\ttotal: 689ms\tremaining: 80ms\n",
      "896:\tlearn: 15.3022423\ttotal: 690ms\tremaining: 79.3ms\n",
      "897:\tlearn: 15.2770800\ttotal: 691ms\tremaining: 78.5ms\n",
      "898:\tlearn: 15.2708396\ttotal: 692ms\tremaining: 77.7ms\n",
      "899:\tlearn: 15.2217814\ttotal: 692ms\tremaining: 76.9ms\n",
      "900:\tlearn: 15.2150872\ttotal: 693ms\tremaining: 76.2ms\n",
      "901:\tlearn: 15.1938758\ttotal: 694ms\tremaining: 75.4ms\n",
      "902:\tlearn: 15.1087389\ttotal: 695ms\tremaining: 74.6ms\n",
      "903:\tlearn: 15.0270836\ttotal: 695ms\tremaining: 73.8ms\n",
      "904:\tlearn: 14.9579009\ttotal: 696ms\tremaining: 73.1ms\n",
      "905:\tlearn: 14.9321713\ttotal: 697ms\tremaining: 72.3ms\n",
      "906:\tlearn: 14.9254894\ttotal: 698ms\tremaining: 71.5ms\n",
      "907:\tlearn: 14.8662999\ttotal: 698ms\tremaining: 70.8ms\n",
      "908:\tlearn: 14.7969088\ttotal: 699ms\tremaining: 70ms\n",
      "909:\tlearn: 14.7187437\ttotal: 700ms\tremaining: 69.2ms\n",
      "910:\tlearn: 14.6594229\ttotal: 701ms\tremaining: 68.4ms\n",
      "911:\tlearn: 14.6109629\ttotal: 701ms\tremaining: 67.7ms\n",
      "912:\tlearn: 14.5833869\ttotal: 702ms\tremaining: 66.9ms\n",
      "913:\tlearn: 14.5677206\ttotal: 703ms\tremaining: 66.1ms\n",
      "914:\tlearn: 14.5260964\ttotal: 703ms\tremaining: 65.4ms\n",
      "915:\tlearn: 14.4838792\ttotal: 704ms\tremaining: 64.6ms\n",
      "916:\tlearn: 14.4614097\ttotal: 705ms\tremaining: 63.8ms\n",
      "917:\tlearn: 14.4432212\ttotal: 706ms\tremaining: 63.1ms\n",
      "918:\tlearn: 14.4363977\ttotal: 707ms\tremaining: 62.3ms\n",
      "919:\tlearn: 14.3740822\ttotal: 707ms\tremaining: 61.5ms\n",
      "920:\tlearn: 14.3363459\ttotal: 708ms\tremaining: 60.7ms\n",
      "921:\tlearn: 14.2862425\ttotal: 709ms\tremaining: 60ms\n",
      "922:\tlearn: 14.2195191\ttotal: 710ms\tremaining: 59.2ms\n",
      "923:\tlearn: 14.1752422\ttotal: 710ms\tremaining: 58.4ms\n",
      "924:\tlearn: 14.1582897\ttotal: 711ms\tremaining: 57.7ms\n",
      "925:\tlearn: 14.0892518\ttotal: 712ms\tremaining: 56.9ms\n",
      "926:\tlearn: 14.0163904\ttotal: 713ms\tremaining: 56.1ms\n",
      "927:\tlearn: 13.9674906\ttotal: 713ms\tremaining: 55.3ms\n",
      "928:\tlearn: 13.9421041\ttotal: 714ms\tremaining: 54.6ms\n",
      "929:\tlearn: 13.9264108\ttotal: 715ms\tremaining: 53.8ms\n",
      "930:\tlearn: 13.8953443\ttotal: 716ms\tremaining: 53ms\n",
      "931:\tlearn: 13.8514821\ttotal: 716ms\tremaining: 52.3ms\n",
      "932:\tlearn: 13.8317730\ttotal: 717ms\tremaining: 51.5ms\n",
      "933:\tlearn: 13.7980615\ttotal: 718ms\tremaining: 50.7ms\n",
      "934:\tlearn: 13.7252551\ttotal: 718ms\tremaining: 49.9ms\n",
      "935:\tlearn: 13.6867475\ttotal: 719ms\tremaining: 49.2ms\n",
      "936:\tlearn: 13.6663164\ttotal: 720ms\tremaining: 48.4ms\n",
      "937:\tlearn: 13.6108173\ttotal: 721ms\tremaining: 47.6ms\n",
      "938:\tlearn: 13.5827380\ttotal: 721ms\tremaining: 46.9ms\n",
      "939:\tlearn: 13.5211246\ttotal: 722ms\tremaining: 46.1ms\n",
      "940:\tlearn: 13.4752089\ttotal: 723ms\tremaining: 45.3ms\n",
      "941:\tlearn: 13.4283115\ttotal: 723ms\tremaining: 44.5ms\n",
      "942:\tlearn: 13.3912327\ttotal: 724ms\tremaining: 43.8ms\n",
      "943:\tlearn: 13.3593766\ttotal: 725ms\tremaining: 43ms\n",
      "944:\tlearn: 13.3015250\ttotal: 725ms\tremaining: 42.2ms\n",
      "945:\tlearn: 13.2587480\ttotal: 726ms\tremaining: 41.5ms\n",
      "946:\tlearn: 13.1949436\ttotal: 727ms\tremaining: 40.7ms\n",
      "947:\tlearn: 13.1552441\ttotal: 728ms\tremaining: 39.9ms\n",
      "948:\tlearn: 13.0700947\ttotal: 728ms\tremaining: 39.1ms\n",
      "949:\tlearn: 13.0460884\ttotal: 729ms\tremaining: 38.4ms\n",
      "950:\tlearn: 13.0315972\ttotal: 730ms\tremaining: 37.6ms\n",
      "951:\tlearn: 12.9964111\ttotal: 731ms\tremaining: 36.8ms\n",
      "952:\tlearn: 12.9757139\ttotal: 731ms\tremaining: 36.1ms\n",
      "953:\tlearn: 12.9120533\ttotal: 732ms\tremaining: 35.3ms\n",
      "954:\tlearn: 12.8776679\ttotal: 733ms\tremaining: 34.5ms\n",
      "955:\tlearn: 12.8703243\ttotal: 733ms\tremaining: 33.8ms\n",
      "956:\tlearn: 12.8058615\ttotal: 734ms\tremaining: 33ms\n",
      "957:\tlearn: 12.7637381\ttotal: 735ms\tremaining: 32.2ms\n",
      "958:\tlearn: 12.7517063\ttotal: 736ms\tremaining: 31.5ms\n",
      "959:\tlearn: 12.7382108\ttotal: 736ms\tremaining: 30.7ms\n",
      "960:\tlearn: 12.6881713\ttotal: 737ms\tremaining: 29.9ms\n",
      "961:\tlearn: 12.6728317\ttotal: 738ms\tremaining: 29.1ms\n",
      "962:\tlearn: 12.6386609\ttotal: 739ms\tremaining: 28.4ms\n",
      "963:\tlearn: 12.5837642\ttotal: 739ms\tremaining: 27.6ms\n",
      "964:\tlearn: 12.5689789\ttotal: 740ms\tremaining: 26.8ms\n",
      "965:\tlearn: 12.5362136\ttotal: 741ms\tremaining: 26.1ms\n",
      "966:\tlearn: 12.5186020\ttotal: 742ms\tremaining: 25.3ms\n",
      "967:\tlearn: 12.4787889\ttotal: 742ms\tremaining: 24.5ms\n",
      "968:\tlearn: 12.4463866\ttotal: 743ms\tremaining: 23.8ms\n",
      "969:\tlearn: 12.3919484\ttotal: 744ms\tremaining: 23ms\n",
      "970:\tlearn: 12.3583173\ttotal: 744ms\tremaining: 22.2ms\n",
      "971:\tlearn: 12.3430204\ttotal: 745ms\tremaining: 21.5ms\n",
      "972:\tlearn: 12.3036135\ttotal: 746ms\tremaining: 20.7ms\n",
      "973:\tlearn: 12.2785886\ttotal: 747ms\tremaining: 19.9ms\n",
      "974:\tlearn: 12.2424148\ttotal: 747ms\tremaining: 19.2ms\n",
      "975:\tlearn: 12.2287225\ttotal: 748ms\tremaining: 18.4ms\n",
      "976:\tlearn: 12.1894056\ttotal: 749ms\tremaining: 17.6ms\n",
      "977:\tlearn: 12.1399699\ttotal: 750ms\tremaining: 16.9ms\n",
      "978:\tlearn: 12.1165698\ttotal: 750ms\tremaining: 16.1ms\n",
      "979:\tlearn: 12.1084930\ttotal: 751ms\tremaining: 15.3ms\n",
      "980:\tlearn: 12.1041455\ttotal: 752ms\tremaining: 14.6ms\n",
      "981:\tlearn: 12.0749440\ttotal: 752ms\tremaining: 13.8ms\n",
      "982:\tlearn: 12.0676323\ttotal: 753ms\tremaining: 13ms\n",
      "983:\tlearn: 12.0253491\ttotal: 754ms\tremaining: 12.3ms\n",
      "984:\tlearn: 11.9725269\ttotal: 755ms\tremaining: 11.5ms\n",
      "985:\tlearn: 11.9344239\ttotal: 755ms\tremaining: 10.7ms\n",
      "986:\tlearn: 11.8870660\ttotal: 756ms\tremaining: 9.96ms\n",
      "987:\tlearn: 11.8411099\ttotal: 757ms\tremaining: 9.19ms\n",
      "988:\tlearn: 11.7973602\ttotal: 757ms\tremaining: 8.42ms\n",
      "989:\tlearn: 11.7514376\ttotal: 758ms\tremaining: 7.66ms\n",
      "990:\tlearn: 11.7232746\ttotal: 759ms\tremaining: 6.89ms\n",
      "991:\tlearn: 11.6852796\ttotal: 760ms\tremaining: 6.13ms\n",
      "992:\tlearn: 11.6463794\ttotal: 760ms\tremaining: 5.36ms\n",
      "993:\tlearn: 11.6106308\ttotal: 761ms\tremaining: 4.59ms\n",
      "994:\tlearn: 11.5731961\ttotal: 762ms\tremaining: 3.83ms\n",
      "995:\tlearn: 11.5417359\ttotal: 762ms\tremaining: 3.06ms\n",
      "996:\tlearn: 11.5167117\ttotal: 763ms\tremaining: 2.3ms\n",
      "997:\tlearn: 11.4745232\ttotal: 764ms\tremaining: 1.53ms\n",
      "998:\tlearn: 11.4604481\ttotal: 765ms\tremaining: 765us\n",
      "999:\tlearn: 11.4510502\ttotal: 766ms\tremaining: 0us\n"
     ]
    }
   ],
   "source": [
    "catb_model = CatBoostRegressor().fit(X_train, y_train)"
   ]
  },
  {
   "cell_type": "code",
   "execution_count": 316,
   "id": "933788ec-f522-4899-8d02-25e0173b17e4",
   "metadata": {
    "collapsed": true,
    "jupyter": {
     "outputs_hidden": true
    },
    "tags": []
   },
   "outputs": [
    {
     "data": {
      "text/plain": [
       "['__class__',\n",
       " '__copy__',\n",
       " '__deepcopy__',\n",
       " '__delattr__',\n",
       " '__dict__',\n",
       " '__dir__',\n",
       " '__doc__',\n",
       " '__eq__',\n",
       " '__format__',\n",
       " '__ge__',\n",
       " '__getattribute__',\n",
       " '__getstate__',\n",
       " '__gt__',\n",
       " '__hash__',\n",
       " '__init__',\n",
       " '__init_subclass__',\n",
       " '__le__',\n",
       " '__lt__',\n",
       " '__module__',\n",
       " '__ne__',\n",
       " '__new__',\n",
       " '__reduce__',\n",
       " '__reduce_ex__',\n",
       " '__repr__',\n",
       " '__setattr__',\n",
       " '__setstate__',\n",
       " '__sizeof__',\n",
       " '__str__',\n",
       " '__subclasshook__',\n",
       " '__weakref__',\n",
       " '_base_calc_leaf_indexes',\n",
       " '_base_drop_unused_features',\n",
       " '_base_eval_metrics',\n",
       " '_base_predict',\n",
       " '_base_shrink',\n",
       " '_base_virtual_ensembles_predict',\n",
       " '_calc_fstr',\n",
       " '_calc_leaf_indexes',\n",
       " '_calc_ostr',\n",
       " '_check_is_compatible_loss',\n",
       " '_convert_to_asymmetric_representation',\n",
       " '_deserialize_model',\n",
       " '_estimator_type',\n",
       " '_eval_metrics',\n",
       " '_fit',\n",
       " '_get_borders',\n",
       " '_get_cat_feature_indices',\n",
       " '_get_default_prediction_type',\n",
       " '_get_embedding_feature_indices',\n",
       " '_get_float_feature_indices',\n",
       " '_get_nan_treatments',\n",
       " '_get_params',\n",
       " '_get_tags',\n",
       " '_get_text_feature_indices',\n",
       " '_get_tree_leaf_values',\n",
       " '_get_tree_node_to_leaf',\n",
       " '_get_tree_splits',\n",
       " '_get_tree_step_nodes',\n",
       " '_init_params',\n",
       " '_is_classification_objective',\n",
       " '_is_comparable_to',\n",
       " '_is_fitted_',\n",
       " '_is_multiregression_objective',\n",
       " '_is_multitarget_objective',\n",
       " '_is_ranking_objective',\n",
       " '_is_regression_objective',\n",
       " '_is_survivalregression_objective',\n",
       " '_iterate_leaf_indexes',\n",
       " '_leaf_indexes_iterator',\n",
       " '_learning_rate',\n",
       " '_load_from_stream',\n",
       " '_load_from_string',\n",
       " '_load_model',\n",
       " '_n_features_in',\n",
       " '_object',\n",
       " '_plot_nonsymmetric_tree',\n",
       " '_plot_oblivious_tree',\n",
       " '_predict',\n",
       " '_prediction_values_change',\n",
       " '_prepare_train_params',\n",
       " '_process_predict_input_data',\n",
       " '_random_seed',\n",
       " '_save_borders',\n",
       " '_save_model',\n",
       " '_serialize_model',\n",
       " '_set_test_evals',\n",
       " '_set_trained_model_attributes',\n",
       " '_staged_predict',\n",
       " '_staged_predict_iterator',\n",
       " '_sum_models',\n",
       " '_train',\n",
       " '_tree_count',\n",
       " '_tune_hyperparams',\n",
       " '_validate_prediction_type',\n",
       " '_virtual_ensembles_predict',\n",
       " 'best_iteration_',\n",
       " 'best_score_',\n",
       " 'calc_feature_statistics',\n",
       " 'calc_leaf_indexes',\n",
       " 'classes_',\n",
       " 'compare',\n",
       " 'copy',\n",
       " 'create_metric_calcer',\n",
       " 'drop_unused_features',\n",
       " 'eval_metrics',\n",
       " 'evals_result_',\n",
       " 'feature_importances_',\n",
       " 'feature_names_',\n",
       " 'fit',\n",
       " 'get_all_params',\n",
       " 'get_best_iteration',\n",
       " 'get_best_score',\n",
       " 'get_borders',\n",
       " 'get_cat_feature_indices',\n",
       " 'get_embedding_feature_indices',\n",
       " 'get_evals_result',\n",
       " 'get_feature_importance',\n",
       " 'get_leaf_values',\n",
       " 'get_leaf_weights',\n",
       " 'get_metadata',\n",
       " 'get_n_features_in',\n",
       " 'get_object_importance',\n",
       " 'get_param',\n",
       " 'get_params',\n",
       " 'get_scale_and_bias',\n",
       " 'get_test_eval',\n",
       " 'get_test_evals',\n",
       " 'get_text_feature_indices',\n",
       " 'get_tree_leaf_counts',\n",
       " 'grid_search',\n",
       " 'is_fitted',\n",
       " 'iterate_leaf_indexes',\n",
       " 'learning_rate_',\n",
       " 'load_model',\n",
       " 'n_features_in_',\n",
       " 'plot_partial_dependence',\n",
       " 'plot_predictions',\n",
       " 'plot_tree',\n",
       " 'predict',\n",
       " 'random_seed_',\n",
       " 'randomized_search',\n",
       " 'save_borders',\n",
       " 'save_model',\n",
       " 'score',\n",
       " 'select_features',\n",
       " 'set_feature_names',\n",
       " 'set_leaf_values',\n",
       " 'set_params',\n",
       " 'set_scale_and_bias',\n",
       " 'shrink',\n",
       " 'staged_predict',\n",
       " 'tree_count_',\n",
       " 'virtual_ensembles_predict']"
      ]
     },
     "execution_count": 316,
     "metadata": {},
     "output_type": "execute_result"
    }
   ],
   "source": [
    "dir(catb_model)"
   ]
  },
  {
   "cell_type": "code",
   "execution_count": 317,
   "id": "4784bd0d-d027-426d-9a59-c433c71bfa37",
   "metadata": {},
   "outputs": [],
   "source": [
    "y_pred = catb_model.predict(X_test)"
   ]
  },
  {
   "cell_type": "code",
   "execution_count": 318,
   "id": "20423827-4468-4a8f-b1d0-9d74c8c17959",
   "metadata": {},
   "outputs": [
    {
     "data": {
      "text/plain": [
       "351.194631344607"
      ]
     },
     "execution_count": 318,
     "metadata": {},
     "output_type": "execute_result"
    }
   ],
   "source": [
    "np.sqrt(mean_squared_error(y_test, y_pred))"
   ]
  },
  {
   "cell_type": "markdown",
   "id": "7c524f06-efdd-41a3-bd40-1476a04527ea",
   "metadata": {},
   "source": [
    "## Model Tuning"
   ]
  },
  {
   "cell_type": "code",
   "execution_count": 319,
   "id": "1b38ab65-2d45-4a6c-afab-d7becb6a1c94",
   "metadata": {},
   "outputs": [],
   "source": [
    "catb_params = {\"iterations\": [200,500,100],\n",
    "              \"learning_rate\": [0.01,0.1],\n",
    "              \"depth\": [3,6,8]}"
   ]
  },
  {
   "cell_type": "code",
   "execution_count": 320,
   "id": "51a8e19f-5b2f-4849-a205-2593d3003d84",
   "metadata": {},
   "outputs": [],
   "source": [
    "catb_model = CatBoostRegressor()"
   ]
  },
  {
   "cell_type": "code",
   "execution_count": 321,
   "id": "7a294d3d-14a6-4f34-aeca-d3b0a8ea8243",
   "metadata": {
    "collapsed": true,
    "jupyter": {
     "outputs_hidden": true
    },
    "tags": []
   },
   "outputs": [
    {
     "name": "stdout",
     "output_type": "stream",
     "text": [
      "Fitting 5 folds for each of 18 candidates, totalling 90 fits\n",
      "0:\tlearn: 425.7900818\ttotal: 1.55ms\tremaining: 308ms\n",
      "1:\tlearn: 404.8723520\ttotal: 2.05ms\tremaining: 203ms\n",
      "2:\tlearn: 387.4057666\ttotal: 2.39ms\tremaining: 157ms\n",
      "3:\tlearn: 372.2801584\ttotal: 2.74ms\tremaining: 134ms\n",
      "4:\tlearn: 358.9204229\ttotal: 3.09ms\tremaining: 120ms\n",
      "5:\tlearn: 347.0083933\ttotal: 3.43ms\tremaining: 111ms\n",
      "6:\tlearn: 336.0130818\ttotal: 3.76ms\tremaining: 104ms\n",
      "7:\tlearn: 324.3923300\ttotal: 4.1ms\tremaining: 98.4ms\n",
      "8:\tlearn: 314.8690957\ttotal: 4.51ms\tremaining: 95.6ms\n",
      "9:\tlearn: 308.5075563\ttotal: 4.89ms\tremaining: 92.9ms\n",
      "10:\tlearn: 298.8587285\ttotal: 5.26ms\tremaining: 90.5ms\n",
      "11:\tlearn: 294.7655438\ttotal: 5.66ms\tremaining: 88.6ms\n",
      "12:\tlearn: 288.0697862\ttotal: 5.99ms\tremaining: 86.2ms\n",
      "13:\tlearn: 282.6697154\ttotal: 6.33ms\tremaining: 84ms\n",
      "14:\tlearn: 277.6121667\ttotal: 6.69ms\tremaining: 82.5ms\n",
      "15:\tlearn: 273.4383979\ttotal: 7.04ms\tremaining: 81ms\n",
      "16:\tlearn: 269.1556201\ttotal: 7.38ms\tremaining: 79.5ms\n",
      "17:\tlearn: 264.8098704\ttotal: 7.72ms\tremaining: 78.1ms\n",
      "18:\tlearn: 261.6700768\ttotal: 8.06ms\tremaining: 76.8ms\n",
      "19:\tlearn: 257.3961290\ttotal: 8.4ms\tremaining: 75.6ms\n",
      "20:\tlearn: 252.2691509\ttotal: 8.75ms\tremaining: 74.6ms\n",
      "21:\tlearn: 249.0686482\ttotal: 9.12ms\tremaining: 73.8ms\n",
      "22:\tlearn: 244.1881041\ttotal: 9.47ms\tremaining: 72.9ms\n",
      "23:\tlearn: 242.1696687\ttotal: 9.81ms\tremaining: 71.9ms\n",
      "24:\tlearn: 239.2131476\ttotal: 10.2ms\tremaining: 71.1ms\n",
      "25:\tlearn: 236.6883901\ttotal: 10.5ms\tremaining: 70.5ms\n",
      "26:\tlearn: 234.5295613\ttotal: 10.9ms\tremaining: 69.8ms\n",
      "27:\tlearn: 231.7788834\ttotal: 11.3ms\tremaining: 69.3ms\n",
      "28:\tlearn: 228.8020330\ttotal: 11.7ms\tremaining: 68.8ms\n",
      "29:\tlearn: 226.8420565\ttotal: 12ms\tremaining: 68.3ms\n",
      "30:\tlearn: 224.0686558\ttotal: 12.4ms\tremaining: 67.6ms\n",
      "31:\tlearn: 222.6644699\ttotal: 12.8ms\tremaining: 66.9ms\n",
      "32:\tlearn: 221.6889573\ttotal: 13.1ms\tremaining: 66.2ms\n",
      "33:\tlearn: 220.5171653\ttotal: 13.4ms\tremaining: 65.6ms\n",
      "34:\tlearn: 217.7686033\ttotal: 13.8ms\tremaining: 64.9ms\n",
      "35:\tlearn: 214.8462789\ttotal: 14.2ms\tremaining: 64.7ms\n",
      "36:\tlearn: 214.4799251\ttotal: 14.6ms\tremaining: 64.1ms\n",
      "37:\tlearn: 212.3480429\ttotal: 14.9ms\tremaining: 63.5ms\n",
      "38:\tlearn: 210.0040644\ttotal: 15.2ms\tremaining: 62.8ms\n",
      "39:\tlearn: 208.3086913\ttotal: 15.6ms\tremaining: 62.3ms\n",
      "40:\tlearn: 207.5469119\ttotal: 15.9ms\tremaining: 61.7ms\n",
      "41:\tlearn: 205.9351113\ttotal: 16.3ms\tremaining: 61.1ms\n",
      "42:\tlearn: 205.3580824\ttotal: 16.6ms\tremaining: 60.6ms\n",
      "43:\tlearn: 204.6204266\ttotal: 17ms\tremaining: 60.1ms\n",
      "44:\tlearn: 202.5023220\ttotal: 17.3ms\tremaining: 59.6ms\n",
      "45:\tlearn: 201.4347853\ttotal: 17.7ms\tremaining: 59.2ms\n",
      "46:\tlearn: 200.8752553\ttotal: 18.1ms\tremaining: 58.8ms\n",
      "47:\tlearn: 200.4047344\ttotal: 18.4ms\tremaining: 58.3ms\n",
      "48:\tlearn: 197.5433004\ttotal: 18.7ms\tremaining: 57.8ms\n",
      "49:\tlearn: 194.6943292\ttotal: 19.1ms\tremaining: 57.2ms\n",
      "50:\tlearn: 194.3011982\ttotal: 19.4ms\tremaining: 56.7ms\n",
      "51:\tlearn: 193.4011843\ttotal: 19.8ms\tremaining: 56.3ms\n",
      "52:\tlearn: 193.0109753\ttotal: 20.2ms\tremaining: 55.9ms\n",
      "53:\tlearn: 192.6071142\ttotal: 20.5ms\tremaining: 55.5ms\n",
      "54:\tlearn: 191.9666153\ttotal: 20.9ms\tremaining: 55ms\n",
      "55:\tlearn: 191.5789727\ttotal: 21.2ms\tremaining: 54.5ms\n",
      "56:\tlearn: 190.7186284\ttotal: 21.5ms\tremaining: 54ms\n",
      "57:\tlearn: 190.4543087\ttotal: 21.9ms\tremaining: 53.6ms\n",
      "58:\tlearn: 190.1336317\ttotal: 22.2ms\tremaining: 53.1ms\n",
      "59:\tlearn: 188.2286484\ttotal: 22.6ms\tremaining: 52.7ms\n",
      "60:\tlearn: 187.7652417\ttotal: 22.9ms\tremaining: 52.2ms\n",
      "61:\tlearn: 187.4227950\ttotal: 23.3ms\tremaining: 51.8ms\n",
      "62:\tlearn: 186.9289182\ttotal: 23.6ms\tremaining: 51.3ms\n",
      "63:\tlearn: 185.2993487\ttotal: 23.9ms\tremaining: 50.8ms\n",
      "64:\tlearn: 185.0349598\ttotal: 24.3ms\tremaining: 50.5ms\n",
      "65:\tlearn: 183.9773430\ttotal: 24.7ms\tremaining: 50.2ms\n",
      "66:\tlearn: 183.4463166\ttotal: 25.2ms\tremaining: 50ms\n",
      "67:\tlearn: 181.6627740\ttotal: 25.5ms\tremaining: 49.5ms\n",
      "68:\tlearn: 179.8785055\ttotal: 25.8ms\tremaining: 49.1ms\n",
      "69:\tlearn: 179.6737527\ttotal: 26.2ms\tremaining: 48.6ms\n",
      "70:\tlearn: 177.0830981\ttotal: 26.5ms\tremaining: 48.2ms\n",
      "71:\tlearn: 176.5917790\ttotal: 26.9ms\tremaining: 47.7ms\n",
      "72:\tlearn: 176.1240502\ttotal: 27.2ms\tremaining: 47.3ms\n",
      "73:\tlearn: 174.4828953\ttotal: 27.5ms\tremaining: 46.9ms\n",
      "74:\tlearn: 173.4220482\ttotal: 27.9ms\tremaining: 46.5ms\n",
      "75:\tlearn: 171.9903405\ttotal: 28.2ms\tremaining: 46.1ms\n",
      "76:\tlearn: 171.5803116\ttotal: 28.6ms\tremaining: 45.6ms\n",
      "77:\tlearn: 170.1411594\ttotal: 28.9ms\tremaining: 45.2ms\n",
      "78:\tlearn: 167.9868133\ttotal: 29.2ms\tremaining: 44.8ms\n",
      "79:\tlearn: 166.5304475\ttotal: 29.6ms\tremaining: 44.5ms\n",
      "80:\tlearn: 166.1741622\ttotal: 30ms\tremaining: 44ms\n",
      "81:\tlearn: 165.8411762\ttotal: 30.3ms\tremaining: 43.6ms\n",
      "82:\tlearn: 165.1041583\ttotal: 30.7ms\tremaining: 43.2ms\n",
      "83:\tlearn: 163.5641543\ttotal: 31ms\tremaining: 42.9ms\n",
      "84:\tlearn: 163.2003311\ttotal: 31.4ms\tremaining: 42.5ms\n",
      "85:\tlearn: 161.1781702\ttotal: 31.8ms\tremaining: 42.1ms\n",
      "86:\tlearn: 160.8727658\ttotal: 32.2ms\tremaining: 41.8ms\n",
      "87:\tlearn: 159.7954077\ttotal: 32.5ms\tremaining: 41.4ms\n",
      "88:\tlearn: 158.8759132\ttotal: 32.9ms\tremaining: 41ms\n",
      "89:\tlearn: 158.4831323\ttotal: 33.2ms\tremaining: 40.6ms\n",
      "90:\tlearn: 157.4808127\ttotal: 33.6ms\tremaining: 40.2ms\n",
      "91:\tlearn: 157.1703230\ttotal: 33.9ms\tremaining: 39.8ms\n",
      "92:\tlearn: 155.3184755\ttotal: 34.2ms\tremaining: 39.4ms\n",
      "93:\tlearn: 154.3988879\ttotal: 34.6ms\tremaining: 39ms\n",
      "94:\tlearn: 153.4591935\ttotal: 34.9ms\tremaining: 38.6ms\n",
      "95:\tlearn: 153.1206893\ttotal: 35.3ms\tremaining: 38.2ms\n",
      "96:\tlearn: 152.7897351\ttotal: 35.6ms\tremaining: 37.8ms\n",
      "97:\tlearn: 150.9293164\ttotal: 36ms\tremaining: 37.4ms\n",
      "98:\tlearn: 149.7127171\ttotal: 36.3ms\tremaining: 37.1ms\n",
      "99:\tlearn: 149.5089324\ttotal: 36.7ms\tremaining: 36.7ms\n",
      "100:\tlearn: 149.3156312\ttotal: 37ms\tremaining: 36.3ms\n",
      "101:\tlearn: 147.7226718\ttotal: 37.4ms\tremaining: 35.9ms\n",
      "102:\tlearn: 146.7692282\ttotal: 37.7ms\tremaining: 35.5ms\n",
      "103:\tlearn: 145.9084983\ttotal: 38.1ms\tremaining: 35.2ms\n",
      "104:\tlearn: 144.8780979\ttotal: 38.5ms\tremaining: 34.8ms\n",
      "105:\tlearn: 143.8090268\ttotal: 38.8ms\tremaining: 34.4ms\n",
      "106:\tlearn: 143.1272551\ttotal: 39.2ms\tremaining: 34ms\n",
      "107:\tlearn: 142.4863018\ttotal: 39.5ms\tremaining: 33.7ms\n",
      "108:\tlearn: 141.4861279\ttotal: 39.8ms\tremaining: 33.3ms\n",
      "109:\tlearn: 140.8689530\ttotal: 40.2ms\tremaining: 32.9ms\n",
      "110:\tlearn: 140.4009570\ttotal: 40.6ms\tremaining: 32.5ms\n",
      "111:\tlearn: 140.0344439\ttotal: 40.9ms\tremaining: 32.1ms\n",
      "112:\tlearn: 139.4290096\ttotal: 41.2ms\tremaining: 31.8ms\n",
      "113:\tlearn: 139.2008874\ttotal: 41.6ms\tremaining: 31.4ms\n",
      "114:\tlearn: 138.6000188\ttotal: 41.9ms\tremaining: 31ms\n",
      "115:\tlearn: 138.3962706\ttotal: 42.3ms\tremaining: 30.6ms\n",
      "116:\tlearn: 138.1737256\ttotal: 42.6ms\tremaining: 30.2ms\n",
      "117:\tlearn: 137.6342361\ttotal: 42.9ms\tremaining: 29.8ms\n",
      "118:\tlearn: 136.7119826\ttotal: 43.3ms\tremaining: 29.5ms\n",
      "119:\tlearn: 135.3057402\ttotal: 43.6ms\tremaining: 29.1ms\n",
      "120:\tlearn: 134.4797815\ttotal: 55.2ms\tremaining: 36ms\n",
      "121:\tlearn: 133.0774331\ttotal: 55.8ms\tremaining: 35.6ms\n",
      "122:\tlearn: 131.8739238\ttotal: 56.1ms\tremaining: 35.1ms\n",
      "123:\tlearn: 131.3203837\ttotal: 56.4ms\tremaining: 34.6ms\n",
      "124:\tlearn: 130.8294604\ttotal: 56.8ms\tremaining: 34.1ms\n",
      "125:\tlearn: 130.6107905\ttotal: 57.1ms\tremaining: 33.5ms\n",
      "126:\tlearn: 130.1614924\ttotal: 57.5ms\tremaining: 33ms\n",
      "127:\tlearn: 129.3166972\ttotal: 57.8ms\tremaining: 32.5ms\n",
      "128:\tlearn: 129.1038672\ttotal: 58.1ms\tremaining: 32ms\n",
      "129:\tlearn: 128.9594874\ttotal: 58.5ms\tremaining: 31.5ms\n",
      "130:\tlearn: 128.1849638\ttotal: 58.8ms\tremaining: 31ms\n",
      "131:\tlearn: 128.0307033\ttotal: 59.2ms\tremaining: 30.5ms\n",
      "132:\tlearn: 127.3373882\ttotal: 59.6ms\tremaining: 30ms\n",
      "133:\tlearn: 126.2856989\ttotal: 59.9ms\tremaining: 29.5ms\n",
      "134:\tlearn: 126.1379832\ttotal: 60.3ms\tremaining: 29ms\n",
      "135:\tlearn: 126.0180019\ttotal: 60.6ms\tremaining: 28.5ms\n",
      "136:\tlearn: 125.8843963\ttotal: 60.9ms\tremaining: 28ms\n",
      "137:\tlearn: 125.7576333\ttotal: 61.2ms\tremaining: 27.5ms\n",
      "138:\tlearn: 125.4794581\ttotal: 61.5ms\tremaining: 27ms\n",
      "139:\tlearn: 124.7920270\ttotal: 61.9ms\tremaining: 26.5ms\n",
      "140:\tlearn: 124.6530278\ttotal: 62.2ms\tremaining: 26ms\n",
      "141:\tlearn: 123.4539010\ttotal: 62.5ms\tremaining: 25.5ms\n",
      "142:\tlearn: 122.8980001\ttotal: 62.9ms\tremaining: 25.1ms\n",
      "143:\tlearn: 122.0911177\ttotal: 63.3ms\tremaining: 24.6ms\n",
      "144:\tlearn: 121.1209154\ttotal: 63.6ms\tremaining: 24.1ms\n",
      "145:\tlearn: 120.1613553\ttotal: 64ms\tremaining: 23.7ms\n",
      "146:\tlearn: 119.1894727\ttotal: 64.3ms\tremaining: 23.2ms\n",
      "147:\tlearn: 118.0325732\ttotal: 64.6ms\tremaining: 22.7ms\n",
      "148:\tlearn: 117.9138240\ttotal: 64.9ms\tremaining: 22.2ms\n",
      "149:\tlearn: 117.3831462\ttotal: 65.4ms\tremaining: 21.8ms\n",
      "150:\tlearn: 116.8475244\ttotal: 65.6ms\tremaining: 21.3ms\n",
      "151:\tlearn: 116.3821954\ttotal: 66ms\tremaining: 20.8ms\n",
      "152:\tlearn: 115.5293176\ttotal: 66.3ms\tremaining: 20.4ms\n",
      "153:\tlearn: 115.0975175\ttotal: 66.6ms\tremaining: 19.9ms\n",
      "154:\tlearn: 114.0649594\ttotal: 67ms\tremaining: 19.4ms\n",
      "155:\tlearn: 113.2562326\ttotal: 67.3ms\tremaining: 19ms\n",
      "156:\tlearn: 112.7557871\ttotal: 67.6ms\tremaining: 18.5ms\n",
      "157:\tlearn: 112.5657565\ttotal: 68ms\tremaining: 18.1ms\n",
      "158:\tlearn: 112.3541525\ttotal: 68.3ms\tremaining: 17.6ms\n",
      "159:\tlearn: 111.8527982\ttotal: 68.6ms\tremaining: 17.2ms\n",
      "160:\tlearn: 111.1619644\ttotal: 69ms\tremaining: 16.7ms\n",
      "161:\tlearn: 110.3588257\ttotal: 69.3ms\tremaining: 16.3ms\n",
      "162:\tlearn: 109.6664293\ttotal: 69.7ms\tremaining: 15.8ms\n",
      "163:\tlearn: 109.5577303\ttotal: 70.1ms\tremaining: 15.4ms\n",
      "164:\tlearn: 109.0570285\ttotal: 70.4ms\tremaining: 14.9ms\n",
      "165:\tlearn: 108.7601467\ttotal: 70.8ms\tremaining: 14.5ms\n",
      "166:\tlearn: 108.0448620\ttotal: 71.1ms\tremaining: 14.1ms\n",
      "167:\tlearn: 107.5593372\ttotal: 71.4ms\tremaining: 13.6ms\n",
      "168:\tlearn: 106.3862999\ttotal: 71.8ms\tremaining: 13.2ms\n",
      "169:\tlearn: 106.2180807\ttotal: 72.2ms\tremaining: 12.7ms\n",
      "170:\tlearn: 106.0695603\ttotal: 72.5ms\tremaining: 12.3ms\n",
      "171:\tlearn: 105.6940213\ttotal: 72.8ms\tremaining: 11.9ms\n",
      "172:\tlearn: 104.7598987\ttotal: 73.2ms\tremaining: 11.4ms\n",
      "173:\tlearn: 104.6589992\ttotal: 73.5ms\tremaining: 11ms\n",
      "174:\tlearn: 103.7203657\ttotal: 73.8ms\tremaining: 10.5ms\n",
      "175:\tlearn: 103.2660987\ttotal: 74.2ms\tremaining: 10.1ms\n",
      "176:\tlearn: 103.0926213\ttotal: 74.5ms\tremaining: 9.68ms\n",
      "177:\tlearn: 102.6925209\ttotal: 74.9ms\tremaining: 9.25ms\n",
      "178:\tlearn: 102.1655154\ttotal: 75.2ms\tremaining: 8.82ms\n",
      "179:\tlearn: 101.8273108\ttotal: 75.5ms\tremaining: 8.39ms\n",
      "180:\tlearn: 101.7264515\ttotal: 75.8ms\tremaining: 7.96ms\n",
      "181:\tlearn: 101.1102333\ttotal: 76.1ms\tremaining: 7.53ms\n",
      "182:\tlearn: 100.7880364\ttotal: 76.5ms\tremaining: 7.1ms\n",
      "183:\tlearn: 100.6673014\ttotal: 76.8ms\tremaining: 6.68ms\n",
      "184:\tlearn: 100.0153055\ttotal: 77.1ms\tremaining: 6.25ms\n",
      "185:\tlearn: 99.7667281\ttotal: 77.5ms\tremaining: 5.83ms\n",
      "186:\tlearn: 99.1860593\ttotal: 77.8ms\tremaining: 5.41ms\n",
      "187:\tlearn: 99.0408133\ttotal: 78.1ms\tremaining: 4.99ms\n",
      "188:\tlearn: 98.9030718\ttotal: 78.5ms\tremaining: 4.57ms\n",
      "189:\tlearn: 97.4513860\ttotal: 78.8ms\tremaining: 4.15ms\n",
      "190:\tlearn: 97.3322959\ttotal: 79.1ms\tremaining: 3.73ms\n",
      "191:\tlearn: 97.1950848\ttotal: 79.5ms\tremaining: 3.31ms\n",
      "192:\tlearn: 96.6789532\ttotal: 79.8ms\tremaining: 2.89ms\n",
      "193:\tlearn: 96.5506179\ttotal: 80.1ms\tremaining: 2.48ms\n",
      "194:\tlearn: 95.6635039\ttotal: 80.5ms\tremaining: 2.06ms\n",
      "195:\tlearn: 94.8850777\ttotal: 80.8ms\tremaining: 1.65ms\n",
      "196:\tlearn: 94.1624589\ttotal: 81.2ms\tremaining: 1.24ms\n",
      "197:\tlearn: 93.8220662\ttotal: 81.5ms\tremaining: 823us\n",
      "198:\tlearn: 93.7300351\ttotal: 81.9ms\tremaining: 411us\n",
      "199:\tlearn: 93.3339522\ttotal: 82.2ms\tremaining: 0us\n"
     ]
    }
   ],
   "source": [
    "catb_cv_model = GridSearchCV(catb_model, \n",
    "                           catb_params, \n",
    "                           cv = 5, \n",
    "                           n_jobs = -1, \n",
    "                           verbose = 2).fit(X_train, y_train)"
   ]
  },
  {
   "cell_type": "code",
   "execution_count": 322,
   "id": "287ef89e-b835-4d78-a137-2596bfd62adc",
   "metadata": {},
   "outputs": [
    {
     "data": {
      "text/plain": [
       "{'depth': 3, 'iterations': 200, 'learning_rate': 0.1}"
      ]
     },
     "execution_count": 322,
     "metadata": {},
     "output_type": "execute_result"
    }
   ],
   "source": [
    "catb_cv_model.best_params_"
   ]
  },
  {
   "cell_type": "code",
   "execution_count": 323,
   "id": "aa58efcb-c9c9-47e6-9c87-faccbd628b88",
   "metadata": {
    "collapsed": true,
    "jupyter": {
     "outputs_hidden": true
    },
    "tags": []
   },
   "outputs": [
    {
     "name": "stdout",
     "output_type": "stream",
     "text": [
      "0:\tlearn: 425.7900818\ttotal: 32.6ms\tremaining: 16.3s\n",
      "1:\tlearn: 404.8723520\ttotal: 33.5ms\tremaining: 8.35s\n",
      "2:\tlearn: 387.4057666\ttotal: 34ms\tremaining: 5.63s\n",
      "3:\tlearn: 372.2801584\ttotal: 34.4ms\tremaining: 4.27s\n",
      "4:\tlearn: 358.9204229\ttotal: 34.8ms\tremaining: 3.45s\n",
      "5:\tlearn: 347.0083933\ttotal: 35.2ms\tremaining: 2.9s\n",
      "6:\tlearn: 336.0130818\ttotal: 35.7ms\tremaining: 2.51s\n",
      "7:\tlearn: 324.3923300\ttotal: 36ms\tremaining: 2.22s\n",
      "8:\tlearn: 314.8690957\ttotal: 36.5ms\tremaining: 1.99s\n",
      "9:\tlearn: 308.5075563\ttotal: 36.8ms\tremaining: 1.8s\n",
      "10:\tlearn: 298.8587285\ttotal: 37.2ms\tremaining: 1.65s\n",
      "11:\tlearn: 294.7655438\ttotal: 37.6ms\tremaining: 1.53s\n",
      "12:\tlearn: 288.0697862\ttotal: 37.9ms\tremaining: 1.42s\n",
      "13:\tlearn: 282.6697154\ttotal: 38.3ms\tremaining: 1.33s\n",
      "14:\tlearn: 277.6121667\ttotal: 38.6ms\tremaining: 1.25s\n",
      "15:\tlearn: 273.4383979\ttotal: 38.9ms\tremaining: 1.18s\n",
      "16:\tlearn: 269.1556201\ttotal: 39.3ms\tremaining: 1.12s\n",
      "17:\tlearn: 264.8098704\ttotal: 39.7ms\tremaining: 1.06s\n",
      "18:\tlearn: 261.6700768\ttotal: 40ms\tremaining: 1.01s\n",
      "19:\tlearn: 257.3961290\ttotal: 40.4ms\tremaining: 970ms\n",
      "20:\tlearn: 252.2691509\ttotal: 41ms\tremaining: 934ms\n",
      "21:\tlearn: 249.0686482\ttotal: 41.4ms\tremaining: 899ms\n",
      "22:\tlearn: 244.1881041\ttotal: 41.7ms\tremaining: 865ms\n",
      "23:\tlearn: 242.1696687\ttotal: 42.1ms\tremaining: 835ms\n",
      "24:\tlearn: 239.2131476\ttotal: 42.4ms\tremaining: 806ms\n",
      "25:\tlearn: 236.6883901\ttotal: 42.8ms\tremaining: 781ms\n",
      "26:\tlearn: 234.5295613\ttotal: 43.2ms\tremaining: 756ms\n",
      "27:\tlearn: 231.7788834\ttotal: 43.5ms\tremaining: 734ms\n",
      "28:\tlearn: 228.8020330\ttotal: 43.9ms\tremaining: 713ms\n",
      "29:\tlearn: 226.8420565\ttotal: 44.3ms\tremaining: 694ms\n",
      "30:\tlearn: 224.0686558\ttotal: 44.7ms\tremaining: 676ms\n",
      "31:\tlearn: 222.6644699\ttotal: 45ms\tremaining: 659ms\n",
      "32:\tlearn: 221.6889573\ttotal: 45.5ms\tremaining: 643ms\n",
      "33:\tlearn: 220.5171653\ttotal: 45.8ms\tremaining: 628ms\n",
      "34:\tlearn: 217.7686033\ttotal: 46.2ms\tremaining: 614ms\n",
      "35:\tlearn: 214.8462789\ttotal: 46.6ms\tremaining: 600ms\n",
      "36:\tlearn: 214.4799251\ttotal: 46.9ms\tremaining: 587ms\n",
      "37:\tlearn: 212.3480429\ttotal: 47.3ms\tremaining: 575ms\n",
      "38:\tlearn: 210.0040644\ttotal: 47.7ms\tremaining: 563ms\n",
      "39:\tlearn: 208.3086913\ttotal: 48.1ms\tremaining: 553ms\n",
      "40:\tlearn: 207.5469119\ttotal: 48.4ms\tremaining: 542ms\n",
      "41:\tlearn: 205.9351113\ttotal: 48.8ms\tremaining: 532ms\n",
      "42:\tlearn: 205.3580824\ttotal: 49.3ms\tremaining: 524ms\n",
      "43:\tlearn: 204.6204266\ttotal: 49.7ms\tremaining: 515ms\n",
      "44:\tlearn: 202.5023220\ttotal: 50.1ms\tremaining: 506ms\n",
      "45:\tlearn: 201.4347853\ttotal: 50.5ms\tremaining: 499ms\n",
      "46:\tlearn: 200.8752553\ttotal: 51ms\tremaining: 492ms\n",
      "47:\tlearn: 200.4047344\ttotal: 51.4ms\tremaining: 484ms\n",
      "48:\tlearn: 197.5433004\ttotal: 51.8ms\tremaining: 477ms\n",
      "49:\tlearn: 194.6943292\ttotal: 52.2ms\tremaining: 470ms\n",
      "50:\tlearn: 194.3011982\ttotal: 52.6ms\tremaining: 463ms\n",
      "51:\tlearn: 193.4011843\ttotal: 52.9ms\tremaining: 456ms\n",
      "52:\tlearn: 193.0109753\ttotal: 53.3ms\tremaining: 449ms\n",
      "53:\tlearn: 192.6071142\ttotal: 53.7ms\tremaining: 443ms\n",
      "54:\tlearn: 191.9666153\ttotal: 54ms\tremaining: 437ms\n",
      "55:\tlearn: 191.5789727\ttotal: 54.5ms\tremaining: 432ms\n",
      "56:\tlearn: 190.7186284\ttotal: 55.1ms\tremaining: 429ms\n",
      "57:\tlearn: 190.4543087\ttotal: 55.5ms\tremaining: 423ms\n",
      "58:\tlearn: 190.1336317\ttotal: 56ms\tremaining: 418ms\n",
      "59:\tlearn: 188.2286484\ttotal: 56.3ms\tremaining: 413ms\n",
      "60:\tlearn: 187.7652417\ttotal: 56.8ms\tremaining: 408ms\n",
      "61:\tlearn: 187.4227950\ttotal: 57.2ms\tremaining: 404ms\n",
      "62:\tlearn: 186.9289182\ttotal: 57.5ms\tremaining: 399ms\n",
      "63:\tlearn: 185.2993487\ttotal: 57.9ms\tremaining: 395ms\n",
      "64:\tlearn: 185.0349598\ttotal: 58.4ms\tremaining: 391ms\n",
      "65:\tlearn: 183.9773430\ttotal: 58.8ms\tremaining: 386ms\n",
      "66:\tlearn: 183.4463166\ttotal: 59.2ms\tremaining: 382ms\n",
      "67:\tlearn: 181.6627740\ttotal: 59.6ms\tremaining: 379ms\n",
      "68:\tlearn: 179.8785055\ttotal: 60ms\tremaining: 375ms\n",
      "69:\tlearn: 179.6737527\ttotal: 60.4ms\tremaining: 371ms\n",
      "70:\tlearn: 177.0830981\ttotal: 60.8ms\tremaining: 367ms\n",
      "71:\tlearn: 176.5917790\ttotal: 61.1ms\tremaining: 363ms\n",
      "72:\tlearn: 176.1240502\ttotal: 61.4ms\tremaining: 359ms\n",
      "73:\tlearn: 174.4828953\ttotal: 61.8ms\tremaining: 356ms\n",
      "74:\tlearn: 173.4220482\ttotal: 62.3ms\tremaining: 353ms\n",
      "75:\tlearn: 171.9903405\ttotal: 62.7ms\tremaining: 350ms\n",
      "76:\tlearn: 171.5803116\ttotal: 63ms\tremaining: 346ms\n",
      "77:\tlearn: 170.1411594\ttotal: 63.4ms\tremaining: 343ms\n",
      "78:\tlearn: 167.9868133\ttotal: 63.8ms\tremaining: 340ms\n",
      "79:\tlearn: 166.5304475\ttotal: 64.2ms\tremaining: 337ms\n",
      "80:\tlearn: 166.1741622\ttotal: 64.5ms\tremaining: 334ms\n",
      "81:\tlearn: 165.8411762\ttotal: 64.9ms\tremaining: 331ms\n",
      "82:\tlearn: 165.1041583\ttotal: 65.3ms\tremaining: 328ms\n",
      "83:\tlearn: 163.5641543\ttotal: 65.6ms\tremaining: 325ms\n",
      "84:\tlearn: 163.2003311\ttotal: 66ms\tremaining: 322ms\n",
      "85:\tlearn: 161.1781702\ttotal: 66.3ms\tremaining: 319ms\n",
      "86:\tlearn: 160.8727658\ttotal: 66.6ms\tremaining: 316ms\n",
      "87:\tlearn: 159.7954077\ttotal: 67ms\tremaining: 314ms\n",
      "88:\tlearn: 158.8759132\ttotal: 67.3ms\tremaining: 311ms\n",
      "89:\tlearn: 158.4831323\ttotal: 67.7ms\tremaining: 308ms\n",
      "90:\tlearn: 157.4808127\ttotal: 68.1ms\tremaining: 306ms\n",
      "91:\tlearn: 157.1703230\ttotal: 68.4ms\tremaining: 303ms\n",
      "92:\tlearn: 155.3184755\ttotal: 68.8ms\tremaining: 301ms\n",
      "93:\tlearn: 154.3988879\ttotal: 69.3ms\tremaining: 299ms\n",
      "94:\tlearn: 153.4591935\ttotal: 69.6ms\tremaining: 297ms\n",
      "95:\tlearn: 153.1206893\ttotal: 70ms\tremaining: 294ms\n",
      "96:\tlearn: 152.7897351\ttotal: 70.3ms\tremaining: 292ms\n",
      "97:\tlearn: 150.9293164\ttotal: 70.7ms\tremaining: 290ms\n",
      "98:\tlearn: 149.7127171\ttotal: 71ms\tremaining: 288ms\n",
      "99:\tlearn: 149.5089324\ttotal: 71.4ms\tremaining: 285ms\n",
      "100:\tlearn: 149.3156312\ttotal: 71.7ms\tremaining: 283ms\n",
      "101:\tlearn: 147.7226718\ttotal: 72.1ms\tremaining: 282ms\n",
      "102:\tlearn: 146.7692282\ttotal: 72.5ms\tremaining: 280ms\n",
      "103:\tlearn: 145.9084983\ttotal: 73ms\tremaining: 278ms\n",
      "104:\tlearn: 144.8780979\ttotal: 73.4ms\tremaining: 276ms\n",
      "105:\tlearn: 143.8090268\ttotal: 73.8ms\tremaining: 274ms\n",
      "106:\tlearn: 143.1272551\ttotal: 74.2ms\tremaining: 272ms\n",
      "107:\tlearn: 142.4863018\ttotal: 74.6ms\tremaining: 271ms\n",
      "108:\tlearn: 141.4861279\ttotal: 74.9ms\tremaining: 269ms\n",
      "109:\tlearn: 140.8689530\ttotal: 75.3ms\tremaining: 267ms\n",
      "110:\tlearn: 140.4009570\ttotal: 75.7ms\tremaining: 265ms\n",
      "111:\tlearn: 140.0344439\ttotal: 76.1ms\tremaining: 263ms\n",
      "112:\tlearn: 139.4290096\ttotal: 76.4ms\tremaining: 262ms\n",
      "113:\tlearn: 139.2008874\ttotal: 76.9ms\tremaining: 260ms\n",
      "114:\tlearn: 138.6000188\ttotal: 77.2ms\tremaining: 259ms\n",
      "115:\tlearn: 138.3962706\ttotal: 77.6ms\tremaining: 257ms\n",
      "116:\tlearn: 138.1737256\ttotal: 77.9ms\tremaining: 255ms\n",
      "117:\tlearn: 137.6342361\ttotal: 78.3ms\tremaining: 253ms\n",
      "118:\tlearn: 136.7119826\ttotal: 78.6ms\tremaining: 252ms\n",
      "119:\tlearn: 135.3057402\ttotal: 79ms\tremaining: 250ms\n",
      "120:\tlearn: 134.4797815\ttotal: 79.3ms\tremaining: 249ms\n",
      "121:\tlearn: 133.0774331\ttotal: 79.6ms\tremaining: 247ms\n",
      "122:\tlearn: 131.8739238\ttotal: 80ms\tremaining: 245ms\n",
      "123:\tlearn: 131.3203837\ttotal: 80.3ms\tremaining: 244ms\n",
      "124:\tlearn: 130.8294604\ttotal: 80.7ms\tremaining: 242ms\n",
      "125:\tlearn: 130.6107905\ttotal: 81.1ms\tremaining: 241ms\n",
      "126:\tlearn: 130.1614924\ttotal: 81.4ms\tremaining: 239ms\n",
      "127:\tlearn: 129.3166972\ttotal: 81.9ms\tremaining: 238ms\n",
      "128:\tlearn: 129.1038672\ttotal: 82.3ms\tremaining: 237ms\n",
      "129:\tlearn: 128.9594874\ttotal: 82.7ms\tremaining: 235ms\n",
      "130:\tlearn: 128.1849638\ttotal: 83ms\tremaining: 234ms\n",
      "131:\tlearn: 128.0307033\ttotal: 83.4ms\tremaining: 232ms\n",
      "132:\tlearn: 127.3373882\ttotal: 83.7ms\tremaining: 231ms\n",
      "133:\tlearn: 126.2856989\ttotal: 84.1ms\tremaining: 230ms\n",
      "134:\tlearn: 126.1379832\ttotal: 84.4ms\tremaining: 228ms\n",
      "135:\tlearn: 126.0180019\ttotal: 84.8ms\tremaining: 227ms\n",
      "136:\tlearn: 125.8843963\ttotal: 85.1ms\tremaining: 226ms\n",
      "137:\tlearn: 125.7576333\ttotal: 85.4ms\tremaining: 224ms\n",
      "138:\tlearn: 125.4794581\ttotal: 85.8ms\tremaining: 223ms\n",
      "139:\tlearn: 124.7920270\ttotal: 86.2ms\tremaining: 222ms\n",
      "140:\tlearn: 124.6530278\ttotal: 86.5ms\tremaining: 220ms\n",
      "141:\tlearn: 123.4539010\ttotal: 86.8ms\tremaining: 219ms\n",
      "142:\tlearn: 122.8980001\ttotal: 87.2ms\tremaining: 218ms\n",
      "143:\tlearn: 122.0911177\ttotal: 87.5ms\tremaining: 216ms\n",
      "144:\tlearn: 121.1209154\ttotal: 87.8ms\tremaining: 215ms\n",
      "145:\tlearn: 120.1613553\ttotal: 88.2ms\tremaining: 214ms\n",
      "146:\tlearn: 119.1894727\ttotal: 88.6ms\tremaining: 213ms\n",
      "147:\tlearn: 118.0325732\ttotal: 89ms\tremaining: 212ms\n",
      "148:\tlearn: 117.9138240\ttotal: 89.3ms\tremaining: 210ms\n",
      "149:\tlearn: 117.3831462\ttotal: 89.7ms\tremaining: 209ms\n",
      "150:\tlearn: 116.8475244\ttotal: 90ms\tremaining: 208ms\n",
      "151:\tlearn: 116.3821954\ttotal: 90.4ms\tremaining: 207ms\n",
      "152:\tlearn: 115.5293176\ttotal: 90.8ms\tremaining: 206ms\n",
      "153:\tlearn: 115.0975175\ttotal: 91.1ms\tremaining: 205ms\n",
      "154:\tlearn: 114.0649594\ttotal: 91.4ms\tremaining: 204ms\n",
      "155:\tlearn: 113.2562326\ttotal: 91.8ms\tremaining: 202ms\n",
      "156:\tlearn: 112.7557871\ttotal: 92.1ms\tremaining: 201ms\n",
      "157:\tlearn: 112.5657565\ttotal: 92.5ms\tremaining: 200ms\n",
      "158:\tlearn: 112.3541525\ttotal: 92.8ms\tremaining: 199ms\n",
      "159:\tlearn: 111.8527982\ttotal: 93.2ms\tremaining: 198ms\n",
      "160:\tlearn: 111.1619644\ttotal: 93.5ms\tremaining: 197ms\n",
      "161:\tlearn: 110.3588257\ttotal: 93.8ms\tremaining: 196ms\n",
      "162:\tlearn: 109.6664293\ttotal: 94.2ms\tremaining: 195ms\n",
      "163:\tlearn: 109.5577303\ttotal: 94.5ms\tremaining: 194ms\n",
      "164:\tlearn: 109.0570285\ttotal: 94.9ms\tremaining: 193ms\n",
      "165:\tlearn: 108.7601467\ttotal: 95.3ms\tremaining: 192ms\n",
      "166:\tlearn: 108.0448620\ttotal: 95.8ms\tremaining: 191ms\n",
      "167:\tlearn: 107.5593372\ttotal: 96.1ms\tremaining: 190ms\n",
      "168:\tlearn: 106.3862999\ttotal: 96.5ms\tremaining: 189ms\n",
      "169:\tlearn: 106.2180807\ttotal: 96.9ms\tremaining: 188ms\n",
      "170:\tlearn: 106.0695603\ttotal: 97.3ms\tremaining: 187ms\n",
      "171:\tlearn: 105.6940213\ttotal: 97.6ms\tremaining: 186ms\n",
      "172:\tlearn: 104.7598987\ttotal: 97.9ms\tremaining: 185ms\n",
      "173:\tlearn: 104.6589992\ttotal: 98.3ms\tremaining: 184ms\n",
      "174:\tlearn: 103.7203657\ttotal: 98.6ms\tremaining: 183ms\n",
      "175:\tlearn: 103.2660987\ttotal: 99ms\tremaining: 182ms\n",
      "176:\tlearn: 103.0926213\ttotal: 99.3ms\tremaining: 181ms\n",
      "177:\tlearn: 102.6925209\ttotal: 99.6ms\tremaining: 180ms\n",
      "178:\tlearn: 102.1655154\ttotal: 100ms\tremaining: 179ms\n",
      "179:\tlearn: 101.8273108\ttotal: 100ms\tremaining: 178ms\n",
      "180:\tlearn: 101.7264515\ttotal: 101ms\tremaining: 177ms\n",
      "181:\tlearn: 101.1102333\ttotal: 101ms\tremaining: 177ms\n",
      "182:\tlearn: 100.7880364\ttotal: 101ms\tremaining: 176ms\n",
      "183:\tlearn: 100.6673014\ttotal: 102ms\tremaining: 175ms\n",
      "184:\tlearn: 100.0153055\ttotal: 102ms\tremaining: 174ms\n",
      "185:\tlearn: 99.7667281\ttotal: 103ms\tremaining: 173ms\n",
      "186:\tlearn: 99.1860593\ttotal: 103ms\tremaining: 172ms\n",
      "187:\tlearn: 99.0408133\ttotal: 103ms\tremaining: 171ms\n",
      "188:\tlearn: 98.9030718\ttotal: 104ms\tremaining: 170ms\n",
      "189:\tlearn: 97.4513860\ttotal: 104ms\tremaining: 169ms\n",
      "190:\tlearn: 97.3322959\ttotal: 104ms\tremaining: 169ms\n",
      "191:\tlearn: 97.1950848\ttotal: 105ms\tremaining: 168ms\n",
      "192:\tlearn: 96.6789532\ttotal: 105ms\tremaining: 167ms\n",
      "193:\tlearn: 96.5506179\ttotal: 105ms\tremaining: 166ms\n",
      "194:\tlearn: 95.6635039\ttotal: 106ms\tremaining: 165ms\n",
      "195:\tlearn: 94.8850777\ttotal: 106ms\tremaining: 164ms\n",
      "196:\tlearn: 94.1624589\ttotal: 106ms\tremaining: 164ms\n",
      "197:\tlearn: 93.8220662\ttotal: 107ms\tremaining: 163ms\n",
      "198:\tlearn: 93.7300351\ttotal: 107ms\tremaining: 162ms\n",
      "199:\tlearn: 93.3339522\ttotal: 108ms\tremaining: 161ms\n",
      "200:\tlearn: 93.2187899\ttotal: 108ms\tremaining: 161ms\n",
      "201:\tlearn: 93.1229893\ttotal: 108ms\tremaining: 160ms\n",
      "202:\tlearn: 92.3652609\ttotal: 109ms\tremaining: 159ms\n",
      "203:\tlearn: 91.9783646\ttotal: 109ms\tremaining: 158ms\n",
      "204:\tlearn: 91.9001315\ttotal: 109ms\tremaining: 157ms\n",
      "205:\tlearn: 91.3853485\ttotal: 110ms\tremaining: 157ms\n",
      "206:\tlearn: 91.0739799\ttotal: 110ms\tremaining: 156ms\n",
      "207:\tlearn: 90.7397769\ttotal: 110ms\tremaining: 155ms\n",
      "208:\tlearn: 90.6559298\ttotal: 111ms\tremaining: 154ms\n",
      "209:\tlearn: 90.1743419\ttotal: 111ms\tremaining: 153ms\n",
      "210:\tlearn: 89.5990722\ttotal: 111ms\tremaining: 153ms\n",
      "211:\tlearn: 89.2669888\ttotal: 112ms\tremaining: 152ms\n",
      "212:\tlearn: 88.7659276\ttotal: 112ms\tremaining: 151ms\n",
      "213:\tlearn: 88.4770095\ttotal: 112ms\tremaining: 150ms\n",
      "214:\tlearn: 88.3764741\ttotal: 113ms\tremaining: 150ms\n",
      "215:\tlearn: 88.0525649\ttotal: 113ms\tremaining: 149ms\n",
      "216:\tlearn: 87.9761846\ttotal: 114ms\tremaining: 148ms\n",
      "217:\tlearn: 87.6042730\ttotal: 114ms\tremaining: 147ms\n",
      "218:\tlearn: 86.9514620\ttotal: 114ms\tremaining: 147ms\n",
      "219:\tlearn: 86.8967405\ttotal: 115ms\tremaining: 146ms\n",
      "220:\tlearn: 86.2438941\ttotal: 115ms\tremaining: 145ms\n",
      "221:\tlearn: 85.5834415\ttotal: 115ms\tremaining: 144ms\n",
      "222:\tlearn: 85.0300334\ttotal: 116ms\tremaining: 144ms\n",
      "223:\tlearn: 84.4518944\ttotal: 116ms\tremaining: 143ms\n",
      "224:\tlearn: 84.1336997\ttotal: 116ms\tremaining: 142ms\n",
      "225:\tlearn: 83.3363884\ttotal: 117ms\tremaining: 141ms\n",
      "226:\tlearn: 83.0804458\ttotal: 117ms\tremaining: 141ms\n",
      "227:\tlearn: 82.8233471\ttotal: 117ms\tremaining: 140ms\n",
      "228:\tlearn: 82.5337644\ttotal: 118ms\tremaining: 139ms\n",
      "229:\tlearn: 81.8142344\ttotal: 118ms\tremaining: 139ms\n",
      "230:\tlearn: 81.5004564\ttotal: 118ms\tremaining: 138ms\n",
      "231:\tlearn: 81.2798023\ttotal: 119ms\tremaining: 137ms\n",
      "232:\tlearn: 80.7611552\ttotal: 119ms\tremaining: 136ms\n",
      "233:\tlearn: 80.3886115\ttotal: 119ms\tremaining: 136ms\n",
      "234:\tlearn: 80.1299339\ttotal: 120ms\tremaining: 135ms\n",
      "235:\tlearn: 79.8491967\ttotal: 120ms\tremaining: 134ms\n",
      "236:\tlearn: 79.5615744\ttotal: 120ms\tremaining: 134ms\n",
      "237:\tlearn: 79.3117577\ttotal: 121ms\tremaining: 133ms\n",
      "238:\tlearn: 79.1086712\ttotal: 121ms\tremaining: 132ms\n",
      "239:\tlearn: 78.8298680\ttotal: 121ms\tremaining: 132ms\n",
      "240:\tlearn: 78.4353578\ttotal: 122ms\tremaining: 131ms\n",
      "241:\tlearn: 77.8564527\ttotal: 122ms\tremaining: 130ms\n",
      "242:\tlearn: 77.3853191\ttotal: 123ms\tremaining: 130ms\n",
      "243:\tlearn: 76.9503413\ttotal: 123ms\tremaining: 129ms\n",
      "244:\tlearn: 76.8791584\ttotal: 123ms\tremaining: 128ms\n",
      "245:\tlearn: 76.8091242\ttotal: 124ms\tremaining: 128ms\n",
      "246:\tlearn: 76.3259755\ttotal: 124ms\tremaining: 127ms\n",
      "247:\tlearn: 76.2576074\ttotal: 124ms\tremaining: 126ms\n",
      "248:\tlearn: 75.6197714\ttotal: 125ms\tremaining: 126ms\n",
      "249:\tlearn: 75.1108267\ttotal: 125ms\tremaining: 125ms\n",
      "250:\tlearn: 74.8951285\ttotal: 125ms\tremaining: 124ms\n",
      "251:\tlearn: 74.1881361\ttotal: 126ms\tremaining: 124ms\n",
      "252:\tlearn: 73.7075979\ttotal: 126ms\tremaining: 123ms\n",
      "253:\tlearn: 73.6579077\ttotal: 126ms\tremaining: 122ms\n",
      "254:\tlearn: 73.1865737\ttotal: 127ms\tremaining: 122ms\n",
      "255:\tlearn: 72.9702795\ttotal: 127ms\tremaining: 121ms\n",
      "256:\tlearn: 72.9155046\ttotal: 127ms\tremaining: 120ms\n",
      "257:\tlearn: 72.6118600\ttotal: 128ms\tremaining: 120ms\n",
      "258:\tlearn: 72.5577657\ttotal: 128ms\tremaining: 119ms\n",
      "259:\tlearn: 72.1525257\ttotal: 128ms\tremaining: 119ms\n",
      "260:\tlearn: 71.7943854\ttotal: 129ms\tremaining: 118ms\n",
      "261:\tlearn: 71.1090815\ttotal: 129ms\tremaining: 117ms\n",
      "262:\tlearn: 70.6948771\ttotal: 129ms\tremaining: 117ms\n",
      "263:\tlearn: 70.3614682\ttotal: 130ms\tremaining: 116ms\n",
      "264:\tlearn: 70.0417470\ttotal: 130ms\tremaining: 115ms\n",
      "265:\tlearn: 69.7026420\ttotal: 131ms\tremaining: 115ms\n",
      "266:\tlearn: 69.5040036\ttotal: 131ms\tremaining: 114ms\n",
      "267:\tlearn: 69.1426951\ttotal: 131ms\tremaining: 114ms\n",
      "268:\tlearn: 68.7942828\ttotal: 131ms\tremaining: 113ms\n",
      "269:\tlearn: 68.4519486\ttotal: 132ms\tremaining: 112ms\n",
      "270:\tlearn: 68.2501241\ttotal: 132ms\tremaining: 112ms\n",
      "271:\tlearn: 67.7950677\ttotal: 133ms\tremaining: 111ms\n",
      "272:\tlearn: 67.6253379\ttotal: 133ms\tremaining: 110ms\n",
      "273:\tlearn: 67.0299652\ttotal: 133ms\tremaining: 110ms\n",
      "274:\tlearn: 66.8269749\ttotal: 134ms\tremaining: 109ms\n",
      "275:\tlearn: 66.6473738\ttotal: 134ms\tremaining: 109ms\n",
      "276:\tlearn: 66.5896053\ttotal: 134ms\tremaining: 108ms\n",
      "277:\tlearn: 66.3475217\ttotal: 135ms\tremaining: 108ms\n",
      "278:\tlearn: 66.2949248\ttotal: 135ms\tremaining: 107ms\n",
      "279:\tlearn: 65.8505003\ttotal: 135ms\tremaining: 106ms\n",
      "280:\tlearn: 65.7054325\ttotal: 136ms\tremaining: 106ms\n",
      "281:\tlearn: 65.6563114\ttotal: 136ms\tremaining: 105ms\n",
      "282:\tlearn: 65.1152051\ttotal: 136ms\tremaining: 105ms\n",
      "283:\tlearn: 65.0016484\ttotal: 137ms\tremaining: 104ms\n",
      "284:\tlearn: 64.8592135\ttotal: 137ms\tremaining: 103ms\n",
      "285:\tlearn: 64.2616048\ttotal: 137ms\tremaining: 103ms\n",
      "286:\tlearn: 64.2091713\ttotal: 138ms\tremaining: 102ms\n",
      "287:\tlearn: 63.8230195\ttotal: 138ms\tremaining: 102ms\n",
      "288:\tlearn: 63.3548107\ttotal: 138ms\tremaining: 101ms\n",
      "289:\tlearn: 63.0655464\ttotal: 139ms\tremaining: 100ms\n",
      "290:\tlearn: 62.9430786\ttotal: 139ms\tremaining: 99.9ms\n",
      "291:\tlearn: 62.7630773\ttotal: 139ms\tremaining: 99.3ms\n",
      "292:\tlearn: 62.7062866\ttotal: 140ms\tremaining: 98.8ms\n",
      "293:\tlearn: 62.2544559\ttotal: 140ms\tremaining: 98.3ms\n",
      "294:\tlearn: 61.7409243\ttotal: 141ms\tremaining: 97.7ms\n",
      "295:\tlearn: 61.2323802\ttotal: 141ms\tremaining: 97.1ms\n",
      "296:\tlearn: 60.8444601\ttotal: 141ms\tremaining: 96.6ms\n",
      "297:\tlearn: 60.6799729\ttotal: 142ms\tremaining: 96ms\n",
      "298:\tlearn: 60.2743546\ttotal: 142ms\tremaining: 95.4ms\n",
      "299:\tlearn: 60.1192569\ttotal: 142ms\tremaining: 94.8ms\n",
      "300:\tlearn: 59.8115193\ttotal: 143ms\tremaining: 94.3ms\n",
      "301:\tlearn: 59.7738185\ttotal: 143ms\tremaining: 93.8ms\n",
      "302:\tlearn: 59.7275400\ttotal: 143ms\tremaining: 93.2ms\n",
      "303:\tlearn: 59.4185605\ttotal: 144ms\tremaining: 92.6ms\n",
      "304:\tlearn: 59.3739449\ttotal: 144ms\tremaining: 92.1ms\n",
      "305:\tlearn: 59.1037010\ttotal: 144ms\tremaining: 91.6ms\n",
      "306:\tlearn: 59.0623401\ttotal: 145ms\tremaining: 91ms\n",
      "307:\tlearn: 58.8334515\ttotal: 145ms\tremaining: 90.5ms\n",
      "308:\tlearn: 58.7008075\ttotal: 146ms\tremaining: 90ms\n",
      "309:\tlearn: 58.4241697\ttotal: 146ms\tremaining: 89.5ms\n",
      "310:\tlearn: 58.3909058\ttotal: 146ms\tremaining: 88.9ms\n",
      "311:\tlearn: 58.3560202\ttotal: 147ms\tremaining: 88.4ms\n",
      "312:\tlearn: 58.2244185\ttotal: 147ms\tremaining: 87.8ms\n",
      "313:\tlearn: 58.1989980\ttotal: 147ms\tremaining: 87.3ms\n",
      "314:\tlearn: 57.7480707\ttotal: 148ms\tremaining: 86.8ms\n",
      "315:\tlearn: 57.6045885\ttotal: 148ms\tremaining: 86.2ms\n",
      "316:\tlearn: 57.3661913\ttotal: 148ms\tremaining: 85.7ms\n",
      "317:\tlearn: 57.0509648\ttotal: 149ms\tremaining: 85.1ms\n",
      "318:\tlearn: 57.0192439\ttotal: 149ms\tremaining: 84.6ms\n",
      "319:\tlearn: 56.9939523\ttotal: 149ms\tremaining: 84ms\n",
      "320:\tlearn: 56.8405228\ttotal: 150ms\tremaining: 83.5ms\n",
      "321:\tlearn: 56.7420280\ttotal: 150ms\tremaining: 83ms\n",
      "322:\tlearn: 56.4477010\ttotal: 150ms\tremaining: 82.4ms\n",
      "323:\tlearn: 56.0826853\ttotal: 151ms\tremaining: 81.9ms\n",
      "324:\tlearn: 56.0624323\ttotal: 151ms\tremaining: 81.4ms\n",
      "325:\tlearn: 55.8598134\ttotal: 151ms\tremaining: 80.8ms\n",
      "326:\tlearn: 55.6077885\ttotal: 152ms\tremaining: 80.3ms\n",
      "327:\tlearn: 55.5141385\ttotal: 152ms\tremaining: 79.8ms\n",
      "328:\tlearn: 55.1578748\ttotal: 152ms\tremaining: 79.3ms\n",
      "329:\tlearn: 54.8687586\ttotal: 153ms\tremaining: 78.7ms\n",
      "330:\tlearn: 54.6149903\ttotal: 153ms\tremaining: 78.2ms\n",
      "331:\tlearn: 54.3373137\ttotal: 154ms\tremaining: 77.7ms\n",
      "332:\tlearn: 54.3010723\ttotal: 154ms\tremaining: 77.2ms\n",
      "333:\tlearn: 54.0034968\ttotal: 154ms\tremaining: 76.6ms\n",
      "334:\tlearn: 53.4838324\ttotal: 155ms\tremaining: 76.1ms\n",
      "335:\tlearn: 53.2427876\ttotal: 155ms\tremaining: 75.6ms\n",
      "336:\tlearn: 52.9841644\ttotal: 155ms\tremaining: 75.1ms\n",
      "337:\tlearn: 52.7883900\ttotal: 156ms\tremaining: 74.5ms\n",
      "338:\tlearn: 52.4044440\ttotal: 156ms\tremaining: 74ms\n",
      "339:\tlearn: 52.1002255\ttotal: 156ms\tremaining: 73.5ms\n",
      "340:\tlearn: 52.0565385\ttotal: 157ms\tremaining: 73ms\n",
      "341:\tlearn: 51.8333144\ttotal: 157ms\tremaining: 72.5ms\n",
      "342:\tlearn: 51.6373574\ttotal: 157ms\tremaining: 72ms\n",
      "343:\tlearn: 51.5215560\ttotal: 158ms\tremaining: 71.5ms\n",
      "344:\tlearn: 51.4715068\ttotal: 158ms\tremaining: 71ms\n",
      "345:\tlearn: 51.3708693\ttotal: 158ms\tremaining: 70.5ms\n",
      "346:\tlearn: 51.3487490\ttotal: 159ms\tremaining: 69.9ms\n",
      "347:\tlearn: 51.1293205\ttotal: 159ms\tremaining: 69.4ms\n",
      "348:\tlearn: 50.7968307\ttotal: 159ms\tremaining: 68.9ms\n",
      "349:\tlearn: 50.4247981\ttotal: 160ms\tremaining: 68.4ms\n",
      "350:\tlearn: 50.1184662\ttotal: 160ms\tremaining: 67.9ms\n",
      "351:\tlearn: 50.0158233\ttotal: 160ms\tremaining: 67.4ms\n",
      "352:\tlearn: 49.8167355\ttotal: 161ms\tremaining: 66.9ms\n",
      "353:\tlearn: 49.7231504\ttotal: 161ms\tremaining: 66.4ms\n",
      "354:\tlearn: 49.5735896\ttotal: 161ms\tremaining: 65.9ms\n",
      "355:\tlearn: 49.3370822\ttotal: 162ms\tremaining: 65.4ms\n",
      "356:\tlearn: 49.1271597\ttotal: 162ms\tremaining: 64.9ms\n",
      "357:\tlearn: 48.6671601\ttotal: 162ms\tremaining: 64.4ms\n",
      "358:\tlearn: 48.5820922\ttotal: 163ms\tremaining: 63.9ms\n",
      "359:\tlearn: 48.2968035\ttotal: 163ms\tremaining: 63.4ms\n",
      "360:\tlearn: 48.2725179\ttotal: 163ms\tremaining: 62.9ms\n",
      "361:\tlearn: 48.2491857\ttotal: 164ms\tremaining: 62.4ms\n",
      "362:\tlearn: 47.9937707\ttotal: 164ms\tremaining: 61.9ms\n",
      "363:\tlearn: 47.7546913\ttotal: 164ms\tremaining: 61.4ms\n",
      "364:\tlearn: 47.6351159\ttotal: 165ms\tremaining: 60.9ms\n",
      "365:\tlearn: 47.4573219\ttotal: 165ms\tremaining: 60.4ms\n",
      "366:\tlearn: 47.2461884\ttotal: 165ms\tremaining: 59.9ms\n",
      "367:\tlearn: 47.0831336\ttotal: 166ms\tremaining: 59.4ms\n",
      "368:\tlearn: 47.0616046\ttotal: 166ms\tremaining: 59ms\n",
      "369:\tlearn: 46.8167805\ttotal: 166ms\tremaining: 58.4ms\n",
      "370:\tlearn: 46.7105749\ttotal: 167ms\tremaining: 58ms\n",
      "371:\tlearn: 46.5238776\ttotal: 167ms\tremaining: 57.5ms\n",
      "372:\tlearn: 46.2028434\ttotal: 167ms\tremaining: 57ms\n",
      "373:\tlearn: 45.9839526\ttotal: 168ms\tremaining: 56.5ms\n",
      "374:\tlearn: 45.9116724\ttotal: 168ms\tremaining: 56ms\n",
      "375:\tlearn: 45.7320516\ttotal: 168ms\tremaining: 55.5ms\n",
      "376:\tlearn: 45.4374263\ttotal: 169ms\tremaining: 55ms\n",
      "377:\tlearn: 45.4057546\ttotal: 169ms\tremaining: 54.6ms\n",
      "378:\tlearn: 45.1327165\ttotal: 169ms\tremaining: 54.1ms\n",
      "379:\tlearn: 45.0209604\ttotal: 170ms\tremaining: 53.6ms\n",
      "380:\tlearn: 44.8196593\ttotal: 170ms\tremaining: 53.2ms\n",
      "381:\tlearn: 44.5039384\ttotal: 171ms\tremaining: 52.7ms\n",
      "382:\tlearn: 44.2600323\ttotal: 171ms\tremaining: 52.2ms\n",
      "383:\tlearn: 44.0151561\ttotal: 171ms\tremaining: 51.7ms\n",
      "384:\tlearn: 43.9556570\ttotal: 172ms\tremaining: 51.3ms\n",
      "385:\tlearn: 43.9359597\ttotal: 172ms\tremaining: 50.8ms\n",
      "386:\tlearn: 43.7555080\ttotal: 172ms\tremaining: 50.3ms\n",
      "387:\tlearn: 43.7373019\ttotal: 173ms\tremaining: 49.9ms\n",
      "388:\tlearn: 43.5293640\ttotal: 173ms\tremaining: 49.5ms\n",
      "389:\tlearn: 43.3730365\ttotal: 174ms\tremaining: 49ms\n",
      "390:\tlearn: 43.1909656\ttotal: 174ms\tremaining: 48.6ms\n",
      "391:\tlearn: 42.8856830\ttotal: 175ms\tremaining: 48.1ms\n",
      "392:\tlearn: 42.6992411\ttotal: 175ms\tremaining: 47.7ms\n",
      "393:\tlearn: 42.5465749\ttotal: 175ms\tremaining: 47.2ms\n",
      "394:\tlearn: 42.4807979\ttotal: 176ms\tremaining: 46.7ms\n",
      "395:\tlearn: 42.2916183\ttotal: 176ms\tremaining: 46.3ms\n",
      "396:\tlearn: 42.1037568\ttotal: 177ms\tremaining: 45.8ms\n",
      "397:\tlearn: 41.8981932\ttotal: 177ms\tremaining: 45.3ms\n",
      "398:\tlearn: 41.7248917\ttotal: 177ms\tremaining: 44.9ms\n",
      "399:\tlearn: 41.6301069\ttotal: 178ms\tremaining: 44.4ms\n",
      "400:\tlearn: 41.4400764\ttotal: 178ms\tremaining: 43.9ms\n",
      "401:\tlearn: 41.3090865\ttotal: 178ms\tremaining: 43.5ms\n",
      "402:\tlearn: 41.1301442\ttotal: 179ms\tremaining: 43ms\n",
      "403:\tlearn: 41.0443482\ttotal: 179ms\tremaining: 42.5ms\n",
      "404:\tlearn: 40.8259644\ttotal: 179ms\tremaining: 42.1ms\n",
      "405:\tlearn: 40.7839263\ttotal: 180ms\tremaining: 41.6ms\n",
      "406:\tlearn: 40.5480337\ttotal: 180ms\tremaining: 41.1ms\n",
      "407:\tlearn: 40.3715893\ttotal: 180ms\tremaining: 40.7ms\n",
      "408:\tlearn: 40.0394045\ttotal: 181ms\tremaining: 40.2ms\n",
      "409:\tlearn: 40.0086630\ttotal: 181ms\tremaining: 39.7ms\n",
      "410:\tlearn: 39.8104476\ttotal: 181ms\tremaining: 39.3ms\n",
      "411:\tlearn: 39.7843849\ttotal: 182ms\tremaining: 38.8ms\n",
      "412:\tlearn: 39.5300372\ttotal: 182ms\tremaining: 38.4ms\n",
      "413:\tlearn: 39.4430130\ttotal: 182ms\tremaining: 37.9ms\n",
      "414:\tlearn: 39.3629631\ttotal: 183ms\tremaining: 37.4ms\n",
      "415:\tlearn: 39.1293840\ttotal: 183ms\tremaining: 37ms\n",
      "416:\tlearn: 38.9691684\ttotal: 183ms\tremaining: 36.5ms\n",
      "417:\tlearn: 38.8190384\ttotal: 184ms\tremaining: 36.1ms\n",
      "418:\tlearn: 38.7077834\ttotal: 184ms\tremaining: 35.6ms\n",
      "419:\tlearn: 38.4779254\ttotal: 184ms\tremaining: 35.1ms\n",
      "420:\tlearn: 38.2678683\ttotal: 185ms\tremaining: 34.7ms\n",
      "421:\tlearn: 38.0994389\ttotal: 185ms\tremaining: 34.2ms\n",
      "422:\tlearn: 38.0005916\ttotal: 186ms\tremaining: 33.8ms\n",
      "423:\tlearn: 37.8385180\ttotal: 186ms\tremaining: 33.4ms\n",
      "424:\tlearn: 37.8083452\ttotal: 187ms\tremaining: 32.9ms\n",
      "425:\tlearn: 37.5174336\ttotal: 187ms\tremaining: 32.5ms\n",
      "426:\tlearn: 37.3208834\ttotal: 187ms\tremaining: 32ms\n",
      "427:\tlearn: 37.1185556\ttotal: 188ms\tremaining: 31.6ms\n",
      "428:\tlearn: 36.9282531\ttotal: 188ms\tremaining: 31.1ms\n",
      "429:\tlearn: 36.8200949\ttotal: 188ms\tremaining: 30.7ms\n",
      "430:\tlearn: 36.5845945\ttotal: 189ms\tremaining: 30.2ms\n",
      "431:\tlearn: 36.4529306\ttotal: 189ms\tremaining: 29.8ms\n",
      "432:\tlearn: 36.3720600\ttotal: 189ms\tremaining: 29.3ms\n",
      "433:\tlearn: 36.2143120\ttotal: 190ms\tremaining: 28.9ms\n",
      "434:\tlearn: 36.1631312\ttotal: 190ms\tremaining: 28.4ms\n",
      "435:\tlearn: 36.0260171\ttotal: 190ms\tremaining: 27.9ms\n",
      "436:\tlearn: 35.9587903\ttotal: 191ms\tremaining: 27.5ms\n",
      "437:\tlearn: 35.7467530\ttotal: 191ms\tremaining: 27ms\n",
      "438:\tlearn: 35.6636162\ttotal: 191ms\tremaining: 26.6ms\n",
      "439:\tlearn: 35.3997824\ttotal: 192ms\tremaining: 26.1ms\n",
      "440:\tlearn: 35.3553789\ttotal: 192ms\tremaining: 25.7ms\n",
      "441:\tlearn: 35.2699314\ttotal: 192ms\tremaining: 25.2ms\n",
      "442:\tlearn: 35.1306846\ttotal: 193ms\tremaining: 24.8ms\n",
      "443:\tlearn: 34.9610274\ttotal: 193ms\tremaining: 24.4ms\n",
      "444:\tlearn: 34.7856232\ttotal: 193ms\tremaining: 23.9ms\n",
      "445:\tlearn: 34.7614923\ttotal: 194ms\tremaining: 23.5ms\n",
      "446:\tlearn: 34.6543743\ttotal: 194ms\tremaining: 23ms\n",
      "447:\tlearn: 34.5959377\ttotal: 195ms\tremaining: 22.6ms\n",
      "448:\tlearn: 34.5691317\ttotal: 195ms\tremaining: 22.1ms\n",
      "449:\tlearn: 34.4629374\ttotal: 195ms\tremaining: 21.7ms\n",
      "450:\tlearn: 34.3200339\ttotal: 196ms\tremaining: 21.3ms\n",
      "451:\tlearn: 34.1540496\ttotal: 196ms\tremaining: 20.8ms\n",
      "452:\tlearn: 34.0985391\ttotal: 196ms\tremaining: 20.4ms\n",
      "453:\tlearn: 33.9918761\ttotal: 197ms\tremaining: 19.9ms\n",
      "454:\tlearn: 33.8657847\ttotal: 197ms\tremaining: 19.5ms\n",
      "455:\tlearn: 33.8438159\ttotal: 198ms\tremaining: 19.1ms\n",
      "456:\tlearn: 33.7117534\ttotal: 198ms\tremaining: 18.6ms\n",
      "457:\tlearn: 33.6771055\ttotal: 198ms\tremaining: 18.2ms\n",
      "458:\tlearn: 33.6340909\ttotal: 199ms\tremaining: 17.7ms\n",
      "459:\tlearn: 33.4471051\ttotal: 199ms\tremaining: 17.3ms\n",
      "460:\tlearn: 33.3443100\ttotal: 199ms\tremaining: 16.9ms\n",
      "461:\tlearn: 33.3006352\ttotal: 200ms\tremaining: 16.4ms\n",
      "462:\tlearn: 33.1630995\ttotal: 200ms\tremaining: 16ms\n",
      "463:\tlearn: 33.0996695\ttotal: 200ms\tremaining: 15.6ms\n",
      "464:\tlearn: 32.9952267\ttotal: 201ms\tremaining: 15.1ms\n",
      "465:\tlearn: 32.8806709\ttotal: 201ms\tremaining: 14.7ms\n",
      "466:\tlearn: 32.8402030\ttotal: 202ms\tremaining: 14.2ms\n",
      "467:\tlearn: 32.7515554\ttotal: 202ms\tremaining: 13.8ms\n",
      "468:\tlearn: 32.5705783\ttotal: 202ms\tremaining: 13.4ms\n",
      "469:\tlearn: 32.4509155\ttotal: 203ms\tremaining: 12.9ms\n",
      "470:\tlearn: 32.3653375\ttotal: 203ms\tremaining: 12.5ms\n",
      "471:\tlearn: 32.3354708\ttotal: 203ms\tremaining: 12.1ms\n",
      "472:\tlearn: 32.2452625\ttotal: 204ms\tremaining: 11.6ms\n",
      "473:\tlearn: 32.2128326\ttotal: 204ms\tremaining: 11.2ms\n",
      "474:\tlearn: 32.1039579\ttotal: 204ms\tremaining: 10.7ms\n",
      "475:\tlearn: 31.9549739\ttotal: 205ms\tremaining: 10.3ms\n",
      "476:\tlearn: 31.7831113\ttotal: 205ms\tremaining: 9.88ms\n",
      "477:\tlearn: 31.6923157\ttotal: 205ms\tremaining: 9.45ms\n",
      "478:\tlearn: 31.5483905\ttotal: 206ms\tremaining: 9.01ms\n",
      "479:\tlearn: 31.5175537\ttotal: 206ms\tremaining: 8.58ms\n",
      "480:\tlearn: 31.4981942\ttotal: 206ms\tremaining: 8.15ms\n",
      "481:\tlearn: 31.4399583\ttotal: 207ms\tremaining: 7.72ms\n",
      "482:\tlearn: 31.3121387\ttotal: 207ms\tremaining: 7.28ms\n",
      "483:\tlearn: 31.2522235\ttotal: 207ms\tremaining: 6.85ms\n",
      "484:\tlearn: 31.2267889\ttotal: 208ms\tremaining: 6.42ms\n",
      "485:\tlearn: 31.1412081\ttotal: 208ms\tremaining: 5.99ms\n",
      "486:\tlearn: 30.8518019\ttotal: 208ms\tremaining: 5.56ms\n",
      "487:\tlearn: 30.7746221\ttotal: 209ms\tremaining: 5.13ms\n",
      "488:\tlearn: 30.6671436\ttotal: 209ms\tremaining: 4.7ms\n",
      "489:\tlearn: 30.6538437\ttotal: 209ms\tremaining: 4.27ms\n",
      "490:\tlearn: 30.4773758\ttotal: 210ms\tremaining: 3.84ms\n",
      "491:\tlearn: 30.3351390\ttotal: 210ms\tremaining: 3.42ms\n",
      "492:\tlearn: 30.0672228\ttotal: 210ms\tremaining: 2.99ms\n",
      "493:\tlearn: 30.0359966\ttotal: 211ms\tremaining: 2.56ms\n",
      "494:\tlearn: 29.8504506\ttotal: 211ms\tremaining: 2.13ms\n",
      "495:\tlearn: 29.6461509\ttotal: 211ms\tremaining: 1.7ms\n",
      "496:\tlearn: 29.4447781\ttotal: 212ms\tremaining: 1.28ms\n",
      "497:\tlearn: 29.3848746\ttotal: 212ms\tremaining: 851us\n",
      "498:\tlearn: 29.2432694\ttotal: 212ms\tremaining: 425us\n",
      "499:\tlearn: 29.1284294\ttotal: 213ms\tremaining: 0us\n"
     ]
    }
   ],
   "source": [
    "catb_tuned = CatBoostRegressor(depth = 3, iterations = 500, learning_rate = 0.1).fit(X_train, y_train)"
   ]
  },
  {
   "cell_type": "code",
   "execution_count": 324,
   "id": "b4d36a12-082d-40e0-8cd6-671451dd2ac1",
   "metadata": {},
   "outputs": [],
   "source": [
    "y_pred = catb_tuned.predict(X_test)"
   ]
  },
  {
   "cell_type": "code",
   "execution_count": 325,
   "id": "9367c90f-4988-4a93-b736-1df6f492c45b",
   "metadata": {},
   "outputs": [
    {
     "data": {
      "text/plain": [
       "336.40041748521486"
      ]
     },
     "execution_count": 325,
     "metadata": {},
     "output_type": "execute_result"
    }
   ],
   "source": [
    "np.sqrt(mean_squared_error(y_test, y_pred))"
   ]
  },
  {
   "cell_type": "markdown",
   "id": "56d09cd2-c9aa-4f48-8ae5-b7686fe9293f",
   "metadata": {
    "tags": []
   },
   "source": [
    "# MAKINE OGRENMESI GOREVLERININ OTOMATIKLESTIRILMESI"
   ]
  },
  {
   "cell_type": "code",
   "execution_count": 1,
   "id": "66bd56ee-1fab-4615-8488-e76cad4a77a6",
   "metadata": {},
   "outputs": [],
   "source": [
    "#yukarıda tekrar edilen tüm olayları tek bir fonksiyonda yazıp otomatikleştirme işlemimizi yapıyoruz"
   ]
  },
  {
   "cell_type": "code",
   "execution_count": 228,
   "id": "2f475ca8-1f9f-4d6e-ae64-00a628739c16",
   "metadata": {},
   "outputs": [],
   "source": [
    "df = pd.read_csv(\"Hitters.csv\")\n",
    "df = df.dropna()\n",
    "dms = pd.get_dummies(df[['League', 'Division', 'NewLeague']])"
   ]
  },
  {
   "cell_type": "code",
   "execution_count": 317,
   "id": "43258c9c-6ce1-4bb7-9220-e5c24a3080b5",
   "metadata": {
    "tags": []
   },
   "outputs": [],
   "source": [
    "def compML(df, y, alg):\n",
    "    #train-test ayrimi\n",
    "    y = df[y]\n",
    "    X_ = df.drop(['Salary', 'League', 'Division', 'NewLeague'], axis=1).astype('float64')\n",
    "    X = pd.concat([X_, dms[['League_N', 'Division_W', 'NewLeague_N']]], axis=1)\n",
    "    X_train, X_test, y_train, y_test = train_test_split(X,y,test_size=0.25,random_state=42)\n",
    "    #modelleme\n",
    "    model = alg().fit(X_train, y_train)\n",
    "    y_pred = model.predict(X_test)\n",
    "    RMSE = np.sqrt(mean_squared_error(y_test, y_pred))\n",
    "    model_ismi = alg.__name__\n",
    "    print(model_ismi, \"Modeli Test Hatası:\",RMSE)"
   ]
  },
  {
   "cell_type": "code",
   "execution_count": 318,
   "id": "b0268e27-5d29-4e71-9a34-3c6ca72a7e5f",
   "metadata": {},
   "outputs": [
    {
     "name": "stdout",
     "output_type": "stream",
     "text": [
      "SVR Modeli Test Hatası: 473.4445984431814\n"
     ]
    }
   ],
   "source": [
    "compML(df, \"Salary\", SVR)"
   ]
  },
  {
   "cell_type": "code",
   "execution_count": 283,
   "id": "6b600957-6d40-46e0-bf3e-3ba114e162e5",
   "metadata": {
    "tags": []
   },
   "outputs": [],
   "source": [
    "models = [LGBMRegressor, \n",
    "          XGBRegressor, \n",
    "          GradientBoostingRegressor, \n",
    "          RandomForestRegressor, \n",
    "          DecisionTreeRegressor,\n",
    "          MLPRegressor,\n",
    "          KNeighborsRegressor, \n",
    "          SVR]"
   ]
  },
  {
   "cell_type": "code",
   "execution_count": 320,
   "id": "4ca87f56-e651-4f45-8973-8d30eb3ce7e2",
   "metadata": {
    "tags": []
   },
   "outputs": [
    {
     "name": "stdout",
     "output_type": "stream",
     "text": [
      "LGBMRegressor Modeli Test Hatası: 363.8712087611089\n",
      "[13:53:39] WARNING: src/objective/regression_obj.cu:152: reg:linear is now deprecated in favor of reg:squarederror.\n",
      "XGBRegressor Modeli Test Hatası: 359.91750599447033\n",
      "GradientBoostingRegressor Modeli Test Hatası: 349.7674420565306\n",
      "RandomForestRegressor Modeli Test Hatası: 351.39463394426684\n",
      "DecisionTreeRegressor Modeli Test Hatası: 519.1159209070132\n",
      "MLPRegressor Modeli Test Hatası: 465.65322522489663\n",
      "KNeighborsRegressor Modeli Test Hatası: 426.6570764525201\n",
      "SVR Modeli Test Hatası: 473.4445984431814\n"
     ]
    }
   ],
   "source": [
    "for i in models:\n",
    "    compML(df, \"Salary\", i)"
   ]
  }
 ],
 "metadata": {
  "kernelspec": {
   "display_name": "Python 3 (ipykernel)",
   "language": "python",
   "name": "python3"
  },
  "language_info": {
   "codemirror_mode": {
    "name": "ipython",
    "version": 3
   },
   "file_extension": ".py",
   "mimetype": "text/x-python",
   "name": "python",
   "nbconvert_exporter": "python",
   "pygments_lexer": "ipython3",
   "version": "3.9.12"
  }
 },
 "nbformat": 4,
 "nbformat_minor": 5
}
